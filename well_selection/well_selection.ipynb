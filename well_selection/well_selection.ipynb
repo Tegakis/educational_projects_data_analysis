{
 "cells": [
  {
   "cell_type": "markdown",
   "metadata": {},
   "source": [
    "# Choosing a Location for Drilling"
   ]
  },
  {
   "cell_type": "markdown",
   "metadata": {},
   "source": [
    "**Objective:** \n",
    "\n",
    "You are provided with oil samples from three regions, each containing 10,000 deposits where the quality of the oil and the volume of reserves have been measured. Build a machine learning model to determine which region will yield the highest profit from extraction. Analyze the potential profit and risks using the *Bootstrap* technique.\n",
    "\n",
    "**Steps to Determine the Optimal Location:**\n",
    "\n",
    "- In the selected region, identify the deposits and determine the feature values for each.\n",
    "- Build a model and estimate the volume of reserves.\n",
    "- Select deposits with the highest estimated values. The number of deposits will depend on the company's budget and the cost of drilling each well.\n",
    "- Profit equals the total profit from the selected deposits."
   ]
  },
  {
   "cell_type": "markdown",
   "metadata": {},
   "source": [
    "## Loading and Preparing the Data"
   ]
  },
  {
   "cell_type": "code",
   "execution_count": 1,
   "metadata": {},
   "outputs": [],
   "source": [
    "# Importing All Necessary Libraries\n",
    "import pandas as pd\n",
    "import numpy as np\n",
    "from sklearn.model_selection import train_test_split\n",
    "from sklearn.linear_model import LinearRegression\n",
    "from sklearn.metrics import mean_squared_error"
   ]
  },
  {
   "cell_type": "code",
   "execution_count": 2,
   "metadata": {},
   "outputs": [
    {
     "name": "stdout",
     "output_type": "stream",
     "text": [
      "      id        f0        f1        f2     product\n",
      "0  txEyH  0.705745 -0.497823  1.221170  105.280062\n",
      "1  2acmU  1.334711 -0.340164  4.365080   73.037750\n",
      "2  409Wp  1.022732  0.151990  1.419926   85.265647\n",
      "3  iJLyR -0.032172  0.139033  2.978566  168.620776\n",
      "4  Xdl7t  1.988431  0.155413  4.751769  154.036647\n",
      "      id         f0         f1        f2     product\n",
      "0  kBEdx -15.001348  -8.276000 -0.005876    3.179103\n",
      "1  62mP7  14.272088  -3.475083  0.999183   26.953261\n",
      "2  vyE1P   6.263187  -5.948386  5.001160  134.766305\n",
      "3  KcrkZ -13.081196 -11.506057  4.999415  137.945408\n",
      "4  AHL4O  12.702195  -8.147433  5.004363  134.766305\n",
      "      id        f0        f1        f2     product\n",
      "0  fwXo0 -1.146987  0.963328 -0.828965   27.758673\n",
      "1  WJtFt  0.262778  0.269839 -2.530187   56.069697\n",
      "2  ovLUW  0.194587  0.289035 -5.586433   62.871910\n",
      "3  q6cA6  2.236060 -0.553760  0.930038  114.572842\n",
      "4  WPMUX -0.515993  1.716266  5.899011  149.600746\n"
     ]
    }
   ],
   "source": [
    "# Let's Take a Look at the Datasets\n",
    "data_0 = pd.read_csv('/datasets/geo_data_0.csv')\n",
    "print(data_0.head())\n",
    "\n",
    "data_1 = pd.read_csv('/datasets/geo_data_1.csv')\n",
    "print(data_1.head())\n",
    "\n",
    "data_2 = pd.read_csv('/datasets/geo_data_2.csv')\n",
    "print(data_2.head())"
   ]
  },
  {
   "cell_type": "code",
   "execution_count": 3,
   "metadata": {},
   "outputs": [
    {
     "data": {
      "text/html": [
       "<div>\n",
       "<style scoped>\n",
       "    .dataframe tbody tr th:only-of-type {\n",
       "        vertical-align: middle;\n",
       "    }\n",
       "\n",
       "    .dataframe tbody tr th {\n",
       "        vertical-align: top;\n",
       "    }\n",
       "\n",
       "    .dataframe thead th {\n",
       "        text-align: right;\n",
       "    }\n",
       "</style>\n",
       "<table border=\"1\" class=\"dataframe\">\n",
       "  <thead>\n",
       "    <tr style=\"text-align: right;\">\n",
       "      <th></th>\n",
       "      <th>id</th>\n",
       "      <th>f0</th>\n",
       "      <th>f1</th>\n",
       "      <th>f2</th>\n",
       "      <th>product</th>\n",
       "    </tr>\n",
       "  </thead>\n",
       "  <tbody>\n",
       "    <tr>\n",
       "      <th>count</th>\n",
       "      <td>100000</td>\n",
       "      <td>100000.000000</td>\n",
       "      <td>100000.000000</td>\n",
       "      <td>100000.000000</td>\n",
       "      <td>100000.000000</td>\n",
       "    </tr>\n",
       "    <tr>\n",
       "      <th>unique</th>\n",
       "      <td>99990</td>\n",
       "      <td>NaN</td>\n",
       "      <td>NaN</td>\n",
       "      <td>NaN</td>\n",
       "      <td>NaN</td>\n",
       "    </tr>\n",
       "    <tr>\n",
       "      <th>top</th>\n",
       "      <td>HZww2</td>\n",
       "      <td>NaN</td>\n",
       "      <td>NaN</td>\n",
       "      <td>NaN</td>\n",
       "      <td>NaN</td>\n",
       "    </tr>\n",
       "    <tr>\n",
       "      <th>freq</th>\n",
       "      <td>2</td>\n",
       "      <td>NaN</td>\n",
       "      <td>NaN</td>\n",
       "      <td>NaN</td>\n",
       "      <td>NaN</td>\n",
       "    </tr>\n",
       "    <tr>\n",
       "      <th>mean</th>\n",
       "      <td>NaN</td>\n",
       "      <td>0.500419</td>\n",
       "      <td>0.250143</td>\n",
       "      <td>2.502647</td>\n",
       "      <td>92.500000</td>\n",
       "    </tr>\n",
       "    <tr>\n",
       "      <th>std</th>\n",
       "      <td>NaN</td>\n",
       "      <td>0.871832</td>\n",
       "      <td>0.504433</td>\n",
       "      <td>3.248248</td>\n",
       "      <td>44.288691</td>\n",
       "    </tr>\n",
       "    <tr>\n",
       "      <th>min</th>\n",
       "      <td>NaN</td>\n",
       "      <td>-1.408605</td>\n",
       "      <td>-0.848218</td>\n",
       "      <td>-12.088328</td>\n",
       "      <td>0.000000</td>\n",
       "    </tr>\n",
       "    <tr>\n",
       "      <th>25%</th>\n",
       "      <td>NaN</td>\n",
       "      <td>-0.072580</td>\n",
       "      <td>-0.200881</td>\n",
       "      <td>0.287748</td>\n",
       "      <td>56.497507</td>\n",
       "    </tr>\n",
       "    <tr>\n",
       "      <th>50%</th>\n",
       "      <td>NaN</td>\n",
       "      <td>0.502360</td>\n",
       "      <td>0.250252</td>\n",
       "      <td>2.515969</td>\n",
       "      <td>91.849972</td>\n",
       "    </tr>\n",
       "    <tr>\n",
       "      <th>75%</th>\n",
       "      <td>NaN</td>\n",
       "      <td>1.073581</td>\n",
       "      <td>0.700646</td>\n",
       "      <td>4.715088</td>\n",
       "      <td>128.564089</td>\n",
       "    </tr>\n",
       "    <tr>\n",
       "      <th>max</th>\n",
       "      <td>NaN</td>\n",
       "      <td>2.362331</td>\n",
       "      <td>1.343769</td>\n",
       "      <td>16.003790</td>\n",
       "      <td>185.364347</td>\n",
       "    </tr>\n",
       "  </tbody>\n",
       "</table>\n",
       "</div>"
      ],
      "text/plain": [
       "            id             f0             f1             f2        product\n",
       "count   100000  100000.000000  100000.000000  100000.000000  100000.000000\n",
       "unique   99990            NaN            NaN            NaN            NaN\n",
       "top      HZww2            NaN            NaN            NaN            NaN\n",
       "freq         2            NaN            NaN            NaN            NaN\n",
       "mean       NaN       0.500419       0.250143       2.502647      92.500000\n",
       "std        NaN       0.871832       0.504433       3.248248      44.288691\n",
       "min        NaN      -1.408605      -0.848218     -12.088328       0.000000\n",
       "25%        NaN      -0.072580      -0.200881       0.287748      56.497507\n",
       "50%        NaN       0.502360       0.250252       2.515969      91.849972\n",
       "75%        NaN       1.073581       0.700646       4.715088     128.564089\n",
       "max        NaN       2.362331       1.343769      16.003790     185.364347"
      ]
     },
     "execution_count": 3,
     "metadata": {},
     "output_type": "execute_result"
    }
   ],
   "source": [
    "# Exploring the Datasets\n",
    "data_0.describe(include='all')"
   ]
  },
  {
   "cell_type": "code",
   "execution_count": 4,
   "metadata": {},
   "outputs": [
    {
     "data": {
      "text/html": [
       "<div>\n",
       "<style scoped>\n",
       "    .dataframe tbody tr th:only-of-type {\n",
       "        vertical-align: middle;\n",
       "    }\n",
       "\n",
       "    .dataframe tbody tr th {\n",
       "        vertical-align: top;\n",
       "    }\n",
       "\n",
       "    .dataframe thead th {\n",
       "        text-align: right;\n",
       "    }\n",
       "</style>\n",
       "<table border=\"1\" class=\"dataframe\">\n",
       "  <thead>\n",
       "    <tr style=\"text-align: right;\">\n",
       "      <th></th>\n",
       "      <th>id</th>\n",
       "      <th>f0</th>\n",
       "      <th>f1</th>\n",
       "      <th>f2</th>\n",
       "      <th>product</th>\n",
       "    </tr>\n",
       "  </thead>\n",
       "  <tbody>\n",
       "    <tr>\n",
       "      <th>count</th>\n",
       "      <td>100000</td>\n",
       "      <td>100000.000000</td>\n",
       "      <td>100000.000000</td>\n",
       "      <td>100000.000000</td>\n",
       "      <td>100000.000000</td>\n",
       "    </tr>\n",
       "    <tr>\n",
       "      <th>unique</th>\n",
       "      <td>99996</td>\n",
       "      <td>NaN</td>\n",
       "      <td>NaN</td>\n",
       "      <td>NaN</td>\n",
       "      <td>NaN</td>\n",
       "    </tr>\n",
       "    <tr>\n",
       "      <th>top</th>\n",
       "      <td>wt4Uk</td>\n",
       "      <td>NaN</td>\n",
       "      <td>NaN</td>\n",
       "      <td>NaN</td>\n",
       "      <td>NaN</td>\n",
       "    </tr>\n",
       "    <tr>\n",
       "      <th>freq</th>\n",
       "      <td>2</td>\n",
       "      <td>NaN</td>\n",
       "      <td>NaN</td>\n",
       "      <td>NaN</td>\n",
       "      <td>NaN</td>\n",
       "    </tr>\n",
       "    <tr>\n",
       "      <th>mean</th>\n",
       "      <td>NaN</td>\n",
       "      <td>1.141296</td>\n",
       "      <td>-4.796579</td>\n",
       "      <td>2.494541</td>\n",
       "      <td>68.825000</td>\n",
       "    </tr>\n",
       "    <tr>\n",
       "      <th>std</th>\n",
       "      <td>NaN</td>\n",
       "      <td>8.965932</td>\n",
       "      <td>5.119872</td>\n",
       "      <td>1.703572</td>\n",
       "      <td>45.944423</td>\n",
       "    </tr>\n",
       "    <tr>\n",
       "      <th>min</th>\n",
       "      <td>NaN</td>\n",
       "      <td>-31.609576</td>\n",
       "      <td>-26.358598</td>\n",
       "      <td>-0.018144</td>\n",
       "      <td>0.000000</td>\n",
       "    </tr>\n",
       "    <tr>\n",
       "      <th>25%</th>\n",
       "      <td>NaN</td>\n",
       "      <td>-6.298551</td>\n",
       "      <td>-8.267985</td>\n",
       "      <td>1.000021</td>\n",
       "      <td>26.953261</td>\n",
       "    </tr>\n",
       "    <tr>\n",
       "      <th>50%</th>\n",
       "      <td>NaN</td>\n",
       "      <td>1.153055</td>\n",
       "      <td>-4.813172</td>\n",
       "      <td>2.011479</td>\n",
       "      <td>57.085625</td>\n",
       "    </tr>\n",
       "    <tr>\n",
       "      <th>75%</th>\n",
       "      <td>NaN</td>\n",
       "      <td>8.621015</td>\n",
       "      <td>-1.332816</td>\n",
       "      <td>3.999904</td>\n",
       "      <td>107.813044</td>\n",
       "    </tr>\n",
       "    <tr>\n",
       "      <th>max</th>\n",
       "      <td>NaN</td>\n",
       "      <td>29.421755</td>\n",
       "      <td>18.734063</td>\n",
       "      <td>5.019721</td>\n",
       "      <td>137.945408</td>\n",
       "    </tr>\n",
       "  </tbody>\n",
       "</table>\n",
       "</div>"
      ],
      "text/plain": [
       "            id             f0             f1             f2        product\n",
       "count   100000  100000.000000  100000.000000  100000.000000  100000.000000\n",
       "unique   99996            NaN            NaN            NaN            NaN\n",
       "top      wt4Uk            NaN            NaN            NaN            NaN\n",
       "freq         2            NaN            NaN            NaN            NaN\n",
       "mean       NaN       1.141296      -4.796579       2.494541      68.825000\n",
       "std        NaN       8.965932       5.119872       1.703572      45.944423\n",
       "min        NaN     -31.609576     -26.358598      -0.018144       0.000000\n",
       "25%        NaN      -6.298551      -8.267985       1.000021      26.953261\n",
       "50%        NaN       1.153055      -4.813172       2.011479      57.085625\n",
       "75%        NaN       8.621015      -1.332816       3.999904     107.813044\n",
       "max        NaN      29.421755      18.734063       5.019721     137.945408"
      ]
     },
     "execution_count": 4,
     "metadata": {},
     "output_type": "execute_result"
    }
   ],
   "source": [
    "data_1.describe(include='all')"
   ]
  },
  {
   "cell_type": "code",
   "execution_count": 5,
   "metadata": {},
   "outputs": [
    {
     "data": {
      "text/html": [
       "<div>\n",
       "<style scoped>\n",
       "    .dataframe tbody tr th:only-of-type {\n",
       "        vertical-align: middle;\n",
       "    }\n",
       "\n",
       "    .dataframe tbody tr th {\n",
       "        vertical-align: top;\n",
       "    }\n",
       "\n",
       "    .dataframe thead th {\n",
       "        text-align: right;\n",
       "    }\n",
       "</style>\n",
       "<table border=\"1\" class=\"dataframe\">\n",
       "  <thead>\n",
       "    <tr style=\"text-align: right;\">\n",
       "      <th></th>\n",
       "      <th>id</th>\n",
       "      <th>f0</th>\n",
       "      <th>f1</th>\n",
       "      <th>f2</th>\n",
       "      <th>product</th>\n",
       "    </tr>\n",
       "  </thead>\n",
       "  <tbody>\n",
       "    <tr>\n",
       "      <th>count</th>\n",
       "      <td>100000</td>\n",
       "      <td>100000.000000</td>\n",
       "      <td>100000.000000</td>\n",
       "      <td>100000.000000</td>\n",
       "      <td>100000.000000</td>\n",
       "    </tr>\n",
       "    <tr>\n",
       "      <th>unique</th>\n",
       "      <td>99996</td>\n",
       "      <td>NaN</td>\n",
       "      <td>NaN</td>\n",
       "      <td>NaN</td>\n",
       "      <td>NaN</td>\n",
       "    </tr>\n",
       "    <tr>\n",
       "      <th>top</th>\n",
       "      <td>KUPhW</td>\n",
       "      <td>NaN</td>\n",
       "      <td>NaN</td>\n",
       "      <td>NaN</td>\n",
       "      <td>NaN</td>\n",
       "    </tr>\n",
       "    <tr>\n",
       "      <th>freq</th>\n",
       "      <td>2</td>\n",
       "      <td>NaN</td>\n",
       "      <td>NaN</td>\n",
       "      <td>NaN</td>\n",
       "      <td>NaN</td>\n",
       "    </tr>\n",
       "    <tr>\n",
       "      <th>mean</th>\n",
       "      <td>NaN</td>\n",
       "      <td>0.002023</td>\n",
       "      <td>-0.002081</td>\n",
       "      <td>2.495128</td>\n",
       "      <td>95.000000</td>\n",
       "    </tr>\n",
       "    <tr>\n",
       "      <th>std</th>\n",
       "      <td>NaN</td>\n",
       "      <td>1.732045</td>\n",
       "      <td>1.730417</td>\n",
       "      <td>3.473445</td>\n",
       "      <td>44.749921</td>\n",
       "    </tr>\n",
       "    <tr>\n",
       "      <th>min</th>\n",
       "      <td>NaN</td>\n",
       "      <td>-8.760004</td>\n",
       "      <td>-7.084020</td>\n",
       "      <td>-11.970335</td>\n",
       "      <td>0.000000</td>\n",
       "    </tr>\n",
       "    <tr>\n",
       "      <th>25%</th>\n",
       "      <td>NaN</td>\n",
       "      <td>-1.162288</td>\n",
       "      <td>-1.174820</td>\n",
       "      <td>0.130359</td>\n",
       "      <td>59.450441</td>\n",
       "    </tr>\n",
       "    <tr>\n",
       "      <th>50%</th>\n",
       "      <td>NaN</td>\n",
       "      <td>0.009424</td>\n",
       "      <td>-0.009482</td>\n",
       "      <td>2.484236</td>\n",
       "      <td>94.925613</td>\n",
       "    </tr>\n",
       "    <tr>\n",
       "      <th>75%</th>\n",
       "      <td>NaN</td>\n",
       "      <td>1.158535</td>\n",
       "      <td>1.163678</td>\n",
       "      <td>4.858794</td>\n",
       "      <td>130.595027</td>\n",
       "    </tr>\n",
       "    <tr>\n",
       "      <th>max</th>\n",
       "      <td>NaN</td>\n",
       "      <td>7.238262</td>\n",
       "      <td>7.844801</td>\n",
       "      <td>16.739402</td>\n",
       "      <td>190.029838</td>\n",
       "    </tr>\n",
       "  </tbody>\n",
       "</table>\n",
       "</div>"
      ],
      "text/plain": [
       "            id             f0             f1             f2        product\n",
       "count   100000  100000.000000  100000.000000  100000.000000  100000.000000\n",
       "unique   99996            NaN            NaN            NaN            NaN\n",
       "top      KUPhW            NaN            NaN            NaN            NaN\n",
       "freq         2            NaN            NaN            NaN            NaN\n",
       "mean       NaN       0.002023      -0.002081       2.495128      95.000000\n",
       "std        NaN       1.732045       1.730417       3.473445      44.749921\n",
       "min        NaN      -8.760004      -7.084020     -11.970335       0.000000\n",
       "25%        NaN      -1.162288      -1.174820       0.130359      59.450441\n",
       "50%        NaN       0.009424      -0.009482       2.484236      94.925613\n",
       "75%        NaN       1.158535       1.163678       4.858794     130.595027\n",
       "max        NaN       7.238262       7.844801      16.739402     190.029838"
      ]
     },
     "execution_count": 5,
     "metadata": {},
     "output_type": "execute_result"
    }
   ],
   "source": [
    "data_2.describe(include='all')"
   ]
  },
  {
   "cell_type": "markdown",
   "metadata": {},
   "source": [
    "I noticed an anomaly in the dataset: the number of elements in the `id` column and the number of unique values in it do not match in each dataset. This could be due to several reasons: there might be missing values in the dataset, duplicate rows, or data points could have been split across multiple rows.\n",
    "\n",
    "We need to investigate the cause."
   ]
  },
  {
   "cell_type": "code",
   "execution_count": 6,
   "metadata": {},
   "outputs": [
    {
     "name": "stdout",
     "output_type": "stream",
     "text": [
      "Empty DataFrame\n",
      "Columns: [id, f0, f1, f2, product]\n",
      "Index: []\n",
      "Empty DataFrame\n",
      "Columns: [id, f0, f1, f2, product]\n",
      "Index: []\n",
      "Empty DataFrame\n",
      "Columns: [id, f0, f1, f2, product]\n",
      "Index: []\n"
     ]
    }
   ],
   "source": [
    "# Searching for Duplicates\n",
    "print(data_0[data_0.duplicated()])\n",
    "print(data_1[data_1.duplicated()])\n",
    "print(data_2[data_2.duplicated()])"
   ]
  },
  {
   "cell_type": "markdown",
   "metadata": {},
   "source": [
    "No duplicates were found."
   ]
  },
  {
   "cell_type": "code",
   "execution_count": 7,
   "metadata": {},
   "outputs": [
    {
     "name": "stdout",
     "output_type": "stream",
     "text": [
      "data_0\n",
      "id : 0\n",
      "f0 : 0\n",
      "f1 : 0\n",
      "f2 : 0\n",
      "product : 0\n",
      "data_1\n",
      "id : 0\n",
      "f0 : 0\n",
      "f1 : 0\n",
      "f2 : 0\n",
      "product : 0\n",
      "data_2\n",
      "id : 0\n",
      "f0 : 0\n",
      "f1 : 0\n",
      "f2 : 0\n",
      "product : 0\n"
     ]
    }
   ],
   "source": [
    "print('data_0')\n",
    "for i in ['id', 'f0', 'f1', 'f2', 'product']:\n",
    "    print(i, ':', data_0[i].isna().sum())\n",
    "\n",
    "print('data_1')\n",
    "for i in ['id', 'f0', 'f1', 'f2', 'product']:\n",
    "    print(i, ':', data_1[i].isna().sum())\n",
    "\n",
    "print('data_2')\n",
    "for i in ['id', 'f0', 'f1', 'f2', 'product']:\n",
    "    print(i, ':', data_2[i].isna().sum())"
   ]
  },
  {
   "cell_type": "markdown",
   "metadata": {},
   "source": [
    "There are no missing values. The remaining issue is that data for a single point may have been split across multiple rows. We will correct this."
   ]
  },
  {
   "cell_type": "code",
   "execution_count": 8,
   "metadata": {},
   "outputs": [],
   "source": [
    "# Grouping and Summarizing the Data\n",
    "data_0 = data_0.groupby('id').sum().reset_index()\n",
    "data_1 = data_1.groupby('id').sum().reset_index()\n",
    "data_2 = data_2.groupby('id').sum().reset_index()"
   ]
  },
  {
   "cell_type": "markdown",
   "metadata": {},
   "source": [
    "**Conclusion:**\n",
    "\n",
    "The data check was successful. All datasets were loaded and reviewed. An anomaly in the `id` column was detected and corrected."
   ]
  },
  {
   "cell_type": "markdown",
   "metadata": {},
   "source": [
    "## Training and Evaluating the Model"
   ]
  },
  {
   "cell_type": "code",
   "execution_count": 9,
   "metadata": {},
   "outputs": [],
   "source": [
    "# Extracting Features and Targets from All Datasets\n",
    "target_0 = data_0['product']\n",
    "target_1 = data_1['product']\n",
    "target_2 = data_2['product']\n",
    "features_0 = data_0.drop(['product', 'id'], axis=1)\n",
    "features_1 = data_1.drop(['product', 'id'], axis=1)\n",
    "features_2 = data_2.drop(['product', 'id'], axis=1)"
   ]
  },
  {
   "cell_type": "code",
   "execution_count": 10,
   "metadata": {},
   "outputs": [],
   "source": [
    "features_train_0, features_valid_0, target_train_0, target_valid_0 =\\\n",
    "train_test_split(features_0, target_0, test_size=0.25, random_state=404540)\n",
    "\n",
    "features_train_1, features_valid_1, target_train_1, target_valid_1 =\\\n",
    "train_test_split(features_1, target_1, test_size=0.25, random_state=404540)\n",
    "\n",
    "features_train_2, features_valid_2, target_train_2, target_valid_2 =\\\n",
    "train_test_split(features_2, target_2, test_size=0.25, random_state=404540)"
   ]
  },
  {
   "cell_type": "code",
   "execution_count": 11,
   "metadata": {},
   "outputs": [
    {
     "name": "stdout",
     "output_type": "stream",
     "text": [
      "f0    74992\n",
      "f1    74992\n",
      "f2    74992\n",
      "dtype: int64\n"
     ]
    },
    {
     "data": {
      "text/plain": [
       "f0    24998\n",
       "f1    24998\n",
       "f2    24998\n",
       "dtype: int64"
      ]
     },
     "execution_count": 11,
     "metadata": {},
     "output_type": "execute_result"
    }
   ],
   "source": [
    "# Let's Check\n",
    "print(features_train_0.count())\n",
    "features_valid_0.count()"
   ]
  },
  {
   "cell_type": "code",
   "execution_count": 12,
   "metadata": {},
   "outputs": [
    {
     "name": "stdout",
     "output_type": "stream",
     "text": [
      "реальное среднее региона: 92.37590379111649\n",
      "rmse: 37.91941705115252\n",
      "среднее региона: 92.69152797933344\n"
     ]
    }
   ],
   "source": [
    "model = LinearRegression()\n",
    "model.fit(features_train_0, target_train_0)\n",
    "prediction_0 = model.predict(features_valid_0)\n",
    "error = mean_squared_error(target_valid_0, prediction_0) ** 0.5\n",
    "print('реальное среднее региона:', target_valid_0.mean())\n",
    "print('rmse:', error)\n",
    "print('среднее региона:', prediction_0.mean())"
   ]
  },
  {
   "cell_type": "code",
   "execution_count": 13,
   "metadata": {},
   "outputs": [
    {
     "name": "stdout",
     "output_type": "stream",
     "text": [
      "реальное среднее региона: 69.00661381144667\n",
      "rmse: 0.8937225224888704\n",
      "среднее региона: 68.99871110680868\n"
     ]
    }
   ],
   "source": [
    "model.fit(features_train_1, target_train_1)\n",
    "prediction_1 = model.predict(features_valid_1)\n",
    "error = mean_squared_error(target_valid_1, prediction_1) ** 0.5\n",
    "print('реальное среднее региона:', target_valid_1.mean())\n",
    "print('rmse:', error)\n",
    "print('среднее региона:', prediction_1.mean())"
   ]
  },
  {
   "cell_type": "code",
   "execution_count": 14,
   "metadata": {},
   "outputs": [
    {
     "name": "stdout",
     "output_type": "stream",
     "text": [
      "реальное среднее региона: 95.28390554153665\n",
      "rmse 39.957916008212315\n",
      "среднее региона: 95.0941215156349\n"
     ]
    }
   ],
   "source": [
    "model.fit(features_train_2, target_train_2)\n",
    "prediction_2 = model.predict(features_valid_2)\n",
    "error = mean_squared_error(target_valid_2, prediction_2) ** 0.5\n",
    "print('реальное среднее региона:', target_valid_2.mean())\n",
    "print('rmse', error)\n",
    "print('среднее региона:', prediction_2.mean())"
   ]
  },
  {
   "cell_type": "markdown",
   "metadata": {},
   "source": [
    "**Conclusion:**\n",
    "\n",
    "The data was split into validation and training sets in a 25:75 ratio. The models were trained and results were obtained.\n",
    "\n",
    "The RMSE of the models for the first and third regions is twice as low as the real average region, indicating high prediction accuracy. However, the best predictions were achieved with the model trained on the data from the second region, with an RMSE of 0.89, reflecting very high accuracy.\n",
    "\n",
    "Regarding the average predicted reserves, the first and third regions showed similar results of approximately 90,000 barrels, while the second region averaged 68,000 barrels per point. From these results, it can be inferred that the first and third regions are more likely to be profitable. However, further investigation is required for more accurate conclusions."
   ]
  },
  {
   "cell_type": "markdown",
   "metadata": {},
   "source": [
    "## Preparing for Profit Calculation"
   ]
  },
  {
   "cell_type": "code",
   "execution_count": 15,
   "metadata": {},
   "outputs": [],
   "source": [
    "n = 200\n",
    "budget= 10e9\n",
    "bar_cost = 450000"
   ]
  },
  {
   "cell_type": "code",
   "execution_count": 16,
   "metadata": {},
   "outputs": [
    {
     "data": {
      "text/plain": [
       "111.11111111111111"
      ]
     },
     "execution_count": 16,
     "metadata": {},
     "output_type": "execute_result"
    }
   ],
   "source": [
    "budget / (bar_cost * 200)"
   ]
  },
  {
   "cell_type": "markdown",
   "metadata": {},
   "source": [
    "**Conclusion**\n",
    "\n",
    "For a region to be profitable, it should have an average of 112,000 barrels per point. None of the regions met this criterion. Further investigation is needed."
   ]
  },
  {
   "cell_type": "markdown",
   "metadata": {},
   "source": [
    "## Calculating Profit and Risks"
   ]
  },
  {
   "cell_type": "code",
   "execution_count": 17,
   "metadata": {},
   "outputs": [],
   "source": [
    "def indexes(prediction, target):\n",
    "    target = target.reset_index(drop=True)\n",
    "    prediction = pd.Series(prediction)\n",
    "    return prediction, target\n",
    "\n",
    "\n",
    "prediction_0, target_valid_0 = indexes(prediction_0, target_valid_0)\n",
    "prediction_1, target_valid_1 = indexes(prediction_1, target_valid_1)\n",
    "prediction_2, target_valid_2 = indexes(prediction_2, target_valid_2)"
   ]
  },
  {
   "cell_type": "code",
   "execution_count": 18,
   "metadata": {},
   "outputs": [],
   "source": [
    "def profit(target, prediction):\n",
    "    pred_sorted = prediction.sort_values(ascending=False)\n",
    "    target_sorted = target[pred_sorted.index][:200]\n",
    "    product = target_sorted.sum()\n",
    "    return product * bar_cost - budget"
   ]
  },
  {
   "cell_type": "code",
   "execution_count": 21,
   "metadata": {},
   "outputs": [
    {
     "data": {
      "text/plain": [
       "3040078284.236227"
      ]
     },
     "execution_count": 21,
     "metadata": {},
     "output_type": "execute_result"
    }
   ],
   "source": [
    "profit(target_valid_0, prediction_0) "
   ]
  },
  {
   "cell_type": "code",
   "execution_count": 22,
   "metadata": {},
   "outputs": [
    {
     "data": {
      "text/plain": [
       "2427215664.1457024"
      ]
     },
     "execution_count": 22,
     "metadata": {},
     "output_type": "execute_result"
    }
   ],
   "source": [
    "profit(target_valid_1, prediction_1) "
   ]
  },
  {
   "cell_type": "code",
   "execution_count": 23,
   "metadata": {},
   "outputs": [
    {
     "data": {
      "text/plain": [
       "2634774256.896986"
      ]
     },
     "execution_count": 23,
     "metadata": {},
     "output_type": "execute_result"
    }
   ],
   "source": [
    "profit(target_valid_2, prediction_2) "
   ]
  },
  {
   "cell_type": "markdown",
   "metadata": {},
   "source": [
    "**Conclusion**\n",
    "\n",
    "The first and second regions were found to be profitable, while surprisingly, the third region appears to be entirely unprofitable. Even the richest points in the third region will not cover the budget. Further investigation will be conducted."
   ]
  },
  {
   "cell_type": "code",
   "execution_count": 24,
   "metadata": {},
   "outputs": [],
   "source": [
    "state = np.random.RandomState(12345)\n",
    "def interval_risk(target, prediction):\n",
    "    list_profit = []\n",
    "    count = 0\n",
    "    for i in range(1000):\n",
    "        target_500 = target.sample(500, replace=True, random_state=state)\n",
    "        prediction_500 = prediction[target_500.index]\n",
    "        prof = profit(target_500, prediction_500)\n",
    "        list_profit.append(prof)\n",
    "        if prof < 0:\n",
    "            count += 1\n",
    "    list_profit =  pd.Series(list_profit)\n",
    "    pvalue = 1. * count / 1000\n",
    "    lower = list_profit.quantile(0.025)\n",
    "    upper = list_profit.quantile(0.975)\n",
    "    \n",
    "    return lower, upper, pvalue, list_profit.mean()"
   ]
  },
  {
   "cell_type": "code",
   "execution_count": 25,
   "metadata": {},
   "outputs": [
    {
     "name": "stdout",
     "output_type": "stream",
     "text": [
      "95% доверительный интервал от -57941948.072227135 до 938368139.894533\n",
      "шанс риска: 0.046\n",
      "средняя прибыль: 423371145.51662904\n"
     ]
    }
   ],
   "source": [
    "lower, upper, pvalue, mean = interval_risk(target_valid_0, prediction_0)\n",
    "print('95% доверительный интервал от', lower, 'до', upper)\n",
    "print('шанс риска:', pvalue)\n",
    "print('средняя прибыль:', mean)"
   ]
  },
  {
   "cell_type": "code",
   "execution_count": 26,
   "metadata": {},
   "outputs": [
    {
     "name": "stdout",
     "output_type": "stream",
     "text": [
      "95% доверительный интервал от 83827620.25552034 до 929397032.025899\n",
      "шанс риска: 0.01\n",
      "средняя прибыль: 502512797.33764553\n"
     ]
    }
   ],
   "source": [
    "lower, upper, pvalue, mean = interval_risk(target_valid_1, prediction_1)\n",
    "print('95% доверительный интервал от', lower, 'до', upper)\n",
    "print('шанс риска:', pvalue)\n",
    "print('средняя прибыль:', mean)"
   ]
  },
  {
   "cell_type": "code",
   "execution_count": 27,
   "metadata": {},
   "outputs": [
    {
     "name": "stdout",
     "output_type": "stream",
     "text": [
      "95% доверительный интервал от -114675507.1495636 до 973753888.0273303\n",
      "шанс риска: 0.064\n",
      "средняя прибыль: 426717005.04442984\n"
     ]
    }
   ],
   "source": [
    "# With the third region, it is clear that it is unprofitable in any case,\n",
    "# but let's still test the function on it to ensure its correctness\n",
    "lower, upper, pvalue, mean = interval_risk(target_valid_2, prediction_2)\n",
    "print('95% доверительный интервал от', lower, 'до', upper)\n",
    "print('шанс риска:', pvalue)\n",
    "print('средняя прибыль:', mean)"
   ]
  },
  {
   "cell_type": "markdown",
   "metadata": {},
   "source": [
    "**Conclusion**\n",
    "\n",
    "The second region has a confidence interval exclusively with positive profit values, which is a good sign. In contrast, the first and third regions have intervals with negative values. The probability of loss is 5% for the first region, 0.7% for the second region, and 100% for the third region. The second region meets the client's criteria, with a risk of loss of no more than 2.5%.\n",
    "\n",
    "My recommendation is to start exploring the second region. A more detailed rationale will be provided in the final summary."
   ]
  },
  {
   "cell_type": "markdown",
   "metadata": {},
   "source": [
    "## General Conclusion:"
   ]
  },
  {
   "cell_type": "markdown",
   "metadata": {},
   "source": [
    "**Summary of Work:**\n",
    "\n",
    "- Opened the file, checked its integrity, and corrected anomalies in the datasets.\n",
    "- Split the data into validation and training datasets with a 25:75 ratio.\n",
    "- Trained the model, predicted the target feature, analyzed the model's performance, and concluded that the model was of high quality.\n",
    "- Developed several functions for calculating profit, confidence intervals, and the likelihood of loss for each region.\n",
    "- Applied these functions to resolve the issue."
   ]
  },
  {
   "cell_type": "markdown",
   "metadata": {},
   "source": [
    "**Conclusion:**\n",
    "\n",
    "By analyzing the average oil reserves in different regions, I initially concluded that the first and third regions could be promising for the client due to their higher average reserves. Conversely, the second region had the lowest average reserves, which might not guarantee profitability.\n",
    "\n",
    "However, after conducting further analysis, the results changed. It was found that only the second region is likely to be profitable, while the first and third regions turned out to be unprofitable. Even with the 200 largest oil fields in the third region, it will not be able to fully cover its expenses.\n",
    "\n",
    "I strongly recommend focusing on the second region. Firstly, the risk of losses in the second region is significantly lower than in the others. Secondly, the 95% confidence interval for the second region includes only positive profit values, which substantially reduces the risk of loss."
   ]
  }
 ],
 "metadata": {
  "ExecuteTimeLog": [
   {
    "duration": 376,
    "start_time": "2023-04-18T13:28:39.935Z"
   },
   {
    "duration": 1827,
    "start_time": "2023-04-18T13:28:40.596Z"
   },
   {
    "duration": 133,
    "start_time": "2023-04-18T13:28:43.213Z"
   },
   {
    "duration": 101,
    "start_time": "2023-04-18T13:31:06.140Z"
   },
   {
    "duration": 129,
    "start_time": "2023-04-18T13:31:08.993Z"
   },
   {
    "duration": 87,
    "start_time": "2023-04-18T13:38:18.424Z"
   },
   {
    "duration": 104,
    "start_time": "2023-04-18T13:38:27.989Z"
   },
   {
    "duration": 413,
    "start_time": "2023-04-18T13:39:12.289Z"
   },
   {
    "duration": 19,
    "start_time": "2023-04-18T13:41:34.363Z"
   },
   {
    "duration": 60,
    "start_time": "2023-04-18T13:44:42.613Z"
   },
   {
    "duration": 1258,
    "start_time": "2023-04-18T13:44:55.163Z"
   },
   {
    "duration": 10,
    "start_time": "2023-04-18T13:45:07.122Z"
   },
   {
    "duration": 10,
    "start_time": "2023-04-18T13:45:21.429Z"
   },
   {
    "duration": 32,
    "start_time": "2023-04-18T13:47:28.592Z"
   },
   {
    "duration": 159,
    "start_time": "2023-04-18T13:49:01.412Z"
   },
   {
    "duration": 363,
    "start_time": "2023-04-18T14:02:25.286Z"
   },
   {
    "duration": 13,
    "start_time": "2023-04-18T14:13:14.109Z"
   },
   {
    "duration": 73,
    "start_time": "2023-04-18T14:14:27.726Z"
   },
   {
    "duration": 10,
    "start_time": "2023-04-18T14:14:33.403Z"
   },
   {
    "duration": 12,
    "start_time": "2023-04-18T14:15:01.956Z"
   },
   {
    "duration": 383,
    "start_time": "2023-04-18T14:15:15.803Z"
   },
   {
    "duration": 370,
    "start_time": "2023-04-18T14:15:16.188Z"
   },
   {
    "duration": 104,
    "start_time": "2023-04-18T14:15:16.560Z"
   },
   {
    "duration": 101,
    "start_time": "2023-04-18T14:15:16.666Z"
   },
   {
    "duration": 99,
    "start_time": "2023-04-18T14:15:16.769Z"
   },
   {
    "duration": 38,
    "start_time": "2023-04-18T14:15:16.870Z"
   },
   {
    "duration": 406,
    "start_time": "2023-04-18T14:15:16.910Z"
   },
   {
    "duration": 8,
    "start_time": "2023-04-18T14:15:17.318Z"
   },
   {
    "duration": 374,
    "start_time": "2023-04-18T14:15:54.910Z"
   },
   {
    "duration": 383,
    "start_time": "2023-04-18T14:15:55.286Z"
   },
   {
    "duration": 105,
    "start_time": "2023-04-18T14:15:55.670Z"
   },
   {
    "duration": 102,
    "start_time": "2023-04-18T14:15:55.777Z"
   },
   {
    "duration": 114,
    "start_time": "2023-04-18T14:15:55.881Z"
   },
   {
    "duration": 28,
    "start_time": "2023-04-18T14:15:55.997Z"
   },
   {
    "duration": 450,
    "start_time": "2023-04-18T14:15:56.027Z"
   },
   {
    "duration": 29,
    "start_time": "2023-04-18T14:15:56.479Z"
   },
   {
    "duration": 14,
    "start_time": "2023-04-18T14:16:40.132Z"
   },
   {
    "duration": 60,
    "start_time": "2023-04-18T14:32:10.243Z"
   },
   {
    "duration": 637,
    "start_time": "2023-04-18T14:32:18.744Z"
   },
   {
    "duration": 32,
    "start_time": "2023-04-18T14:32:25.507Z"
   },
   {
    "duration": 1137,
    "start_time": "2023-04-18T17:40:59.980Z"
   },
   {
    "duration": 405,
    "start_time": "2023-04-18T17:41:01.119Z"
   },
   {
    "duration": 118,
    "start_time": "2023-04-18T17:41:01.525Z"
   },
   {
    "duration": 92,
    "start_time": "2023-04-18T17:41:01.645Z"
   },
   {
    "duration": 94,
    "start_time": "2023-04-18T17:41:01.739Z"
   },
   {
    "duration": 23,
    "start_time": "2023-04-18T17:41:01.835Z"
   },
   {
    "duration": 415,
    "start_time": "2023-04-18T17:41:01.859Z"
   },
   {
    "duration": 9,
    "start_time": "2023-04-18T17:41:02.276Z"
   },
   {
    "duration": 38,
    "start_time": "2023-04-18T17:41:02.294Z"
   },
   {
    "duration": 8,
    "start_time": "2023-04-18T17:41:02.334Z"
   },
   {
    "duration": 29,
    "start_time": "2023-04-18T17:41:21.379Z"
   },
   {
    "duration": 8,
    "start_time": "2023-04-18T17:41:22.483Z"
   },
   {
    "duration": 94,
    "start_time": "2023-04-18T17:46:29.231Z"
   },
   {
    "duration": 12,
    "start_time": "2023-04-18T17:46:38.142Z"
   },
   {
    "duration": 13,
    "start_time": "2023-04-18T17:47:00.444Z"
   },
   {
    "duration": 1127,
    "start_time": "2023-04-18T17:47:22.117Z"
   },
   {
    "duration": 379,
    "start_time": "2023-04-18T17:47:23.246Z"
   },
   {
    "duration": 106,
    "start_time": "2023-04-18T17:47:23.628Z"
   },
   {
    "duration": 105,
    "start_time": "2023-04-18T17:47:23.736Z"
   },
   {
    "duration": 88,
    "start_time": "2023-04-18T17:47:23.843Z"
   },
   {
    "duration": 20,
    "start_time": "2023-04-18T17:47:23.932Z"
   },
   {
    "duration": 371,
    "start_time": "2023-04-18T17:47:23.954Z"
   },
   {
    "duration": 10,
    "start_time": "2023-04-18T17:47:24.327Z"
   },
   {
    "duration": 35,
    "start_time": "2023-04-18T17:47:24.339Z"
   },
   {
    "duration": 8,
    "start_time": "2023-04-18T17:47:24.375Z"
   },
   {
    "duration": 105,
    "start_time": "2023-04-18T17:47:24.396Z"
   },
   {
    "duration": 11,
    "start_time": "2023-04-18T17:51:21.532Z"
   },
   {
    "duration": 13,
    "start_time": "2023-04-18T17:51:29.816Z"
   },
   {
    "duration": 13,
    "start_time": "2023-04-18T17:53:19.801Z"
   },
   {
    "duration": 10,
    "start_time": "2023-04-18T17:53:59.907Z"
   },
   {
    "duration": 10,
    "start_time": "2023-04-18T17:54:09.139Z"
   },
   {
    "duration": 9,
    "start_time": "2023-04-18T17:54:21.679Z"
   },
   {
    "duration": 16,
    "start_time": "2023-04-18T17:54:37.804Z"
   },
   {
    "duration": 8,
    "start_time": "2023-04-18T17:56:13.824Z"
   },
   {
    "duration": 2,
    "start_time": "2023-04-18T17:56:18.621Z"
   },
   {
    "duration": 86,
    "start_time": "2023-04-18T17:56:24.707Z"
   },
   {
    "duration": 14,
    "start_time": "2023-04-18T17:56:37.439Z"
   },
   {
    "duration": 21,
    "start_time": "2023-04-18T17:56:51.444Z"
   },
   {
    "duration": 29,
    "start_time": "2023-04-18T17:57:07.313Z"
   },
   {
    "duration": 94,
    "start_time": "2023-04-18T17:58:42.212Z"
   },
   {
    "duration": 3,
    "start_time": "2023-04-18T17:58:48.843Z"
   },
   {
    "duration": 98,
    "start_time": "2023-04-18T17:58:54.905Z"
   },
   {
    "duration": 67,
    "start_time": "2023-04-18T17:59:10.529Z"
   },
   {
    "duration": 1144,
    "start_time": "2023-04-19T00:23:36.926Z"
   },
   {
    "duration": 932,
    "start_time": "2023-04-19T00:23:38.073Z"
   },
   {
    "duration": 122,
    "start_time": "2023-04-19T00:23:39.007Z"
   },
   {
    "duration": 99,
    "start_time": "2023-04-19T00:23:39.136Z"
   },
   {
    "duration": 129,
    "start_time": "2023-04-19T00:23:39.238Z"
   },
   {
    "duration": 27,
    "start_time": "2023-04-19T00:23:39.369Z"
   },
   {
    "duration": 505,
    "start_time": "2023-04-19T00:23:39.398Z"
   },
   {
    "duration": 11,
    "start_time": "2023-04-19T00:23:39.904Z"
   },
   {
    "duration": 57,
    "start_time": "2023-04-19T00:23:39.917Z"
   },
   {
    "duration": 9,
    "start_time": "2023-04-19T00:23:39.977Z"
   },
   {
    "duration": 16,
    "start_time": "2023-04-19T00:23:39.989Z"
   },
   {
    "duration": 74,
    "start_time": "2023-04-19T00:23:40.007Z"
   },
   {
    "duration": 176,
    "start_time": "2023-04-19T00:23:40.088Z"
   },
   {
    "duration": 228,
    "start_time": "2023-04-19T00:23:40.268Z"
   },
   {
    "duration": 14,
    "start_time": "2023-04-19T00:24:57.756Z"
   },
   {
    "duration": 16,
    "start_time": "2023-04-19T00:44:19.668Z"
   },
   {
    "duration": 18,
    "start_time": "2023-04-19T00:46:46.267Z"
   },
   {
    "duration": 14,
    "start_time": "2023-04-19T00:46:47.195Z"
   },
   {
    "duration": 15,
    "start_time": "2023-04-19T00:46:59.477Z"
   },
   {
    "duration": 1005,
    "start_time": "2023-04-19T11:13:50.072Z"
   },
   {
    "duration": 1536,
    "start_time": "2023-04-19T11:13:51.079Z"
   },
   {
    "duration": 90,
    "start_time": "2023-04-19T11:13:52.616Z"
   },
   {
    "duration": 86,
    "start_time": "2023-04-19T11:13:52.708Z"
   },
   {
    "duration": 94,
    "start_time": "2023-04-19T11:13:52.795Z"
   },
   {
    "duration": 20,
    "start_time": "2023-04-19T11:13:52.891Z"
   },
   {
    "duration": 353,
    "start_time": "2023-04-19T11:13:52.913Z"
   },
   {
    "duration": 9,
    "start_time": "2023-04-19T11:13:53.268Z"
   },
   {
    "duration": 36,
    "start_time": "2023-04-19T11:13:53.278Z"
   },
   {
    "duration": 7,
    "start_time": "2023-04-19T11:13:53.316Z"
   },
   {
    "duration": 28,
    "start_time": "2023-04-19T11:13:53.324Z"
   },
   {
    "duration": 82,
    "start_time": "2023-04-19T11:13:53.353Z"
   },
   {
    "duration": 102,
    "start_time": "2023-04-19T11:13:53.437Z"
   },
   {
    "duration": 107,
    "start_time": "2023-04-19T11:13:53.542Z"
   },
   {
    "duration": 90,
    "start_time": "2023-04-19T11:13:53.650Z"
   },
   {
    "duration": 173,
    "start_time": "2023-04-19T11:13:53.745Z"
   },
   {
    "duration": 4,
    "start_time": "2023-04-19T11:14:03.696Z"
   },
   {
    "duration": 3,
    "start_time": "2023-04-19T11:14:19.765Z"
   },
   {
    "duration": 8,
    "start_time": "2023-04-19T11:18:40.555Z"
   },
   {
    "duration": 7,
    "start_time": "2023-04-19T11:19:03.213Z"
   },
   {
    "duration": 4,
    "start_time": "2023-04-19T11:19:21.060Z"
   },
   {
    "duration": 3,
    "start_time": "2023-04-19T11:19:34.186Z"
   },
   {
    "duration": 4,
    "start_time": "2023-04-19T11:19:48.737Z"
   },
   {
    "duration": 3,
    "start_time": "2023-04-19T11:19:58.882Z"
   },
   {
    "duration": 4,
    "start_time": "2023-04-19T11:20:17.647Z"
   },
   {
    "duration": 8,
    "start_time": "2023-04-19T11:20:23.454Z"
   },
   {
    "duration": 7,
    "start_time": "2023-04-19T11:22:01.489Z"
   },
   {
    "duration": 7,
    "start_time": "2023-04-19T11:22:09.372Z"
   },
   {
    "duration": 8,
    "start_time": "2023-04-19T11:22:51.240Z"
   },
   {
    "duration": 3,
    "start_time": "2023-04-19T11:22:57.358Z"
   },
   {
    "duration": 5,
    "start_time": "2023-04-19T11:23:04.289Z"
   },
   {
    "duration": 3,
    "start_time": "2023-04-19T11:28:37.047Z"
   },
   {
    "duration": 4,
    "start_time": "2023-04-19T11:28:37.896Z"
   },
   {
    "duration": 3,
    "start_time": "2023-04-19T11:29:41.426Z"
   },
   {
    "duration": 6,
    "start_time": "2023-04-19T11:30:03.617Z"
   },
   {
    "duration": 3,
    "start_time": "2023-04-19T11:30:11.540Z"
   },
   {
    "duration": 4,
    "start_time": "2023-04-19T11:30:13.069Z"
   },
   {
    "duration": 4,
    "start_time": "2023-04-19T11:30:34.797Z"
   },
   {
    "duration": 4,
    "start_time": "2023-04-19T11:30:48.271Z"
   },
   {
    "duration": 5,
    "start_time": "2023-04-19T11:31:00.753Z"
   },
   {
    "duration": 4,
    "start_time": "2023-04-19T11:31:35.329Z"
   },
   {
    "duration": 3,
    "start_time": "2023-04-19T11:33:44.185Z"
   },
   {
    "duration": 6,
    "start_time": "2023-04-19T11:33:45.466Z"
   },
   {
    "duration": 4,
    "start_time": "2023-04-19T11:33:59.148Z"
   },
   {
    "duration": 4,
    "start_time": "2023-04-19T11:33:59.904Z"
   },
   {
    "duration": 3,
    "start_time": "2023-04-19T11:34:19.298Z"
   },
   {
    "duration": 4,
    "start_time": "2023-04-19T11:34:20.503Z"
   },
   {
    "duration": 3,
    "start_time": "2023-04-19T11:34:31.370Z"
   },
   {
    "duration": 5,
    "start_time": "2023-04-19T11:34:31.759Z"
   },
   {
    "duration": 4,
    "start_time": "2023-04-19T11:34:39.123Z"
   },
   {
    "duration": 3,
    "start_time": "2023-04-19T11:34:41.556Z"
   },
   {
    "duration": 3,
    "start_time": "2023-04-19T11:34:58.578Z"
   },
   {
    "duration": 5,
    "start_time": "2023-04-19T11:34:58.954Z"
   },
   {
    "duration": 4,
    "start_time": "2023-04-19T11:35:20.548Z"
   },
   {
    "duration": 5,
    "start_time": "2023-04-19T11:35:21.016Z"
   },
   {
    "duration": 2,
    "start_time": "2023-04-19T11:35:55.311Z"
   },
   {
    "duration": 3,
    "start_time": "2023-04-19T11:35:55.739Z"
   },
   {
    "duration": 5,
    "start_time": "2023-04-19T11:36:23.332Z"
   },
   {
    "duration": 5,
    "start_time": "2023-04-19T11:36:44.648Z"
   },
   {
    "duration": 4,
    "start_time": "2023-04-19T12:17:43.661Z"
   },
   {
    "duration": 5,
    "start_time": "2023-04-19T12:17:57.070Z"
   },
   {
    "duration": 4,
    "start_time": "2023-04-19T12:19:53.131Z"
   },
   {
    "duration": 4,
    "start_time": "2023-04-19T12:20:00.373Z"
   },
   {
    "duration": 5,
    "start_time": "2023-04-19T12:20:01.128Z"
   },
   {
    "duration": 4,
    "start_time": "2023-04-19T12:20:01.810Z"
   },
   {
    "duration": 4,
    "start_time": "2023-04-19T12:20:03.533Z"
   },
   {
    "duration": 12,
    "start_time": "2023-04-19T12:20:18.427Z"
   },
   {
    "duration": 5,
    "start_time": "2023-04-19T12:24:05.997Z"
   },
   {
    "duration": 220,
    "start_time": "2023-04-19T12:24:07.950Z"
   },
   {
    "duration": 6,
    "start_time": "2023-04-19T12:24:59.209Z"
   },
   {
    "duration": 233,
    "start_time": "2023-04-19T12:25:00.635Z"
   },
   {
    "duration": 137,
    "start_time": "2023-04-19T12:25:05.692Z"
   },
   {
    "duration": 5,
    "start_time": "2023-04-19T12:25:22.334Z"
   },
   {
    "duration": 157,
    "start_time": "2023-04-19T12:25:54.383Z"
   },
   {
    "duration": 5,
    "start_time": "2023-04-19T12:26:04.127Z"
   },
   {
    "duration": 6,
    "start_time": "2023-04-19T12:26:43.053Z"
   },
   {
    "duration": 230,
    "start_time": "2023-04-19T12:26:43.787Z"
   },
   {
    "duration": 4,
    "start_time": "2023-04-19T12:26:45.988Z"
   },
   {
    "duration": 142,
    "start_time": "2023-04-19T12:26:46.753Z"
   },
   {
    "duration": 3,
    "start_time": "2023-04-19T12:27:25.735Z"
   },
   {
    "duration": 6,
    "start_time": "2023-04-19T12:27:29.089Z"
   },
   {
    "duration": 152,
    "start_time": "2023-04-19T12:27:29.640Z"
   },
   {
    "duration": 4,
    "start_time": "2023-04-19T12:27:30.697Z"
   },
   {
    "duration": 143,
    "start_time": "2023-04-19T12:27:33.556Z"
   },
   {
    "duration": 5,
    "start_time": "2023-04-19T12:27:35.542Z"
   },
   {
    "duration": 4,
    "start_time": "2023-04-19T12:27:51.354Z"
   },
   {
    "duration": 128,
    "start_time": "2023-04-19T12:27:55.118Z"
   },
   {
    "duration": 8,
    "start_time": "2023-04-19T12:29:22.475Z"
   },
   {
    "duration": 5,
    "start_time": "2023-04-19T12:29:27.487Z"
   },
   {
    "duration": 128,
    "start_time": "2023-04-19T12:29:28.130Z"
   },
   {
    "duration": 4,
    "start_time": "2023-04-19T12:29:28.974Z"
   },
   {
    "duration": 7,
    "start_time": "2023-04-19T12:29:29.942Z"
   },
   {
    "duration": 116,
    "start_time": "2023-04-19T12:33:31.712Z"
   },
   {
    "duration": 82,
    "start_time": "2023-04-19T12:33:41.258Z"
   },
   {
    "duration": 123,
    "start_time": "2023-04-19T12:34:01.287Z"
   },
   {
    "duration": 399,
    "start_time": "2023-04-19T12:34:54.359Z"
   },
   {
    "duration": 288,
    "start_time": "2023-04-19T12:35:03.694Z"
   },
   {
    "duration": 390,
    "start_time": "2023-04-19T12:36:22.472Z"
   },
   {
    "duration": 684,
    "start_time": "2023-04-19T12:36:49.326Z"
   },
   {
    "duration": 385,
    "start_time": "2023-04-19T12:37:23.527Z"
   },
   {
    "duration": 357,
    "start_time": "2023-04-19T12:37:31.539Z"
   },
   {
    "duration": 531,
    "start_time": "2023-04-19T12:37:39.609Z"
   },
   {
    "duration": 378,
    "start_time": "2023-04-19T12:37:54.714Z"
   },
   {
    "duration": 349,
    "start_time": "2023-04-19T12:38:01.511Z"
   },
   {
    "duration": 380,
    "start_time": "2023-04-19T12:38:13.173Z"
   },
   {
    "duration": 3,
    "start_time": "2023-04-19T12:38:36.604Z"
   },
   {
    "duration": 4,
    "start_time": "2023-04-19T12:38:40.202Z"
   },
   {
    "duration": 5,
    "start_time": "2023-04-19T12:38:41.993Z"
   },
   {
    "duration": 6,
    "start_time": "2023-04-19T12:38:44.787Z"
   },
   {
    "duration": 3,
    "start_time": "2023-04-19T12:38:57.271Z"
   },
   {
    "duration": 5,
    "start_time": "2023-04-19T12:38:58.037Z"
   },
   {
    "duration": 5,
    "start_time": "2023-04-19T12:38:58.826Z"
   },
   {
    "duration": 6,
    "start_time": "2023-04-19T12:38:59.556Z"
   },
   {
    "duration": 434,
    "start_time": "2023-04-19T12:40:38.106Z"
   },
   {
    "duration": 382,
    "start_time": "2023-04-19T12:40:49.711Z"
   },
   {
    "duration": 366,
    "start_time": "2023-04-19T12:40:59.785Z"
   },
   {
    "duration": 406,
    "start_time": "2023-04-19T12:41:08.567Z"
   },
   {
    "duration": 178,
    "start_time": "2023-04-19T12:41:23.206Z"
   },
   {
    "duration": 656,
    "start_time": "2023-04-19T12:42:02.122Z"
   },
   {
    "duration": 484,
    "start_time": "2023-04-19T12:42:18.794Z"
   },
   {
    "duration": 392,
    "start_time": "2023-04-19T12:42:24.026Z"
   },
   {
    "duration": 2,
    "start_time": "2023-04-19T12:43:49.195Z"
   },
   {
    "duration": 5,
    "start_time": "2023-04-19T12:43:49.668Z"
   },
   {
    "duration": 8,
    "start_time": "2023-04-19T12:43:50.925Z"
   },
   {
    "duration": 7,
    "start_time": "2023-04-19T12:43:51.803Z"
   },
   {
    "duration": 3,
    "start_time": "2023-04-19T12:44:27.291Z"
   },
   {
    "duration": 6,
    "start_time": "2023-04-19T12:44:27.898Z"
   },
   {
    "duration": 7,
    "start_time": "2023-04-19T12:44:28.672Z"
   },
   {
    "duration": 7,
    "start_time": "2023-04-19T12:44:29.333Z"
   },
   {
    "duration": 3,
    "start_time": "2023-04-19T12:48:18.713Z"
   },
   {
    "duration": 458,
    "start_time": "2023-04-19T12:54:46.708Z"
   },
   {
    "duration": 341,
    "start_time": "2023-04-19T12:54:53.003Z"
   },
   {
    "duration": 396,
    "start_time": "2023-04-19T12:55:00.560Z"
   },
   {
    "duration": 4,
    "start_time": "2023-04-19T12:57:51.488Z"
   },
   {
    "duration": 7,
    "start_time": "2023-04-19T12:58:22.243Z"
   },
   {
    "duration": 4,
    "start_time": "2023-04-19T12:58:32.092Z"
   },
   {
    "duration": 9,
    "start_time": "2023-04-19T12:58:34.922Z"
   },
   {
    "duration": 5,
    "start_time": "2023-04-19T12:59:15.540Z"
   },
   {
    "duration": 250,
    "start_time": "2023-04-19T12:59:16.124Z"
   },
   {
    "duration": 5,
    "start_time": "2023-04-19T12:59:23.547Z"
   },
   {
    "duration": 233,
    "start_time": "2023-04-19T12:59:24.135Z"
   },
   {
    "duration": 7,
    "start_time": "2023-04-19T13:00:25.752Z"
   },
   {
    "duration": 8,
    "start_time": "2023-04-19T13:00:26.514Z"
   },
   {
    "duration": 361,
    "start_time": "2023-04-19T13:00:36.079Z"
   },
   {
    "duration": 394,
    "start_time": "2023-04-19T13:00:52.207Z"
   },
   {
    "duration": 3,
    "start_time": "2023-04-19T13:00:52.856Z"
   },
   {
    "duration": 4,
    "start_time": "2023-04-19T13:01:47.339Z"
   },
   {
    "duration": 374,
    "start_time": "2023-04-19T13:01:48.024Z"
   },
   {
    "duration": 4,
    "start_time": "2023-04-19T13:01:48.552Z"
   },
   {
    "duration": 5,
    "start_time": "2023-04-19T13:02:08.102Z"
   },
   {
    "duration": 369,
    "start_time": "2023-04-19T13:02:08.473Z"
   },
   {
    "duration": 4,
    "start_time": "2023-04-19T13:02:09.171Z"
   },
   {
    "duration": 457,
    "start_time": "2023-04-19T13:02:25.864Z"
   },
   {
    "duration": 5,
    "start_time": "2023-04-19T13:02:27.275Z"
   },
   {
    "duration": 392,
    "start_time": "2023-04-19T13:02:36.566Z"
   },
   {
    "duration": 5,
    "start_time": "2023-04-19T13:02:37.151Z"
   },
   {
    "duration": 414,
    "start_time": "2023-04-19T13:04:46.328Z"
   },
   {
    "duration": 4,
    "start_time": "2023-04-19T13:04:52.418Z"
   },
   {
    "duration": 388,
    "start_time": "2023-04-19T13:04:52.932Z"
   },
   {
    "duration": 4,
    "start_time": "2023-04-19T13:04:56.832Z"
   },
   {
    "duration": 374,
    "start_time": "2023-04-19T13:04:57.249Z"
   },
   {
    "duration": 468,
    "start_time": "2023-04-19T13:05:18.653Z"
   },
   {
    "duration": 455,
    "start_time": "2023-04-19T13:05:26.684Z"
   },
   {
    "duration": 436,
    "start_time": "2023-04-19T13:05:30.758Z"
   },
   {
    "duration": 427,
    "start_time": "2023-04-19T13:05:51.705Z"
   },
   {
    "duration": 1337,
    "start_time": "2023-04-19T13:06:17.313Z"
   },
   {
    "duration": 1712,
    "start_time": "2023-04-19T13:06:18.653Z"
   },
   {
    "duration": 167,
    "start_time": "2023-04-19T13:06:20.367Z"
   },
   {
    "duration": 159,
    "start_time": "2023-04-19T13:06:20.537Z"
   },
   {
    "duration": 150,
    "start_time": "2023-04-19T13:06:20.699Z"
   },
   {
    "duration": 40,
    "start_time": "2023-04-19T13:06:20.852Z"
   },
   {
    "duration": 732,
    "start_time": "2023-04-19T13:06:20.894Z"
   },
   {
    "duration": 21,
    "start_time": "2023-04-19T13:06:21.628Z"
   },
   {
    "duration": 48,
    "start_time": "2023-04-19T13:06:21.651Z"
   },
   {
    "duration": 12,
    "start_time": "2023-04-19T13:06:21.701Z"
   },
   {
    "duration": 15,
    "start_time": "2023-04-19T13:06:21.737Z"
   },
   {
    "duration": 186,
    "start_time": "2023-04-19T13:06:21.754Z"
   },
   {
    "duration": 94,
    "start_time": "2023-04-19T13:06:21.943Z"
   },
   {
    "duration": 105,
    "start_time": "2023-04-19T13:06:22.047Z"
   },
   {
    "duration": 5,
    "start_time": "2023-04-19T13:06:22.158Z"
   },
   {
    "duration": 10,
    "start_time": "2023-04-19T13:06:22.245Z"
   },
   {
    "duration": 4,
    "start_time": "2023-04-19T13:06:22.335Z"
   },
   {
    "duration": 8,
    "start_time": "2023-04-19T13:06:22.342Z"
   },
   {
    "duration": 10,
    "start_time": "2023-04-19T13:06:22.352Z"
   },
   {
    "duration": 44,
    "start_time": "2023-04-19T13:06:22.364Z"
   },
   {
    "duration": 6,
    "start_time": "2023-04-19T13:06:22.410Z"
   },
   {
    "duration": 548,
    "start_time": "2023-04-19T13:06:22.418Z"
   },
   {
    "duration": 593,
    "start_time": "2023-04-19T13:06:22.968Z"
   },
   {
    "duration": 592,
    "start_time": "2023-04-19T13:06:23.563Z"
   },
   {
    "duration": 373,
    "start_time": "2023-04-19T14:11:29.069Z"
   },
   {
    "duration": 47,
    "start_time": "2023-04-19T14:12:25.767Z"
   },
   {
    "duration": 31,
    "start_time": "2023-04-19T14:13:30.601Z"
   },
   {
    "duration": 126,
    "start_time": "2023-04-19T14:14:22.547Z"
   },
   {
    "duration": 40,
    "start_time": "2023-04-19T14:14:29.914Z"
   },
   {
    "duration": 58,
    "start_time": "2023-04-19T14:15:16.510Z"
   },
   {
    "duration": 107,
    "start_time": "2023-04-19T14:15:31.225Z"
   },
   {
    "duration": 1028,
    "start_time": "2023-04-19T14:27:45.931Z"
   },
   {
    "duration": 366,
    "start_time": "2023-04-19T14:27:46.961Z"
   },
   {
    "duration": 79,
    "start_time": "2023-04-19T14:27:47.328Z"
   },
   {
    "duration": 85,
    "start_time": "2023-04-19T14:27:47.409Z"
   },
   {
    "duration": 79,
    "start_time": "2023-04-19T14:27:47.495Z"
   },
   {
    "duration": 125,
    "start_time": "2023-04-19T14:27:47.576Z"
   },
   {
    "duration": 37,
    "start_time": "2023-04-19T14:27:47.703Z"
   },
   {
    "duration": 367,
    "start_time": "2023-04-19T14:27:47.741Z"
   },
   {
    "duration": 10,
    "start_time": "2023-04-19T14:27:48.109Z"
   },
   {
    "duration": 38,
    "start_time": "2023-04-19T14:27:48.121Z"
   },
   {
    "duration": 7,
    "start_time": "2023-04-19T14:27:48.161Z"
   },
   {
    "duration": 9,
    "start_time": "2023-04-19T14:27:48.169Z"
   },
   {
    "duration": 61,
    "start_time": "2023-04-19T14:27:48.179Z"
   },
   {
    "duration": 104,
    "start_time": "2023-04-19T14:27:48.242Z"
   },
   {
    "duration": 93,
    "start_time": "2023-04-19T14:27:48.347Z"
   },
   {
    "duration": 4,
    "start_time": "2023-04-19T14:27:48.441Z"
   },
   {
    "duration": 4,
    "start_time": "2023-04-19T14:27:48.537Z"
   },
   {
    "duration": 93,
    "start_time": "2023-04-19T14:27:48.542Z"
   },
   {
    "duration": 8,
    "start_time": "2023-04-19T14:27:48.637Z"
   },
   {
    "duration": 6,
    "start_time": "2023-04-19T14:27:48.647Z"
   },
   {
    "duration": 8,
    "start_time": "2023-04-19T14:27:48.654Z"
   },
   {
    "duration": 22,
    "start_time": "2023-04-19T14:27:48.663Z"
   },
   {
    "duration": 379,
    "start_time": "2023-04-19T14:27:48.687Z"
   },
   {
    "duration": 387,
    "start_time": "2023-04-19T14:27:49.069Z"
   },
   {
    "duration": 393,
    "start_time": "2023-04-19T14:27:49.458Z"
   },
   {
    "duration": 8,
    "start_time": "2023-04-19T14:46:07.478Z"
   },
   {
    "duration": 1053,
    "start_time": "2023-04-19T14:48:52.428Z"
   },
   {
    "duration": 360,
    "start_time": "2023-04-19T14:48:53.483Z"
   },
   {
    "duration": 106,
    "start_time": "2023-04-19T14:48:53.845Z"
   },
   {
    "duration": 92,
    "start_time": "2023-04-19T14:48:53.953Z"
   },
   {
    "duration": 95,
    "start_time": "2023-04-19T14:48:54.046Z"
   },
   {
    "duration": 144,
    "start_time": "2023-04-19T14:48:54.143Z"
   },
   {
    "duration": 24,
    "start_time": "2023-04-19T14:48:54.288Z"
   },
   {
    "duration": 415,
    "start_time": "2023-04-19T14:48:54.314Z"
   },
   {
    "duration": 13,
    "start_time": "2023-04-19T14:48:54.731Z"
   },
   {
    "duration": 52,
    "start_time": "2023-04-19T14:48:54.746Z"
   },
   {
    "duration": 7,
    "start_time": "2023-04-19T14:48:54.800Z"
   },
   {
    "duration": 38,
    "start_time": "2023-04-19T14:48:54.809Z"
   },
   {
    "duration": 8,
    "start_time": "2023-04-19T14:48:54.848Z"
   },
   {
    "duration": 180,
    "start_time": "2023-04-19T14:48:54.857Z"
   },
   {
    "duration": 3,
    "start_time": "2023-04-19T14:48:55.039Z"
   },
   {
    "duration": 95,
    "start_time": "2023-04-19T14:48:55.044Z"
   },
   {
    "duration": 21,
    "start_time": "2023-04-19T14:48:55.140Z"
   },
   {
    "duration": 12,
    "start_time": "2023-04-19T14:48:55.163Z"
   },
   {
    "duration": 9,
    "start_time": "2023-04-19T14:48:55.176Z"
   },
   {
    "duration": 7,
    "start_time": "2023-04-19T14:48:55.187Z"
   },
   {
    "duration": 5,
    "start_time": "2023-04-19T14:48:55.196Z"
   },
   {
    "duration": 417,
    "start_time": "2023-04-19T14:48:55.202Z"
   },
   {
    "duration": 381,
    "start_time": "2023-04-19T14:48:55.621Z"
   },
   {
    "duration": 393,
    "start_time": "2023-04-19T14:48:56.004Z"
   },
   {
    "duration": 1106,
    "start_time": "2023-04-19T14:52:36.406Z"
   },
   {
    "duration": 381,
    "start_time": "2023-04-19T14:52:37.514Z"
   },
   {
    "duration": 98,
    "start_time": "2023-04-19T14:52:37.896Z"
   },
   {
    "duration": 89,
    "start_time": "2023-04-19T14:52:37.996Z"
   },
   {
    "duration": 97,
    "start_time": "2023-04-19T14:52:38.087Z"
   },
   {
    "duration": 129,
    "start_time": "2023-04-19T14:52:38.185Z"
   },
   {
    "duration": 30,
    "start_time": "2023-04-19T14:52:38.316Z"
   },
   {
    "duration": 382,
    "start_time": "2023-04-19T14:52:38.347Z"
   },
   {
    "duration": 13,
    "start_time": "2023-04-19T14:52:38.731Z"
   },
   {
    "duration": 34,
    "start_time": "2023-04-19T14:52:38.747Z"
   },
   {
    "duration": 10,
    "start_time": "2023-04-19T14:52:38.783Z"
   },
   {
    "duration": 117,
    "start_time": "2023-04-19T14:52:38.794Z"
   },
   {
    "duration": 0,
    "start_time": "2023-04-19T14:52:38.913Z"
   },
   {
    "duration": 0,
    "start_time": "2023-04-19T14:52:38.914Z"
   },
   {
    "duration": 0,
    "start_time": "2023-04-19T14:52:38.916Z"
   },
   {
    "duration": 0,
    "start_time": "2023-04-19T14:52:38.917Z"
   },
   {
    "duration": 0,
    "start_time": "2023-04-19T14:52:38.918Z"
   },
   {
    "duration": 0,
    "start_time": "2023-04-19T14:52:38.919Z"
   },
   {
    "duration": 0,
    "start_time": "2023-04-19T14:52:38.936Z"
   },
   {
    "duration": 0,
    "start_time": "2023-04-19T14:52:38.938Z"
   },
   {
    "duration": 0,
    "start_time": "2023-04-19T14:52:38.939Z"
   },
   {
    "duration": 0,
    "start_time": "2023-04-19T14:52:38.940Z"
   },
   {
    "duration": 0,
    "start_time": "2023-04-19T14:52:38.941Z"
   },
   {
    "duration": 0,
    "start_time": "2023-04-19T14:52:38.942Z"
   },
   {
    "duration": 978,
    "start_time": "2023-04-19T14:52:56.903Z"
   },
   {
    "duration": 342,
    "start_time": "2023-04-19T14:52:57.883Z"
   },
   {
    "duration": 84,
    "start_time": "2023-04-19T14:52:58.227Z"
   },
   {
    "duration": 83,
    "start_time": "2023-04-19T14:52:58.312Z"
   },
   {
    "duration": 90,
    "start_time": "2023-04-19T14:52:58.397Z"
   },
   {
    "duration": 129,
    "start_time": "2023-04-19T14:52:58.489Z"
   },
   {
    "duration": 28,
    "start_time": "2023-04-19T14:52:58.620Z"
   },
   {
    "duration": 387,
    "start_time": "2023-04-19T14:52:58.650Z"
   },
   {
    "duration": 10,
    "start_time": "2023-04-19T14:52:59.039Z"
   },
   {
    "duration": 36,
    "start_time": "2023-04-19T14:52:59.050Z"
   },
   {
    "duration": 7,
    "start_time": "2023-04-19T14:52:59.088Z"
   },
   {
    "duration": 49,
    "start_time": "2023-04-19T14:52:59.096Z"
   },
   {
    "duration": 101,
    "start_time": "2023-04-19T14:52:59.147Z"
   },
   {
    "duration": 188,
    "start_time": "2023-04-19T14:52:59.251Z"
   },
   {
    "duration": 2,
    "start_time": "2023-04-19T14:52:59.441Z"
   },
   {
    "duration": 96,
    "start_time": "2023-04-19T14:52:59.445Z"
   },
   {
    "duration": 13,
    "start_time": "2023-04-19T14:52:59.542Z"
   },
   {
    "duration": 24,
    "start_time": "2023-04-19T14:52:59.557Z"
   },
   {
    "duration": 6,
    "start_time": "2023-04-19T14:52:59.583Z"
   },
   {
    "duration": 7,
    "start_time": "2023-04-19T14:52:59.591Z"
   },
   {
    "duration": 4,
    "start_time": "2023-04-19T14:52:59.600Z"
   },
   {
    "duration": 376,
    "start_time": "2023-04-19T14:52:59.605Z"
   },
   {
    "duration": 380,
    "start_time": "2023-04-19T14:52:59.983Z"
   },
   {
    "duration": 424,
    "start_time": "2023-04-19T14:53:00.364Z"
   },
   {
    "duration": 21,
    "start_time": "2023-04-19T15:17:06.906Z"
   },
   {
    "duration": 14,
    "start_time": "2023-04-19T15:17:08.344Z"
   },
   {
    "duration": 15,
    "start_time": "2023-04-19T15:17:12.402Z"
   },
   {
    "duration": 1068,
    "start_time": "2023-04-19T15:20:14.159Z"
   },
   {
    "duration": 375,
    "start_time": "2023-04-19T15:20:15.229Z"
   },
   {
    "duration": 149,
    "start_time": "2023-04-19T15:20:15.606Z"
   },
   {
    "duration": 87,
    "start_time": "2023-04-19T15:20:15.757Z"
   },
   {
    "duration": 106,
    "start_time": "2023-04-19T15:20:15.846Z"
   },
   {
    "duration": 143,
    "start_time": "2023-04-19T15:20:15.954Z"
   },
   {
    "duration": 24,
    "start_time": "2023-04-19T15:20:16.099Z"
   },
   {
    "duration": 444,
    "start_time": "2023-04-19T15:20:16.137Z"
   },
   {
    "duration": 12,
    "start_time": "2023-04-19T15:20:16.582Z"
   },
   {
    "duration": 52,
    "start_time": "2023-04-19T15:20:16.597Z"
   },
   {
    "duration": 9,
    "start_time": "2023-04-19T15:20:16.651Z"
   },
   {
    "duration": 80,
    "start_time": "2023-04-19T15:20:16.661Z"
   },
   {
    "duration": 115,
    "start_time": "2023-04-19T15:20:16.744Z"
   },
   {
    "duration": 177,
    "start_time": "2023-04-19T15:20:16.860Z"
   },
   {
    "duration": 3,
    "start_time": "2023-04-19T15:20:17.042Z"
   },
   {
    "duration": 97,
    "start_time": "2023-04-19T15:20:17.047Z"
   },
   {
    "duration": 10,
    "start_time": "2023-04-19T15:20:17.146Z"
   },
   {
    "duration": 11,
    "start_time": "2023-04-19T15:20:17.158Z"
   },
   {
    "duration": 7,
    "start_time": "2023-04-19T15:20:17.171Z"
   },
   {
    "duration": 16,
    "start_time": "2023-04-19T15:20:17.179Z"
   },
   {
    "duration": 5,
    "start_time": "2023-04-19T15:20:17.196Z"
   },
   {
    "duration": 477,
    "start_time": "2023-04-19T15:20:17.203Z"
   },
   {
    "duration": 427,
    "start_time": "2023-04-19T15:20:17.683Z"
   },
   {
    "duration": 447,
    "start_time": "2023-04-19T15:20:18.112Z"
   },
   {
    "duration": 1063,
    "start_time": "2023-04-19T15:20:56.144Z"
   },
   {
    "duration": 365,
    "start_time": "2023-04-19T15:20:57.208Z"
   },
   {
    "duration": 111,
    "start_time": "2023-04-19T15:20:57.575Z"
   },
   {
    "duration": 153,
    "start_time": "2023-04-19T15:20:57.689Z"
   },
   {
    "duration": 119,
    "start_time": "2023-04-19T15:20:57.844Z"
   },
   {
    "duration": 144,
    "start_time": "2023-04-19T15:20:57.964Z"
   },
   {
    "duration": 31,
    "start_time": "2023-04-19T15:20:58.110Z"
   },
   {
    "duration": 398,
    "start_time": "2023-04-19T15:20:58.143Z"
   },
   {
    "duration": 11,
    "start_time": "2023-04-19T15:20:58.543Z"
   },
   {
    "duration": 75,
    "start_time": "2023-04-19T15:20:58.558Z"
   },
   {
    "duration": 9,
    "start_time": "2023-04-19T15:20:58.635Z"
   },
   {
    "duration": 104,
    "start_time": "2023-04-19T15:20:58.646Z"
   },
   {
    "duration": 15,
    "start_time": "2023-04-19T15:20:58.837Z"
   },
   {
    "duration": 183,
    "start_time": "2023-04-19T15:20:58.854Z"
   },
   {
    "duration": 2,
    "start_time": "2023-04-19T15:20:59.039Z"
   },
   {
    "duration": 94,
    "start_time": "2023-04-19T15:20:59.043Z"
   },
   {
    "duration": 7,
    "start_time": "2023-04-19T15:20:59.139Z"
   },
   {
    "duration": 11,
    "start_time": "2023-04-19T15:20:59.148Z"
   },
   {
    "duration": 8,
    "start_time": "2023-04-19T15:20:59.161Z"
   },
   {
    "duration": 10,
    "start_time": "2023-04-19T15:20:59.170Z"
   },
   {
    "duration": 7,
    "start_time": "2023-04-19T15:20:59.181Z"
   },
   {
    "duration": 432,
    "start_time": "2023-04-19T15:20:59.190Z"
   },
   {
    "duration": 434,
    "start_time": "2023-04-19T15:20:59.624Z"
   },
   {
    "duration": 393,
    "start_time": "2023-04-19T15:21:00.059Z"
   },
   {
    "duration": 2798,
    "start_time": "2023-04-19T17:22:29.590Z"
   },
   {
    "duration": 3245,
    "start_time": "2023-04-19T17:22:32.390Z"
   },
   {
    "duration": 179,
    "start_time": "2023-04-19T17:22:35.637Z"
   },
   {
    "duration": 154,
    "start_time": "2023-04-19T17:22:35.818Z"
   },
   {
    "duration": 133,
    "start_time": "2023-04-19T17:22:35.977Z"
   },
   {
    "duration": 198,
    "start_time": "2023-04-19T17:22:36.111Z"
   },
   {
    "duration": 54,
    "start_time": "2023-04-19T17:22:36.320Z"
   },
   {
    "duration": 698,
    "start_time": "2023-04-19T17:22:36.376Z"
   },
   {
    "duration": 13,
    "start_time": "2023-04-19T17:22:37.075Z"
   },
   {
    "duration": 53,
    "start_time": "2023-04-19T17:22:37.091Z"
   },
   {
    "duration": 28,
    "start_time": "2023-04-19T17:22:37.152Z"
   },
   {
    "duration": 79,
    "start_time": "2023-04-19T17:22:37.182Z"
   },
   {
    "duration": 114,
    "start_time": "2023-04-19T17:22:37.332Z"
   },
   {
    "duration": 110,
    "start_time": "2023-04-19T17:22:37.461Z"
   },
   {
    "duration": 30,
    "start_time": "2023-04-19T17:22:37.586Z"
   },
   {
    "duration": 18,
    "start_time": "2023-04-19T17:22:37.629Z"
   },
   {
    "duration": 5,
    "start_time": "2023-04-19T17:22:37.654Z"
   },
   {
    "duration": 17,
    "start_time": "2023-04-19T17:22:37.665Z"
   },
   {
    "duration": 9,
    "start_time": "2023-04-19T17:22:37.689Z"
   },
   {
    "duration": 16,
    "start_time": "2023-04-19T17:22:37.720Z"
   },
   {
    "duration": 8,
    "start_time": "2023-04-19T17:22:37.742Z"
   },
   {
    "duration": 632,
    "start_time": "2023-04-19T17:22:37.757Z"
   },
   {
    "duration": 565,
    "start_time": "2023-04-19T17:22:38.391Z"
   },
   {
    "duration": 594,
    "start_time": "2023-04-19T17:22:38.959Z"
   },
   {
    "duration": 14,
    "start_time": "2023-04-19T17:23:44.080Z"
   },
   {
    "duration": 10,
    "start_time": "2023-04-19T17:24:40.682Z"
   },
   {
    "duration": 11,
    "start_time": "2023-04-20T11:00:01.569Z"
   },
   {
    "duration": 55,
    "start_time": "2023-04-20T11:03:44.232Z"
   },
   {
    "duration": 1244,
    "start_time": "2023-04-20T11:03:50.102Z"
   },
   {
    "duration": 1704,
    "start_time": "2023-04-20T11:03:51.349Z"
   },
   {
    "duration": 114,
    "start_time": "2023-04-20T11:03:53.055Z"
   },
   {
    "duration": 109,
    "start_time": "2023-04-20T11:03:53.171Z"
   },
   {
    "duration": 120,
    "start_time": "2023-04-20T11:03:53.288Z"
   },
   {
    "duration": 160,
    "start_time": "2023-04-20T11:03:53.410Z"
   },
   {
    "duration": 35,
    "start_time": "2023-04-20T11:03:53.572Z"
   },
   {
    "duration": 504,
    "start_time": "2023-04-20T11:03:53.609Z"
   },
   {
    "duration": 12,
    "start_time": "2023-04-20T11:03:54.115Z"
   },
   {
    "duration": 36,
    "start_time": "2023-04-20T11:03:54.130Z"
   },
   {
    "duration": 22,
    "start_time": "2023-04-20T11:03:54.168Z"
   },
   {
    "duration": 99,
    "start_time": "2023-04-20T11:03:54.192Z"
   },
   {
    "duration": 110,
    "start_time": "2023-04-20T11:03:54.293Z"
   },
   {
    "duration": 188,
    "start_time": "2023-04-20T11:03:54.405Z"
   },
   {
    "duration": 2,
    "start_time": "2023-04-20T11:03:54.595Z"
   },
   {
    "duration": 101,
    "start_time": "2023-04-20T11:03:54.599Z"
   },
   {
    "duration": 89,
    "start_time": "2023-04-20T11:03:54.702Z"
   },
   {
    "duration": 18,
    "start_time": "2023-04-20T11:03:54.793Z"
   },
   {
    "duration": 32,
    "start_time": "2023-04-20T11:03:54.813Z"
   },
   {
    "duration": 46,
    "start_time": "2023-04-20T11:03:54.847Z"
   },
   {
    "duration": 213,
    "start_time": "2023-04-20T11:03:54.894Z"
   },
   {
    "duration": 0,
    "start_time": "2023-04-20T11:03:55.109Z"
   },
   {
    "duration": 0,
    "start_time": "2023-04-20T11:03:55.110Z"
   },
   {
    "duration": 0,
    "start_time": "2023-04-20T11:03:55.112Z"
   },
   {
    "duration": 0,
    "start_time": "2023-04-20T11:03:55.113Z"
   },
   {
    "duration": 0,
    "start_time": "2023-04-20T11:03:55.114Z"
   },
   {
    "duration": 0,
    "start_time": "2023-04-20T11:03:55.115Z"
   },
   {
    "duration": 7,
    "start_time": "2023-04-20T11:04:32.180Z"
   },
   {
    "duration": 3,
    "start_time": "2023-04-20T11:08:23.847Z"
   },
   {
    "duration": 7,
    "start_time": "2023-04-20T11:08:38.609Z"
   },
   {
    "duration": 7,
    "start_time": "2023-04-20T11:08:56.927Z"
   },
   {
    "duration": 5,
    "start_time": "2023-04-20T11:14:08.027Z"
   },
   {
    "duration": 11,
    "start_time": "2023-04-20T11:14:54.737Z"
   },
   {
    "duration": 4,
    "start_time": "2023-04-20T11:15:10.802Z"
   },
   {
    "duration": 11,
    "start_time": "2023-04-20T11:15:19.915Z"
   },
   {
    "duration": 12,
    "start_time": "2023-04-20T11:15:23.651Z"
   },
   {
    "duration": 4,
    "start_time": "2023-04-20T11:15:32.251Z"
   },
   {
    "duration": 11,
    "start_time": "2023-04-20T11:15:38.125Z"
   },
   {
    "duration": 9,
    "start_time": "2023-04-20T11:15:42.155Z"
   },
   {
    "duration": 11,
    "start_time": "2023-04-20T11:16:27.828Z"
   },
   {
    "duration": 3,
    "start_time": "2023-04-20T11:16:28.731Z"
   },
   {
    "duration": 6,
    "start_time": "2023-04-20T11:16:44.831Z"
   },
   {
    "duration": 1098,
    "start_time": "2023-04-20T11:21:41.937Z"
   },
   {
    "duration": 431,
    "start_time": "2023-04-20T11:21:43.038Z"
   },
   {
    "duration": 167,
    "start_time": "2023-04-20T11:21:43.470Z"
   },
   {
    "duration": 119,
    "start_time": "2023-04-20T11:21:43.639Z"
   },
   {
    "duration": 139,
    "start_time": "2023-04-20T11:21:43.761Z"
   },
   {
    "duration": 189,
    "start_time": "2023-04-20T11:21:43.903Z"
   },
   {
    "duration": 33,
    "start_time": "2023-04-20T11:21:44.094Z"
   },
   {
    "duration": 541,
    "start_time": "2023-04-20T11:21:44.129Z"
   },
   {
    "duration": 17,
    "start_time": "2023-04-20T11:21:44.672Z"
   },
   {
    "duration": 38,
    "start_time": "2023-04-20T11:21:44.691Z"
   },
   {
    "duration": 12,
    "start_time": "2023-04-20T11:21:44.731Z"
   },
   {
    "duration": 47,
    "start_time": "2023-04-20T11:21:44.745Z"
   },
   {
    "duration": 107,
    "start_time": "2023-04-20T11:21:44.794Z"
   },
   {
    "duration": 187,
    "start_time": "2023-04-20T11:21:44.904Z"
   },
   {
    "duration": 6,
    "start_time": "2023-04-20T11:21:45.093Z"
   },
   {
    "duration": 91,
    "start_time": "2023-04-20T11:21:45.101Z"
   },
   {
    "duration": 15,
    "start_time": "2023-04-20T11:21:45.194Z"
   },
   {
    "duration": 9,
    "start_time": "2023-04-20T11:21:45.210Z"
   },
   {
    "duration": 16,
    "start_time": "2023-04-20T11:21:45.221Z"
   },
   {
    "duration": 8,
    "start_time": "2023-04-20T11:21:45.239Z"
   },
   {
    "duration": 12,
    "start_time": "2023-04-20T11:21:45.249Z"
   },
   {
    "duration": 30,
    "start_time": "2023-04-20T11:21:45.264Z"
   },
   {
    "duration": 9,
    "start_time": "2023-04-20T11:21:45.297Z"
   },
   {
    "duration": 14,
    "start_time": "2023-04-20T11:21:45.308Z"
   },
   {
    "duration": 135,
    "start_time": "2023-04-20T11:21:45.324Z"
   },
   {
    "duration": 0,
    "start_time": "2023-04-20T11:21:45.461Z"
   },
   {
    "duration": 0,
    "start_time": "2023-04-20T11:21:45.462Z"
   },
   {
    "duration": 12,
    "start_time": "2023-04-20T11:22:22.403Z"
   },
   {
    "duration": 10,
    "start_time": "2023-04-20T11:22:34.915Z"
   },
   {
    "duration": 6,
    "start_time": "2023-04-20T11:23:10.842Z"
   },
   {
    "duration": 9,
    "start_time": "2023-04-20T11:23:20.155Z"
   },
   {
    "duration": 9,
    "start_time": "2023-04-20T11:23:21.248Z"
   },
   {
    "duration": 9,
    "start_time": "2023-04-20T11:23:22.407Z"
   },
   {
    "duration": 4,
    "start_time": "2023-04-20T11:36:42.418Z"
   },
   {
    "duration": 10,
    "start_time": "2023-04-20T11:36:49.031Z"
   },
   {
    "duration": 9,
    "start_time": "2023-04-20T11:36:49.710Z"
   },
   {
    "duration": 10,
    "start_time": "2023-04-20T11:36:50.215Z"
   },
   {
    "duration": 6,
    "start_time": "2023-04-20T11:44:47.327Z"
   },
   {
    "duration": 1472,
    "start_time": "2023-04-20T11:45:26.932Z"
   },
   {
    "duration": 1431,
    "start_time": "2023-04-20T11:46:23.016Z"
   },
   {
    "duration": 10,
    "start_time": "2023-04-20T11:46:30.930Z"
   },
   {
    "duration": 1373,
    "start_time": "2023-04-20T11:46:56.155Z"
   },
   {
    "duration": 1391,
    "start_time": "2023-04-20T11:47:18.210Z"
   },
   {
    "duration": 1388,
    "start_time": "2023-04-20T11:48:13.979Z"
   },
   {
    "duration": 2435,
    "start_time": "2023-04-20T12:31:55.329Z"
   },
   {
    "duration": 3895,
    "start_time": "2023-04-20T12:31:57.784Z"
   },
   {
    "duration": 160,
    "start_time": "2023-04-20T12:32:01.692Z"
   },
   {
    "duration": 157,
    "start_time": "2023-04-20T12:32:01.856Z"
   },
   {
    "duration": 172,
    "start_time": "2023-04-20T12:32:02.015Z"
   },
   {
    "duration": 197,
    "start_time": "2023-04-20T12:32:02.189Z"
   },
   {
    "duration": 45,
    "start_time": "2023-04-20T12:32:02.389Z"
   },
   {
    "duration": 693,
    "start_time": "2023-04-20T12:32:02.436Z"
   },
   {
    "duration": 12,
    "start_time": "2023-04-20T12:32:03.133Z"
   },
   {
    "duration": 76,
    "start_time": "2023-04-20T12:32:03.161Z"
   },
   {
    "duration": 16,
    "start_time": "2023-04-20T12:32:03.241Z"
   },
   {
    "duration": 105,
    "start_time": "2023-04-20T12:32:03.259Z"
   },
   {
    "duration": 169,
    "start_time": "2023-04-20T12:32:03.367Z"
   },
   {
    "duration": 129,
    "start_time": "2023-04-20T12:32:03.545Z"
   },
   {
    "duration": 30,
    "start_time": "2023-04-20T12:32:03.692Z"
   },
   {
    "duration": 17,
    "start_time": "2023-04-20T12:32:03.733Z"
   },
   {
    "duration": 57,
    "start_time": "2023-04-20T12:32:03.752Z"
   },
   {
    "duration": 11,
    "start_time": "2023-04-20T12:32:03.812Z"
   },
   {
    "duration": 35,
    "start_time": "2023-04-20T12:32:03.825Z"
   },
   {
    "duration": 19,
    "start_time": "2023-04-20T12:32:03.862Z"
   },
   {
    "duration": 26,
    "start_time": "2023-04-20T12:32:03.884Z"
   },
   {
    "duration": 14,
    "start_time": "2023-04-20T12:32:03.912Z"
   },
   {
    "duration": 14,
    "start_time": "2023-04-20T12:32:03.929Z"
   },
   {
    "duration": 26,
    "start_time": "2023-04-20T12:32:03.945Z"
   },
   {
    "duration": 2029,
    "start_time": "2023-04-20T12:32:03.973Z"
   },
   {
    "duration": 1957,
    "start_time": "2023-04-20T12:32:06.018Z"
   },
   {
    "duration": 2042,
    "start_time": "2023-04-20T12:32:07.982Z"
   },
   {
    "duration": 5,
    "start_time": "2023-04-20T13:04:04.775Z"
   },
   {
    "duration": 1140,
    "start_time": "2023-04-20T13:04:57.498Z"
   },
   {
    "duration": 411,
    "start_time": "2023-04-20T13:04:58.640Z"
   },
   {
    "duration": 126,
    "start_time": "2023-04-20T13:04:59.053Z"
   },
   {
    "duration": 129,
    "start_time": "2023-04-20T13:04:59.182Z"
   },
   {
    "duration": 119,
    "start_time": "2023-04-20T13:04:59.313Z"
   },
   {
    "duration": 167,
    "start_time": "2023-04-20T13:04:59.433Z"
   },
   {
    "duration": 26,
    "start_time": "2023-04-20T13:04:59.601Z"
   },
   {
    "duration": 553,
    "start_time": "2023-04-20T13:04:59.629Z"
   },
   {
    "duration": 13,
    "start_time": "2023-04-20T13:05:00.184Z"
   },
   {
    "duration": 58,
    "start_time": "2023-04-20T13:05:00.201Z"
   },
   {
    "duration": 10,
    "start_time": "2023-04-20T13:05:00.262Z"
   },
   {
    "duration": 52,
    "start_time": "2023-04-20T13:05:00.274Z"
   },
   {
    "duration": 179,
    "start_time": "2023-04-20T13:05:00.327Z"
   },
   {
    "duration": 138,
    "start_time": "2023-04-20T13:05:00.590Z"
   },
   {
    "duration": 161,
    "start_time": "2023-04-20T13:05:00.730Z"
   },
   {
    "duration": 27,
    "start_time": "2023-04-20T13:05:00.894Z"
   },
   {
    "duration": 32,
    "start_time": "2023-04-20T13:05:00.924Z"
   },
   {
    "duration": 24,
    "start_time": "2023-04-20T13:05:00.959Z"
   },
   {
    "duration": 47,
    "start_time": "2023-04-20T13:05:00.985Z"
   },
   {
    "duration": 37,
    "start_time": "2023-04-20T13:05:01.034Z"
   },
   {
    "duration": 61,
    "start_time": "2023-04-20T13:05:01.073Z"
   },
   {
    "duration": 28,
    "start_time": "2023-04-20T13:05:01.136Z"
   },
   {
    "duration": 32,
    "start_time": "2023-04-20T13:05:01.166Z"
   },
   {
    "duration": 26,
    "start_time": "2023-04-20T13:05:01.200Z"
   },
   {
    "duration": 1513,
    "start_time": "2023-04-20T13:05:01.229Z"
   },
   {
    "duration": 1423,
    "start_time": "2023-04-20T13:05:02.744Z"
   },
   {
    "duration": 1424,
    "start_time": "2023-04-20T13:05:04.168Z"
   }
  ],
  "kernelspec": {
   "display_name": "Python 3 (ipykernel)",
   "language": "python",
   "name": "python3"
  },
  "language_info": {
   "codemirror_mode": {
    "name": "ipython",
    "version": 3
   },
   "file_extension": ".py",
   "mimetype": "text/x-python",
   "name": "python",
   "nbconvert_exporter": "python",
   "pygments_lexer": "ipython3",
   "version": "3.9.5"
  },
  "toc": {
   "base_numbering": 1,
   "nav_menu": {},
   "number_sections": true,
   "sideBar": true,
   "skip_h1_title": true,
   "title_cell": "Table of Contents",
   "title_sidebar": "Contents",
   "toc_cell": false,
   "toc_position": {},
   "toc_section_display": true,
   "toc_window_display": true
  }
 },
 "nbformat": 4,
 "nbformat_minor": 2
}
