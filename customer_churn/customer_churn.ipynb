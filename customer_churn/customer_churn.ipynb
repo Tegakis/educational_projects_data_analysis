{
 "cells": [
  {
   "cell_type": "markdown",
   "metadata": {
    "id": "yJU-rBNpSuMe"
   },
   "source": [
    "# Customer Churn"
   ]
  },
  {
   "cell_type": "markdown",
   "metadata": {
    "id": "53u8oT9WSuMh"
   },
   "source": [
    "Customers have been leaving \"Beta Bank\" every month. Not in large numbers, but noticeably. Bank marketers have calculated that retaining current customers is cheaper than attracting new ones.\n",
    "\n",
    "You need to predict whether a customer will leave the bank in the near future or not. Historical data on customer behavior and contract terminations with the bank have been provided.\n",
    "\n",
    "Build a model with the highest possible F1-score. To successfully complete the project, you need to achieve a metric of 0.59. Evaluate the F1-score on the test set yourself.\n",
    "\n",
    "Additionally, measure AUC-ROC and compare its value with the F1-score.\n",
    "\n",
    "Source of data: https://www.kaggle.com/barelydedicated/bank-customer-churn-modeling"
   ]
  },
  {
   "cell_type": "markdown",
   "metadata": {
    "id": "Z9JliQxASuMk"
   },
   "source": [
    "## Data Preparation"
   ]
  },
  {
   "cell_type": "code",
   "execution_count": 1,
   "metadata": {
    "id": "C1e-1O6BSyQl"
   },
   "outputs": [],
   "source": [
    "import pandas as pd\n",
    "import matplotlib.pyplot as plt\n",
    "from sklearn.preprocessing import OrdinalEncoder, StandardScaler\n",
    "from sklearn.tree import DecisionTreeClassifier\n",
    "from sklearn.model_selection import train_test_split\n",
    "from sklearn.ensemble import RandomForestClassifier\n",
    "from sklearn.metrics import (\n",
    "    recall_score, \n",
    "    precision_score, \n",
    "    accuracy_score, \n",
    "    f1_score, \n",
    "    roc_auc_score, \n",
    "    confusion_matrix\n",
    ")\n",
    "from sklearn.utils import shuffle\n",
    "import matplotlib.pyplot as plt\n",
    "from sklearn.dummy import DummyClassifier\n",
    "from imblearn.over_sampling import SMOTE"
   ]
  },
  {
   "cell_type": "code",
   "execution_count": 2,
   "metadata": {
    "id": "mIBKnZgNSuMm"
   },
   "outputs": [],
   "source": [
    "data = pd.read_csv('/content/Churn_Modelling.csv')"
   ]
  },
  {
   "cell_type": "code",
   "execution_count": 3,
   "metadata": {
    "colab": {
     "base_uri": "https://localhost:8080/",
     "height": 270
    },
    "id": "9qPA9THJVoBS",
    "outputId": "d7bb1f57-0321-4c47-cf6c-326d69e0afec"
   },
   "outputs": [
    {
     "data": {
      "text/html": [
       "\n",
       "  <div id=\"df-df5fb764-3a49-4177-beff-fc04a682e8fa\">\n",
       "    <div class=\"colab-df-container\">\n",
       "      <div>\n",
       "<style scoped>\n",
       "    .dataframe tbody tr th:only-of-type {\n",
       "        vertical-align: middle;\n",
       "    }\n",
       "\n",
       "    .dataframe tbody tr th {\n",
       "        vertical-align: top;\n",
       "    }\n",
       "\n",
       "    .dataframe thead th {\n",
       "        text-align: right;\n",
       "    }\n",
       "</style>\n",
       "<table border=\"1\" class=\"dataframe\">\n",
       "  <thead>\n",
       "    <tr style=\"text-align: right;\">\n",
       "      <th></th>\n",
       "      <th>RowNumber</th>\n",
       "      <th>CustomerId</th>\n",
       "      <th>Surname</th>\n",
       "      <th>CreditScore</th>\n",
       "      <th>Geography</th>\n",
       "      <th>Gender</th>\n",
       "      <th>Age</th>\n",
       "      <th>Tenure</th>\n",
       "      <th>Balance</th>\n",
       "      <th>NumOfProducts</th>\n",
       "      <th>HasCrCard</th>\n",
       "      <th>IsActiveMember</th>\n",
       "      <th>EstimatedSalary</th>\n",
       "      <th>Exited</th>\n",
       "    </tr>\n",
       "  </thead>\n",
       "  <tbody>\n",
       "    <tr>\n",
       "      <th>0</th>\n",
       "      <td>1</td>\n",
       "      <td>15634602</td>\n",
       "      <td>Hargrave</td>\n",
       "      <td>619</td>\n",
       "      <td>France</td>\n",
       "      <td>Female</td>\n",
       "      <td>42</td>\n",
       "      <td>2</td>\n",
       "      <td>0.00</td>\n",
       "      <td>1</td>\n",
       "      <td>1</td>\n",
       "      <td>1</td>\n",
       "      <td>101348.88</td>\n",
       "      <td>1</td>\n",
       "    </tr>\n",
       "    <tr>\n",
       "      <th>1</th>\n",
       "      <td>2</td>\n",
       "      <td>15647311</td>\n",
       "      <td>Hill</td>\n",
       "      <td>608</td>\n",
       "      <td>Spain</td>\n",
       "      <td>Female</td>\n",
       "      <td>41</td>\n",
       "      <td>1</td>\n",
       "      <td>83807.86</td>\n",
       "      <td>1</td>\n",
       "      <td>0</td>\n",
       "      <td>1</td>\n",
       "      <td>112542.58</td>\n",
       "      <td>0</td>\n",
       "    </tr>\n",
       "    <tr>\n",
       "      <th>2</th>\n",
       "      <td>3</td>\n",
       "      <td>15619304</td>\n",
       "      <td>Onio</td>\n",
       "      <td>502</td>\n",
       "      <td>France</td>\n",
       "      <td>Female</td>\n",
       "      <td>42</td>\n",
       "      <td>8</td>\n",
       "      <td>159660.80</td>\n",
       "      <td>3</td>\n",
       "      <td>1</td>\n",
       "      <td>0</td>\n",
       "      <td>113931.57</td>\n",
       "      <td>1</td>\n",
       "    </tr>\n",
       "    <tr>\n",
       "      <th>3</th>\n",
       "      <td>4</td>\n",
       "      <td>15701354</td>\n",
       "      <td>Boni</td>\n",
       "      <td>699</td>\n",
       "      <td>France</td>\n",
       "      <td>Female</td>\n",
       "      <td>39</td>\n",
       "      <td>1</td>\n",
       "      <td>0.00</td>\n",
       "      <td>2</td>\n",
       "      <td>0</td>\n",
       "      <td>0</td>\n",
       "      <td>93826.63</td>\n",
       "      <td>0</td>\n",
       "    </tr>\n",
       "    <tr>\n",
       "      <th>4</th>\n",
       "      <td>5</td>\n",
       "      <td>15737888</td>\n",
       "      <td>Mitchell</td>\n",
       "      <td>850</td>\n",
       "      <td>Spain</td>\n",
       "      <td>Female</td>\n",
       "      <td>43</td>\n",
       "      <td>2</td>\n",
       "      <td>125510.82</td>\n",
       "      <td>1</td>\n",
       "      <td>1</td>\n",
       "      <td>1</td>\n",
       "      <td>79084.10</td>\n",
       "      <td>0</td>\n",
       "    </tr>\n",
       "  </tbody>\n",
       "</table>\n",
       "</div>\n",
       "      <button class=\"colab-df-convert\" onclick=\"convertToInteractive('df-df5fb764-3a49-4177-beff-fc04a682e8fa')\"\n",
       "              title=\"Convert this dataframe to an interactive table.\"\n",
       "              style=\"display:none;\">\n",
       "        \n",
       "  <svg xmlns=\"http://www.w3.org/2000/svg\" height=\"24px\"viewBox=\"0 0 24 24\"\n",
       "       width=\"24px\">\n",
       "    <path d=\"M0 0h24v24H0V0z\" fill=\"none\"/>\n",
       "    <path d=\"M18.56 5.44l.94 2.06.94-2.06 2.06-.94-2.06-.94-.94-2.06-.94 2.06-2.06.94zm-11 1L8.5 8.5l.94-2.06 2.06-.94-2.06-.94L8.5 2.5l-.94 2.06-2.06.94zm10 10l.94 2.06.94-2.06 2.06-.94-2.06-.94-.94-2.06-.94 2.06-2.06.94z\"/><path d=\"M17.41 7.96l-1.37-1.37c-.4-.4-.92-.59-1.43-.59-.52 0-1.04.2-1.43.59L10.3 9.45l-7.72 7.72c-.78.78-.78 2.05 0 2.83L4 21.41c.39.39.9.59 1.41.59.51 0 1.02-.2 1.41-.59l7.78-7.78 2.81-2.81c.8-.78.8-2.07 0-2.86zM5.41 20L4 18.59l7.72-7.72 1.47 1.35L5.41 20z\"/>\n",
       "  </svg>\n",
       "      </button>\n",
       "      \n",
       "  <style>\n",
       "    .colab-df-container {\n",
       "      display:flex;\n",
       "      flex-wrap:wrap;\n",
       "      gap: 12px;\n",
       "    }\n",
       "\n",
       "    .colab-df-convert {\n",
       "      background-color: #E8F0FE;\n",
       "      border: none;\n",
       "      border-radius: 50%;\n",
       "      cursor: pointer;\n",
       "      display: none;\n",
       "      fill: #1967D2;\n",
       "      height: 32px;\n",
       "      padding: 0 0 0 0;\n",
       "      width: 32px;\n",
       "    }\n",
       "\n",
       "    .colab-df-convert:hover {\n",
       "      background-color: #E2EBFA;\n",
       "      box-shadow: 0px 1px 2px rgba(60, 64, 67, 0.3), 0px 1px 3px 1px rgba(60, 64, 67, 0.15);\n",
       "      fill: #174EA6;\n",
       "    }\n",
       "\n",
       "    [theme=dark] .colab-df-convert {\n",
       "      background-color: #3B4455;\n",
       "      fill: #D2E3FC;\n",
       "    }\n",
       "\n",
       "    [theme=dark] .colab-df-convert:hover {\n",
       "      background-color: #434B5C;\n",
       "      box-shadow: 0px 1px 3px 1px rgba(0, 0, 0, 0.15);\n",
       "      filter: drop-shadow(0px 1px 2px rgba(0, 0, 0, 0.3));\n",
       "      fill: #FFFFFF;\n",
       "    }\n",
       "  </style>\n",
       "\n",
       "      <script>\n",
       "        const buttonEl =\n",
       "          document.querySelector('#df-df5fb764-3a49-4177-beff-fc04a682e8fa button.colab-df-convert');\n",
       "        buttonEl.style.display =\n",
       "          google.colab.kernel.accessAllowed ? 'block' : 'none';\n",
       "\n",
       "        async function convertToInteractive(key) {\n",
       "          const element = document.querySelector('#df-df5fb764-3a49-4177-beff-fc04a682e8fa');\n",
       "          const dataTable =\n",
       "            await google.colab.kernel.invokeFunction('convertToInteractive',\n",
       "                                                     [key], {});\n",
       "          if (!dataTable) return;\n",
       "\n",
       "          const docLinkHtml = 'Like what you see? Visit the ' +\n",
       "            '<a target=\"_blank\" href=https://colab.research.google.com/notebooks/data_table.ipynb>data table notebook</a>'\n",
       "            + ' to learn more about interactive tables.';\n",
       "          element.innerHTML = '';\n",
       "          dataTable['output_type'] = 'display_data';\n",
       "          await google.colab.output.renderOutput(dataTable, element);\n",
       "          const docLink = document.createElement('div');\n",
       "          docLink.innerHTML = docLinkHtml;\n",
       "          element.appendChild(docLink);\n",
       "        }\n",
       "      </script>\n",
       "    </div>\n",
       "  </div>\n",
       "  "
      ],
      "text/plain": [
       "   RowNumber  CustomerId   Surname  CreditScore Geography  Gender  Age  \\\n",
       "0          1    15634602  Hargrave          619    France  Female   42   \n",
       "1          2    15647311      Hill          608     Spain  Female   41   \n",
       "2          3    15619304      Onio          502    France  Female   42   \n",
       "3          4    15701354      Boni          699    France  Female   39   \n",
       "4          5    15737888  Mitchell          850     Spain  Female   43   \n",
       "\n",
       "   Tenure    Balance  NumOfProducts  HasCrCard  IsActiveMember  \\\n",
       "0       2       0.00              1          1               1   \n",
       "1       1   83807.86              1          0               1   \n",
       "2       8  159660.80              3          1               0   \n",
       "3       1       0.00              2          0               0   \n",
       "4       2  125510.82              1          1               1   \n",
       "\n",
       "   EstimatedSalary  Exited  \n",
       "0        101348.88       1  \n",
       "1        112542.58       0  \n",
       "2        113931.57       1  \n",
       "3         93826.63       0  \n",
       "4         79084.10       0  "
      ]
     },
     "execution_count": 3,
     "metadata": {},
     "output_type": "execute_result"
    }
   ],
   "source": [
    "data.head()"
   ]
  },
  {
   "cell_type": "code",
   "execution_count": 4,
   "metadata": {
    "colab": {
     "base_uri": "https://localhost:8080/"
    },
    "id": "FKkzPzqeV3qJ",
    "outputId": "8ac628f9-78ac-42e4-c5d4-2dcb6052061e"
   },
   "outputs": [
    {
     "name": "stdout",
     "output_type": "stream",
     "text": [
      "<class 'pandas.core.frame.DataFrame'>\n",
      "RangeIndex: 10000 entries, 0 to 9999\n",
      "Data columns (total 14 columns):\n",
      " #   Column           Non-Null Count  Dtype  \n",
      "---  ------           --------------  -----  \n",
      " 0   RowNumber        10000 non-null  int64  \n",
      " 1   CustomerId       10000 non-null  int64  \n",
      " 2   Surname          10000 non-null  object \n",
      " 3   CreditScore      10000 non-null  int64  \n",
      " 4   Geography        10000 non-null  object \n",
      " 5   Gender           10000 non-null  object \n",
      " 6   Age              10000 non-null  int64  \n",
      " 7   Tenure           10000 non-null  int64  \n",
      " 8   Balance          10000 non-null  float64\n",
      " 9   NumOfProducts    10000 non-null  int64  \n",
      " 10  HasCrCard        10000 non-null  int64  \n",
      " 11  IsActiveMember   10000 non-null  int64  \n",
      " 12  EstimatedSalary  10000 non-null  float64\n",
      " 13  Exited           10000 non-null  int64  \n",
      "dtypes: float64(2), int64(9), object(3)\n",
      "memory usage: 1.1+ MB\n"
     ]
    }
   ],
   "source": [
    "data.info()\n",
    "# Create a function to rename columns:\n",
    "def rename_columns(data):\n",
    "  list_columns_new = []\n",
    "  list_columns_old = list(data.columns)\n",
    "  for column in data.columns:\n",
    "    column = column[0].lower() + column[1:]\n",
    "    for i in range(len(column)):\n",
    "      if column[i].isupper():\n",
    "        column = column[0: i] + '_' + column[i].lower() + column[i+1:]\n",
    "    list_columns_new.append(column)\n",
    "  for j in range(len(list_columns_old)):\n",
    "    data = data.rename(columns={list_columns_old[j]: list_columns_new[j]})\n",
    "  return data"
   ]
  },
  {
   "cell_type": "markdown",
   "metadata": {
    "id": "yjKqtkafOISh"
   },
   "source": [
    "The data types are correctly assigned, and there are no anomalies. The only thing left is to rename the columns to follow Python table formatting conventions. To achieve this, I created a function."
   ]
  },
  {
   "cell_type": "code",
   "execution_count": 5,
   "metadata": {
    "colab": {
     "base_uri": "https://localhost:8080/",
     "height": 270
    },
    "id": "rMr-1p692JRc",
    "outputId": "273440cc-5853-4a1f-e73e-25363dcd9004"
   },
   "outputs": [
    {
     "data": {
      "text/html": [
       "\n",
       "  <div id=\"df-608518f0-7ddd-4cf7-a84e-632428667a0a\">\n",
       "    <div class=\"colab-df-container\">\n",
       "      <div>\n",
       "<style scoped>\n",
       "    .dataframe tbody tr th:only-of-type {\n",
       "        vertical-align: middle;\n",
       "    }\n",
       "\n",
       "    .dataframe tbody tr th {\n",
       "        vertical-align: top;\n",
       "    }\n",
       "\n",
       "    .dataframe thead th {\n",
       "        text-align: right;\n",
       "    }\n",
       "</style>\n",
       "<table border=\"1\" class=\"dataframe\">\n",
       "  <thead>\n",
       "    <tr style=\"text-align: right;\">\n",
       "      <th></th>\n",
       "      <th>row_number</th>\n",
       "      <th>customer_id</th>\n",
       "      <th>surname</th>\n",
       "      <th>credit_score</th>\n",
       "      <th>geography</th>\n",
       "      <th>gender</th>\n",
       "      <th>age</th>\n",
       "      <th>tenure</th>\n",
       "      <th>balance</th>\n",
       "      <th>num_of_products</th>\n",
       "      <th>has_cr_card</th>\n",
       "      <th>is_active_member</th>\n",
       "      <th>estimated_salary</th>\n",
       "      <th>exited</th>\n",
       "    </tr>\n",
       "  </thead>\n",
       "  <tbody>\n",
       "    <tr>\n",
       "      <th>0</th>\n",
       "      <td>1</td>\n",
       "      <td>15634602</td>\n",
       "      <td>Hargrave</td>\n",
       "      <td>619</td>\n",
       "      <td>France</td>\n",
       "      <td>Female</td>\n",
       "      <td>42</td>\n",
       "      <td>2</td>\n",
       "      <td>0.00</td>\n",
       "      <td>1</td>\n",
       "      <td>1</td>\n",
       "      <td>1</td>\n",
       "      <td>101348.88</td>\n",
       "      <td>1</td>\n",
       "    </tr>\n",
       "    <tr>\n",
       "      <th>1</th>\n",
       "      <td>2</td>\n",
       "      <td>15647311</td>\n",
       "      <td>Hill</td>\n",
       "      <td>608</td>\n",
       "      <td>Spain</td>\n",
       "      <td>Female</td>\n",
       "      <td>41</td>\n",
       "      <td>1</td>\n",
       "      <td>83807.86</td>\n",
       "      <td>1</td>\n",
       "      <td>0</td>\n",
       "      <td>1</td>\n",
       "      <td>112542.58</td>\n",
       "      <td>0</td>\n",
       "    </tr>\n",
       "    <tr>\n",
       "      <th>2</th>\n",
       "      <td>3</td>\n",
       "      <td>15619304</td>\n",
       "      <td>Onio</td>\n",
       "      <td>502</td>\n",
       "      <td>France</td>\n",
       "      <td>Female</td>\n",
       "      <td>42</td>\n",
       "      <td>8</td>\n",
       "      <td>159660.80</td>\n",
       "      <td>3</td>\n",
       "      <td>1</td>\n",
       "      <td>0</td>\n",
       "      <td>113931.57</td>\n",
       "      <td>1</td>\n",
       "    </tr>\n",
       "    <tr>\n",
       "      <th>3</th>\n",
       "      <td>4</td>\n",
       "      <td>15701354</td>\n",
       "      <td>Boni</td>\n",
       "      <td>699</td>\n",
       "      <td>France</td>\n",
       "      <td>Female</td>\n",
       "      <td>39</td>\n",
       "      <td>1</td>\n",
       "      <td>0.00</td>\n",
       "      <td>2</td>\n",
       "      <td>0</td>\n",
       "      <td>0</td>\n",
       "      <td>93826.63</td>\n",
       "      <td>0</td>\n",
       "    </tr>\n",
       "    <tr>\n",
       "      <th>4</th>\n",
       "      <td>5</td>\n",
       "      <td>15737888</td>\n",
       "      <td>Mitchell</td>\n",
       "      <td>850</td>\n",
       "      <td>Spain</td>\n",
       "      <td>Female</td>\n",
       "      <td>43</td>\n",
       "      <td>2</td>\n",
       "      <td>125510.82</td>\n",
       "      <td>1</td>\n",
       "      <td>1</td>\n",
       "      <td>1</td>\n",
       "      <td>79084.10</td>\n",
       "      <td>0</td>\n",
       "    </tr>\n",
       "  </tbody>\n",
       "</table>\n",
       "</div>\n",
       "      <button class=\"colab-df-convert\" onclick=\"convertToInteractive('df-608518f0-7ddd-4cf7-a84e-632428667a0a')\"\n",
       "              title=\"Convert this dataframe to an interactive table.\"\n",
       "              style=\"display:none;\">\n",
       "        \n",
       "  <svg xmlns=\"http://www.w3.org/2000/svg\" height=\"24px\"viewBox=\"0 0 24 24\"\n",
       "       width=\"24px\">\n",
       "    <path d=\"M0 0h24v24H0V0z\" fill=\"none\"/>\n",
       "    <path d=\"M18.56 5.44l.94 2.06.94-2.06 2.06-.94-2.06-.94-.94-2.06-.94 2.06-2.06.94zm-11 1L8.5 8.5l.94-2.06 2.06-.94-2.06-.94L8.5 2.5l-.94 2.06-2.06.94zm10 10l.94 2.06.94-2.06 2.06-.94-2.06-.94-.94-2.06-.94 2.06-2.06.94z\"/><path d=\"M17.41 7.96l-1.37-1.37c-.4-.4-.92-.59-1.43-.59-.52 0-1.04.2-1.43.59L10.3 9.45l-7.72 7.72c-.78.78-.78 2.05 0 2.83L4 21.41c.39.39.9.59 1.41.59.51 0 1.02-.2 1.41-.59l7.78-7.78 2.81-2.81c.8-.78.8-2.07 0-2.86zM5.41 20L4 18.59l7.72-7.72 1.47 1.35L5.41 20z\"/>\n",
       "  </svg>\n",
       "      </button>\n",
       "      \n",
       "  <style>\n",
       "    .colab-df-container {\n",
       "      display:flex;\n",
       "      flex-wrap:wrap;\n",
       "      gap: 12px;\n",
       "    }\n",
       "\n",
       "    .colab-df-convert {\n",
       "      background-color: #E8F0FE;\n",
       "      border: none;\n",
       "      border-radius: 50%;\n",
       "      cursor: pointer;\n",
       "      display: none;\n",
       "      fill: #1967D2;\n",
       "      height: 32px;\n",
       "      padding: 0 0 0 0;\n",
       "      width: 32px;\n",
       "    }\n",
       "\n",
       "    .colab-df-convert:hover {\n",
       "      background-color: #E2EBFA;\n",
       "      box-shadow: 0px 1px 2px rgba(60, 64, 67, 0.3), 0px 1px 3px 1px rgba(60, 64, 67, 0.15);\n",
       "      fill: #174EA6;\n",
       "    }\n",
       "\n",
       "    [theme=dark] .colab-df-convert {\n",
       "      background-color: #3B4455;\n",
       "      fill: #D2E3FC;\n",
       "    }\n",
       "\n",
       "    [theme=dark] .colab-df-convert:hover {\n",
       "      background-color: #434B5C;\n",
       "      box-shadow: 0px 1px 3px 1px rgba(0, 0, 0, 0.15);\n",
       "      filter: drop-shadow(0px 1px 2px rgba(0, 0, 0, 0.3));\n",
       "      fill: #FFFFFF;\n",
       "    }\n",
       "  </style>\n",
       "\n",
       "      <script>\n",
       "        const buttonEl =\n",
       "          document.querySelector('#df-608518f0-7ddd-4cf7-a84e-632428667a0a button.colab-df-convert');\n",
       "        buttonEl.style.display =\n",
       "          google.colab.kernel.accessAllowed ? 'block' : 'none';\n",
       "\n",
       "        async function convertToInteractive(key) {\n",
       "          const element = document.querySelector('#df-608518f0-7ddd-4cf7-a84e-632428667a0a');\n",
       "          const dataTable =\n",
       "            await google.colab.kernel.invokeFunction('convertToInteractive',\n",
       "                                                     [key], {});\n",
       "          if (!dataTable) return;\n",
       "\n",
       "          const docLinkHtml = 'Like what you see? Visit the ' +\n",
       "            '<a target=\"_blank\" href=https://colab.research.google.com/notebooks/data_table.ipynb>data table notebook</a>'\n",
       "            + ' to learn more about interactive tables.';\n",
       "          element.innerHTML = '';\n",
       "          dataTable['output_type'] = 'display_data';\n",
       "          await google.colab.output.renderOutput(dataTable, element);\n",
       "          const docLink = document.createElement('div');\n",
       "          docLink.innerHTML = docLinkHtml;\n",
       "          element.appendChild(docLink);\n",
       "        }\n",
       "      </script>\n",
       "    </div>\n",
       "  </div>\n",
       "  "
      ],
      "text/plain": [
       "   row_number  customer_id   surname  credit_score geography  gender  age  \\\n",
       "0           1     15634602  Hargrave           619    France  Female   42   \n",
       "1           2     15647311      Hill           608     Spain  Female   41   \n",
       "2           3     15619304      Onio           502    France  Female   42   \n",
       "3           4     15701354      Boni           699    France  Female   39   \n",
       "4           5     15737888  Mitchell           850     Spain  Female   43   \n",
       "\n",
       "   tenure    balance  num_of_products  has_cr_card  is_active_member  \\\n",
       "0       2       0.00                1            1                 1   \n",
       "1       1   83807.86                1            0                 1   \n",
       "2       8  159660.80                3            1                 0   \n",
       "3       1       0.00                2            0                 0   \n",
       "4       2  125510.82                1            1                 1   \n",
       "\n",
       "   estimated_salary  exited  \n",
       "0         101348.88       1  \n",
       "1         112542.58       0  \n",
       "2         113931.57       1  \n",
       "3          93826.63       0  \n",
       "4          79084.10       0  "
      ]
     },
     "execution_count": 5,
     "metadata": {},
     "output_type": "execute_result"
    }
   ],
   "source": [
    "data = rename_columns(data)\n",
    "# Проверим\n",
    "data.head()"
   ]
  },
  {
   "cell_type": "code",
   "execution_count": 6,
   "metadata": {
    "colab": {
     "base_uri": "https://localhost:8080/",
     "height": 458
    },
    "id": "tiBoZ4tpWJ7W",
    "outputId": "cf28c588-8927-4465-a05c-0cedefa7782e"
   },
   "outputs": [
    {
     "data": {
      "text/html": [
       "\n",
       "  <div id=\"df-859be3bd-ad66-4bcd-9c42-8383f9071071\">\n",
       "    <div class=\"colab-df-container\">\n",
       "      <div>\n",
       "<style scoped>\n",
       "    .dataframe tbody tr th:only-of-type {\n",
       "        vertical-align: middle;\n",
       "    }\n",
       "\n",
       "    .dataframe tbody tr th {\n",
       "        vertical-align: top;\n",
       "    }\n",
       "\n",
       "    .dataframe thead th {\n",
       "        text-align: right;\n",
       "    }\n",
       "</style>\n",
       "<table border=\"1\" class=\"dataframe\">\n",
       "  <thead>\n",
       "    <tr style=\"text-align: right;\">\n",
       "      <th></th>\n",
       "      <th>row_number</th>\n",
       "      <th>customer_id</th>\n",
       "      <th>surname</th>\n",
       "      <th>credit_score</th>\n",
       "      <th>geography</th>\n",
       "      <th>gender</th>\n",
       "      <th>age</th>\n",
       "      <th>tenure</th>\n",
       "      <th>balance</th>\n",
       "      <th>num_of_products</th>\n",
       "      <th>has_cr_card</th>\n",
       "      <th>is_active_member</th>\n",
       "      <th>estimated_salary</th>\n",
       "      <th>exited</th>\n",
       "    </tr>\n",
       "  </thead>\n",
       "  <tbody>\n",
       "    <tr>\n",
       "      <th>count</th>\n",
       "      <td>10000.00000</td>\n",
       "      <td>1.000000e+04</td>\n",
       "      <td>10000</td>\n",
       "      <td>10000.000000</td>\n",
       "      <td>10000</td>\n",
       "      <td>10000</td>\n",
       "      <td>10000.000000</td>\n",
       "      <td>10000.000000</td>\n",
       "      <td>10000.000000</td>\n",
       "      <td>10000.000000</td>\n",
       "      <td>10000.00000</td>\n",
       "      <td>10000.000000</td>\n",
       "      <td>10000.000000</td>\n",
       "      <td>10000.000000</td>\n",
       "    </tr>\n",
       "    <tr>\n",
       "      <th>unique</th>\n",
       "      <td>NaN</td>\n",
       "      <td>NaN</td>\n",
       "      <td>2932</td>\n",
       "      <td>NaN</td>\n",
       "      <td>3</td>\n",
       "      <td>2</td>\n",
       "      <td>NaN</td>\n",
       "      <td>NaN</td>\n",
       "      <td>NaN</td>\n",
       "      <td>NaN</td>\n",
       "      <td>NaN</td>\n",
       "      <td>NaN</td>\n",
       "      <td>NaN</td>\n",
       "      <td>NaN</td>\n",
       "    </tr>\n",
       "    <tr>\n",
       "      <th>top</th>\n",
       "      <td>NaN</td>\n",
       "      <td>NaN</td>\n",
       "      <td>Smith</td>\n",
       "      <td>NaN</td>\n",
       "      <td>France</td>\n",
       "      <td>Male</td>\n",
       "      <td>NaN</td>\n",
       "      <td>NaN</td>\n",
       "      <td>NaN</td>\n",
       "      <td>NaN</td>\n",
       "      <td>NaN</td>\n",
       "      <td>NaN</td>\n",
       "      <td>NaN</td>\n",
       "      <td>NaN</td>\n",
       "    </tr>\n",
       "    <tr>\n",
       "      <th>freq</th>\n",
       "      <td>NaN</td>\n",
       "      <td>NaN</td>\n",
       "      <td>32</td>\n",
       "      <td>NaN</td>\n",
       "      <td>5014</td>\n",
       "      <td>5457</td>\n",
       "      <td>NaN</td>\n",
       "      <td>NaN</td>\n",
       "      <td>NaN</td>\n",
       "      <td>NaN</td>\n",
       "      <td>NaN</td>\n",
       "      <td>NaN</td>\n",
       "      <td>NaN</td>\n",
       "      <td>NaN</td>\n",
       "    </tr>\n",
       "    <tr>\n",
       "      <th>mean</th>\n",
       "      <td>5000.50000</td>\n",
       "      <td>1.569094e+07</td>\n",
       "      <td>NaN</td>\n",
       "      <td>650.528800</td>\n",
       "      <td>NaN</td>\n",
       "      <td>NaN</td>\n",
       "      <td>38.921800</td>\n",
       "      <td>5.012800</td>\n",
       "      <td>76485.889288</td>\n",
       "      <td>1.530200</td>\n",
       "      <td>0.70550</td>\n",
       "      <td>0.515100</td>\n",
       "      <td>100090.239881</td>\n",
       "      <td>0.203700</td>\n",
       "    </tr>\n",
       "    <tr>\n",
       "      <th>std</th>\n",
       "      <td>2886.89568</td>\n",
       "      <td>7.193619e+04</td>\n",
       "      <td>NaN</td>\n",
       "      <td>96.653299</td>\n",
       "      <td>NaN</td>\n",
       "      <td>NaN</td>\n",
       "      <td>10.487806</td>\n",
       "      <td>2.892174</td>\n",
       "      <td>62397.405202</td>\n",
       "      <td>0.581654</td>\n",
       "      <td>0.45584</td>\n",
       "      <td>0.499797</td>\n",
       "      <td>57510.492818</td>\n",
       "      <td>0.402769</td>\n",
       "    </tr>\n",
       "    <tr>\n",
       "      <th>min</th>\n",
       "      <td>1.00000</td>\n",
       "      <td>1.556570e+07</td>\n",
       "      <td>NaN</td>\n",
       "      <td>350.000000</td>\n",
       "      <td>NaN</td>\n",
       "      <td>NaN</td>\n",
       "      <td>18.000000</td>\n",
       "      <td>0.000000</td>\n",
       "      <td>0.000000</td>\n",
       "      <td>1.000000</td>\n",
       "      <td>0.00000</td>\n",
       "      <td>0.000000</td>\n",
       "      <td>11.580000</td>\n",
       "      <td>0.000000</td>\n",
       "    </tr>\n",
       "    <tr>\n",
       "      <th>25%</th>\n",
       "      <td>2500.75000</td>\n",
       "      <td>1.562853e+07</td>\n",
       "      <td>NaN</td>\n",
       "      <td>584.000000</td>\n",
       "      <td>NaN</td>\n",
       "      <td>NaN</td>\n",
       "      <td>32.000000</td>\n",
       "      <td>3.000000</td>\n",
       "      <td>0.000000</td>\n",
       "      <td>1.000000</td>\n",
       "      <td>0.00000</td>\n",
       "      <td>0.000000</td>\n",
       "      <td>51002.110000</td>\n",
       "      <td>0.000000</td>\n",
       "    </tr>\n",
       "    <tr>\n",
       "      <th>50%</th>\n",
       "      <td>5000.50000</td>\n",
       "      <td>1.569074e+07</td>\n",
       "      <td>NaN</td>\n",
       "      <td>652.000000</td>\n",
       "      <td>NaN</td>\n",
       "      <td>NaN</td>\n",
       "      <td>37.000000</td>\n",
       "      <td>5.000000</td>\n",
       "      <td>97198.540000</td>\n",
       "      <td>1.000000</td>\n",
       "      <td>1.00000</td>\n",
       "      <td>1.000000</td>\n",
       "      <td>100193.915000</td>\n",
       "      <td>0.000000</td>\n",
       "    </tr>\n",
       "    <tr>\n",
       "      <th>75%</th>\n",
       "      <td>7500.25000</td>\n",
       "      <td>1.575323e+07</td>\n",
       "      <td>NaN</td>\n",
       "      <td>718.000000</td>\n",
       "      <td>NaN</td>\n",
       "      <td>NaN</td>\n",
       "      <td>44.000000</td>\n",
       "      <td>7.000000</td>\n",
       "      <td>127644.240000</td>\n",
       "      <td>2.000000</td>\n",
       "      <td>1.00000</td>\n",
       "      <td>1.000000</td>\n",
       "      <td>149388.247500</td>\n",
       "      <td>0.000000</td>\n",
       "    </tr>\n",
       "    <tr>\n",
       "      <th>max</th>\n",
       "      <td>10000.00000</td>\n",
       "      <td>1.581569e+07</td>\n",
       "      <td>NaN</td>\n",
       "      <td>850.000000</td>\n",
       "      <td>NaN</td>\n",
       "      <td>NaN</td>\n",
       "      <td>92.000000</td>\n",
       "      <td>10.000000</td>\n",
       "      <td>250898.090000</td>\n",
       "      <td>4.000000</td>\n",
       "      <td>1.00000</td>\n",
       "      <td>1.000000</td>\n",
       "      <td>199992.480000</td>\n",
       "      <td>1.000000</td>\n",
       "    </tr>\n",
       "  </tbody>\n",
       "</table>\n",
       "</div>\n",
       "      <button class=\"colab-df-convert\" onclick=\"convertToInteractive('df-859be3bd-ad66-4bcd-9c42-8383f9071071')\"\n",
       "              title=\"Convert this dataframe to an interactive table.\"\n",
       "              style=\"display:none;\">\n",
       "        \n",
       "  <svg xmlns=\"http://www.w3.org/2000/svg\" height=\"24px\"viewBox=\"0 0 24 24\"\n",
       "       width=\"24px\">\n",
       "    <path d=\"M0 0h24v24H0V0z\" fill=\"none\"/>\n",
       "    <path d=\"M18.56 5.44l.94 2.06.94-2.06 2.06-.94-2.06-.94-.94-2.06-.94 2.06-2.06.94zm-11 1L8.5 8.5l.94-2.06 2.06-.94-2.06-.94L8.5 2.5l-.94 2.06-2.06.94zm10 10l.94 2.06.94-2.06 2.06-.94-2.06-.94-.94-2.06-.94 2.06-2.06.94z\"/><path d=\"M17.41 7.96l-1.37-1.37c-.4-.4-.92-.59-1.43-.59-.52 0-1.04.2-1.43.59L10.3 9.45l-7.72 7.72c-.78.78-.78 2.05 0 2.83L4 21.41c.39.39.9.59 1.41.59.51 0 1.02-.2 1.41-.59l7.78-7.78 2.81-2.81c.8-.78.8-2.07 0-2.86zM5.41 20L4 18.59l7.72-7.72 1.47 1.35L5.41 20z\"/>\n",
       "  </svg>\n",
       "      </button>\n",
       "      \n",
       "  <style>\n",
       "    .colab-df-container {\n",
       "      display:flex;\n",
       "      flex-wrap:wrap;\n",
       "      gap: 12px;\n",
       "    }\n",
       "\n",
       "    .colab-df-convert {\n",
       "      background-color: #E8F0FE;\n",
       "      border: none;\n",
       "      border-radius: 50%;\n",
       "      cursor: pointer;\n",
       "      display: none;\n",
       "      fill: #1967D2;\n",
       "      height: 32px;\n",
       "      padding: 0 0 0 0;\n",
       "      width: 32px;\n",
       "    }\n",
       "\n",
       "    .colab-df-convert:hover {\n",
       "      background-color: #E2EBFA;\n",
       "      box-shadow: 0px 1px 2px rgba(60, 64, 67, 0.3), 0px 1px 3px 1px rgba(60, 64, 67, 0.15);\n",
       "      fill: #174EA6;\n",
       "    }\n",
       "\n",
       "    [theme=dark] .colab-df-convert {\n",
       "      background-color: #3B4455;\n",
       "      fill: #D2E3FC;\n",
       "    }\n",
       "\n",
       "    [theme=dark] .colab-df-convert:hover {\n",
       "      background-color: #434B5C;\n",
       "      box-shadow: 0px 1px 3px 1px rgba(0, 0, 0, 0.15);\n",
       "      filter: drop-shadow(0px 1px 2px rgba(0, 0, 0, 0.3));\n",
       "      fill: #FFFFFF;\n",
       "    }\n",
       "  </style>\n",
       "\n",
       "      <script>\n",
       "        const buttonEl =\n",
       "          document.querySelector('#df-859be3bd-ad66-4bcd-9c42-8383f9071071 button.colab-df-convert');\n",
       "        buttonEl.style.display =\n",
       "          google.colab.kernel.accessAllowed ? 'block' : 'none';\n",
       "\n",
       "        async function convertToInteractive(key) {\n",
       "          const element = document.querySelector('#df-859be3bd-ad66-4bcd-9c42-8383f9071071');\n",
       "          const dataTable =\n",
       "            await google.colab.kernel.invokeFunction('convertToInteractive',\n",
       "                                                     [key], {});\n",
       "          if (!dataTable) return;\n",
       "\n",
       "          const docLinkHtml = 'Like what you see? Visit the ' +\n",
       "            '<a target=\"_blank\" href=https://colab.research.google.com/notebooks/data_table.ipynb>data table notebook</a>'\n",
       "            + ' to learn more about interactive tables.';\n",
       "          element.innerHTML = '';\n",
       "          dataTable['output_type'] = 'display_data';\n",
       "          await google.colab.output.renderOutput(dataTable, element);\n",
       "          const docLink = document.createElement('div');\n",
       "          docLink.innerHTML = docLinkHtml;\n",
       "          element.appendChild(docLink);\n",
       "        }\n",
       "      </script>\n",
       "    </div>\n",
       "  </div>\n",
       "  "
      ],
      "text/plain": [
       "         row_number   customer_id surname  credit_score geography gender  \\\n",
       "count   10000.00000  1.000000e+04   10000  10000.000000     10000  10000   \n",
       "unique          NaN           NaN    2932           NaN         3      2   \n",
       "top             NaN           NaN   Smith           NaN    France   Male   \n",
       "freq            NaN           NaN      32           NaN      5014   5457   \n",
       "mean     5000.50000  1.569094e+07     NaN    650.528800       NaN    NaN   \n",
       "std      2886.89568  7.193619e+04     NaN     96.653299       NaN    NaN   \n",
       "min         1.00000  1.556570e+07     NaN    350.000000       NaN    NaN   \n",
       "25%      2500.75000  1.562853e+07     NaN    584.000000       NaN    NaN   \n",
       "50%      5000.50000  1.569074e+07     NaN    652.000000       NaN    NaN   \n",
       "75%      7500.25000  1.575323e+07     NaN    718.000000       NaN    NaN   \n",
       "max     10000.00000  1.581569e+07     NaN    850.000000       NaN    NaN   \n",
       "\n",
       "                 age        tenure        balance  num_of_products  \\\n",
       "count   10000.000000  10000.000000   10000.000000     10000.000000   \n",
       "unique           NaN           NaN            NaN              NaN   \n",
       "top              NaN           NaN            NaN              NaN   \n",
       "freq             NaN           NaN            NaN              NaN   \n",
       "mean       38.921800      5.012800   76485.889288         1.530200   \n",
       "std        10.487806      2.892174   62397.405202         0.581654   \n",
       "min        18.000000      0.000000       0.000000         1.000000   \n",
       "25%        32.000000      3.000000       0.000000         1.000000   \n",
       "50%        37.000000      5.000000   97198.540000         1.000000   \n",
       "75%        44.000000      7.000000  127644.240000         2.000000   \n",
       "max        92.000000     10.000000  250898.090000         4.000000   \n",
       "\n",
       "        has_cr_card  is_active_member  estimated_salary        exited  \n",
       "count   10000.00000      10000.000000      10000.000000  10000.000000  \n",
       "unique          NaN               NaN               NaN           NaN  \n",
       "top             NaN               NaN               NaN           NaN  \n",
       "freq            NaN               NaN               NaN           NaN  \n",
       "mean        0.70550          0.515100     100090.239881      0.203700  \n",
       "std         0.45584          0.499797      57510.492818      0.402769  \n",
       "min         0.00000          0.000000         11.580000      0.000000  \n",
       "25%         0.00000          0.000000      51002.110000      0.000000  \n",
       "50%         1.00000          1.000000     100193.915000      0.000000  \n",
       "75%         1.00000          1.000000     149388.247500      0.000000  \n",
       "max         1.00000          1.000000     199992.480000      1.000000  "
      ]
     },
     "execution_count": 6,
     "metadata": {},
     "output_type": "execute_result"
    }
   ],
   "source": [
    "data.describe(include='all')"
   ]
  },
  {
   "cell_type": "code",
   "execution_count": 7,
   "metadata": {
    "colab": {
     "base_uri": "https://localhost:8080/"
    },
    "id": "ikwJMioaWQ9y",
    "outputId": "507e93fa-893f-4714-da67-7a84628deb4e"
   },
   "outputs": [
    {
     "data": {
      "text/plain": [
       "row_number          0\n",
       "customer_id         0\n",
       "surname             0\n",
       "credit_score        0\n",
       "geography           0\n",
       "gender              0\n",
       "age                 0\n",
       "tenure              0\n",
       "balance             0\n",
       "num_of_products     0\n",
       "has_cr_card         0\n",
       "is_active_member    0\n",
       "estimated_salary    0\n",
       "exited              0\n",
       "dtype: int64"
      ]
     },
     "execution_count": 7,
     "metadata": {},
     "output_type": "execute_result"
    }
   ],
   "source": [
    "data.isna().sum()"
   ]
  },
  {
   "cell_type": "markdown",
   "metadata": {
    "id": "gQHpgVl4N7tH"
   },
   "source": [
    "No missing values, that's great."
   ]
  },
  {
   "cell_type": "code",
   "execution_count": 8,
   "metadata": {
    "id": "6cCVNXyR8F7K"
   },
   "outputs": [],
   "source": [
    "# Create a list of feature and target column names\n",
    "columns_features = ['credit_score', 'geography', 'gender', 'age', 'tenure', \n",
    "                    'balance', 'num_of_products', \n",
    "                    'has_cr_card', 'is_active_member', 'estimated_salary']\n",
    "column_target = ['exited']"
   ]
  },
  {
   "cell_type": "code",
   "execution_count": 9,
   "metadata": {
    "colab": {
     "base_uri": "https://localhost:8080/",
     "height": 1000
    },
    "id": "bbiFUkBPJ326",
    "outputId": "93d4979b-95ac-4dd1-b491-bf854868d05c"
   },
   "outputs": [
    {
     "data": {
      "image/png": "[encoded data removed]",
      "text/plain": [
       "<Figure size 640x480 with 1 Axes>"
      ]
     },
     "metadata": {},
     "output_type": "display_data"
    },
    {
     "data": {
      "image/png": "[encoded data removed]",
      "text/plain": [
       "<Figure size 640x480 with 1 Axes>"
      ]
     },
     "metadata": {},
     "output_type": "display_data"
    },
    {
     "data": {
      "image/png": "[encoded data removed]",
      "text/plain": [
       "<Figure size 640x480 with 1 Axes>"
      ]
     },
     "metadata": {},
     "output_type": "display_data"
    },
    {
     "data": {
      "image/png": "[encoded data removed]",
      "text/plain": [
       "<Figure size 640x480 with 1 Axes>"
      ]
     },
     "metadata": {},
     "output_type": "display_data"
    },
    {
     "data": {
      "image/png": "[encoded data removed]",
      "text/plain": [
       "<Figure size 640x480 with 1 Axes>"
      ]
     },
     "metadata": {},
     "output_type": "display_data"
    },
    {
     "data": {
      "image/png": "[encoded data removed]",
      "text/plain": [
       "<Figure size 640x480 with 1 Axes>"
      ]
     },
     "metadata": {},
     "output_type": "display_data"
    }
   ],
   "source": [
    "# Examine the data for outliers\n",
    "for col in ['credit_score', 'age', 'tenure', 'balance', \n",
    "            'num_of_products', 'estimated_salary']:\n",
    "  data.boxplot(column=col)\n",
    "  plt.show()"
   ]
  },
  {
   "cell_type": "markdown",
   "metadata": {
    "id": "MsCMq1JXNw1j"
   },
   "source": [
    "I did not find significant outliers; the data behaves normally."
   ]
  },
  {
   "cell_type": "code",
   "execution_count": 10,
   "metadata": {
    "colab": {
     "base_uri": "https://localhost:8080/"
    },
    "id": "CebF4fM7oxSK",
    "outputId": "d84dcc9d-93bc-431c-f34b-aab8337569dd"
   },
   "outputs": [
    {
     "name": "stdout",
     "output_type": "stream",
     "text": [
      "['France' 'Spain' 'Germany']\n",
      "['Female' 'Male']\n",
      "[1 0]\n",
      "[1 0]\n"
     ]
    }
   ],
   "source": [
    "# Check other columns\n",
    "for feat in ['geography', 'gender', 'has_cr_card', 'is_active_member']:\n",
    "  print(data[feat].unique())"
   ]
  },
  {
   "cell_type": "markdown",
   "metadata": {
    "id": "z1iAnNMQWEcA"
   },
   "source": [
    "No unusual findings or implicit duplicates were detected; we can proceed to the analysis."
   ]
  },
  {
   "cell_type": "markdown",
   "metadata": {
    "id": "oPDNL40Iz68t"
   },
   "source": [
    "**Conclusion:**\n",
    "\n",
    "The data was opened and checked for integrity. The check for missing values revealed that there are no missing values. Additionally, no outliers that could significantly affect the model's quality were detected. The data is fully suitable for obtaining a relevant prediction."
   ]
  },
  {
   "cell_type": "markdown",
   "metadata": {
    "id": "WkAxggiHSuMp"
   },
   "source": [
    "## Exploration of the Task"
   ]
  },
  {
   "cell_type": "code",
   "execution_count": 11,
   "metadata": {
    "id": "HEUabnFKSuMq"
   },
   "outputs": [],
   "source": [
    "# Create the feature and target datasets\n",
    "features = data[columns_features]\n",
    "target = data[column_target]"
   ]
  },
  {
   "cell_type": "code",
   "execution_count": 12,
   "metadata": {
    "colab": {
     "base_uri": "https://localhost:8080/",
     "height": 355
    },
    "id": "OqBL-2RZclzz",
    "outputId": "03c34999-2ce1-491e-e701-2b9863a60e5b"
   },
   "outputs": [
    {
     "name": "stderr",
     "output_type": "stream",
     "text": [
      "<ipython-input-12-6760f04a5034>:2: FutureWarning: The default value of numeric_only in DataFrame.corr is deprecated. In a future version, it will default to False. Select only valid columns or specify the value of numeric_only to silence this warning.\n",
      "  features.corr()\n"
     ]
    },
    {
     "data": {
      "text/html": [
       "\n",
       "  <div id=\"df-7d4ae414-f9bc-4b94-865f-0326b4f437f7\">\n",
       "    <div class=\"colab-df-container\">\n",
       "      <div>\n",
       "<style scoped>\n",
       "    .dataframe tbody tr th:only-of-type {\n",
       "        vertical-align: middle;\n",
       "    }\n",
       "\n",
       "    .dataframe tbody tr th {\n",
       "        vertical-align: top;\n",
       "    }\n",
       "\n",
       "    .dataframe thead th {\n",
       "        text-align: right;\n",
       "    }\n",
       "</style>\n",
       "<table border=\"1\" class=\"dataframe\">\n",
       "  <thead>\n",
       "    <tr style=\"text-align: right;\">\n",
       "      <th></th>\n",
       "      <th>credit_score</th>\n",
       "      <th>age</th>\n",
       "      <th>tenure</th>\n",
       "      <th>balance</th>\n",
       "      <th>num_of_products</th>\n",
       "      <th>has_cr_card</th>\n",
       "      <th>is_active_member</th>\n",
       "      <th>estimated_salary</th>\n",
       "    </tr>\n",
       "  </thead>\n",
       "  <tbody>\n",
       "    <tr>\n",
       "      <th>credit_score</th>\n",
       "      <td>1.000000</td>\n",
       "      <td>-0.003965</td>\n",
       "      <td>0.000842</td>\n",
       "      <td>0.006268</td>\n",
       "      <td>0.012238</td>\n",
       "      <td>-0.005458</td>\n",
       "      <td>0.025651</td>\n",
       "      <td>-0.001384</td>\n",
       "    </tr>\n",
       "    <tr>\n",
       "      <th>age</th>\n",
       "      <td>-0.003965</td>\n",
       "      <td>1.000000</td>\n",
       "      <td>-0.009997</td>\n",
       "      <td>0.028308</td>\n",
       "      <td>-0.030680</td>\n",
       "      <td>-0.011721</td>\n",
       "      <td>0.085472</td>\n",
       "      <td>-0.007201</td>\n",
       "    </tr>\n",
       "    <tr>\n",
       "      <th>tenure</th>\n",
       "      <td>0.000842</td>\n",
       "      <td>-0.009997</td>\n",
       "      <td>1.000000</td>\n",
       "      <td>-0.012254</td>\n",
       "      <td>0.013444</td>\n",
       "      <td>0.022583</td>\n",
       "      <td>-0.028362</td>\n",
       "      <td>0.007784</td>\n",
       "    </tr>\n",
       "    <tr>\n",
       "      <th>balance</th>\n",
       "      <td>0.006268</td>\n",
       "      <td>0.028308</td>\n",
       "      <td>-0.012254</td>\n",
       "      <td>1.000000</td>\n",
       "      <td>-0.304180</td>\n",
       "      <td>-0.014858</td>\n",
       "      <td>-0.010084</td>\n",
       "      <td>0.012797</td>\n",
       "    </tr>\n",
       "    <tr>\n",
       "      <th>num_of_products</th>\n",
       "      <td>0.012238</td>\n",
       "      <td>-0.030680</td>\n",
       "      <td>0.013444</td>\n",
       "      <td>-0.304180</td>\n",
       "      <td>1.000000</td>\n",
       "      <td>0.003183</td>\n",
       "      <td>0.009612</td>\n",
       "      <td>0.014204</td>\n",
       "    </tr>\n",
       "    <tr>\n",
       "      <th>has_cr_card</th>\n",
       "      <td>-0.005458</td>\n",
       "      <td>-0.011721</td>\n",
       "      <td>0.022583</td>\n",
       "      <td>-0.014858</td>\n",
       "      <td>0.003183</td>\n",
       "      <td>1.000000</td>\n",
       "      <td>-0.011866</td>\n",
       "      <td>-0.009933</td>\n",
       "    </tr>\n",
       "    <tr>\n",
       "      <th>is_active_member</th>\n",
       "      <td>0.025651</td>\n",
       "      <td>0.085472</td>\n",
       "      <td>-0.028362</td>\n",
       "      <td>-0.010084</td>\n",
       "      <td>0.009612</td>\n",
       "      <td>-0.011866</td>\n",
       "      <td>1.000000</td>\n",
       "      <td>-0.011421</td>\n",
       "    </tr>\n",
       "    <tr>\n",
       "      <th>estimated_salary</th>\n",
       "      <td>-0.001384</td>\n",
       "      <td>-0.007201</td>\n",
       "      <td>0.007784</td>\n",
       "      <td>0.012797</td>\n",
       "      <td>0.014204</td>\n",
       "      <td>-0.009933</td>\n",
       "      <td>-0.011421</td>\n",
       "      <td>1.000000</td>\n",
       "    </tr>\n",
       "  </tbody>\n",
       "</table>\n",
       "</div>\n",
       "      <button class=\"colab-df-convert\" onclick=\"convertToInteractive('df-7d4ae414-f9bc-4b94-865f-0326b4f437f7')\"\n",
       "              title=\"Convert this dataframe to an interactive table.\"\n",
       "              style=\"display:none;\">\n",
       "        \n",
       "  <svg xmlns=\"http://www.w3.org/2000/svg\" height=\"24px\"viewBox=\"0 0 24 24\"\n",
       "       width=\"24px\">\n",
       "    <path d=\"M0 0h24v24H0V0z\" fill=\"none\"/>\n",
       "    <path d=\"M18.56 5.44l.94 2.06.94-2.06 2.06-.94-2.06-.94-.94-2.06-.94 2.06-2.06.94zm-11 1L8.5 8.5l.94-2.06 2.06-.94-2.06-.94L8.5 2.5l-.94 2.06-2.06.94zm10 10l.94 2.06.94-2.06 2.06-.94-2.06-.94-.94-2.06-.94 2.06-2.06.94z\"/><path d=\"M17.41 7.96l-1.37-1.37c-.4-.4-.92-.59-1.43-.59-.52 0-1.04.2-1.43.59L10.3 9.45l-7.72 7.72c-.78.78-.78 2.05 0 2.83L4 21.41c.39.39.9.59 1.41.59.51 0 1.02-.2 1.41-.59l7.78-7.78 2.81-2.81c.8-.78.8-2.07 0-2.86zM5.41 20L4 18.59l7.72-7.72 1.47 1.35L5.41 20z\"/>\n",
       "  </svg>\n",
       "      </button>\n",
       "      \n",
       "  <style>\n",
       "    .colab-df-container {\n",
       "      display:flex;\n",
       "      flex-wrap:wrap;\n",
       "      gap: 12px;\n",
       "    }\n",
       "\n",
       "    .colab-df-convert {\n",
       "      background-color: #E8F0FE;\n",
       "      border: none;\n",
       "      border-radius: 50%;\n",
       "      cursor: pointer;\n",
       "      display: none;\n",
       "      fill: #1967D2;\n",
       "      height: 32px;\n",
       "      padding: 0 0 0 0;\n",
       "      width: 32px;\n",
       "    }\n",
       "\n",
       "    .colab-df-convert:hover {\n",
       "      background-color: #E2EBFA;\n",
       "      box-shadow: 0px 1px 2px rgba(60, 64, 67, 0.3), 0px 1px 3px 1px rgba(60, 64, 67, 0.15);\n",
       "      fill: #174EA6;\n",
       "    }\n",
       "\n",
       "    [theme=dark] .colab-df-convert {\n",
       "      background-color: #3B4455;\n",
       "      fill: #D2E3FC;\n",
       "    }\n",
       "\n",
       "    [theme=dark] .colab-df-convert:hover {\n",
       "      background-color: #434B5C;\n",
       "      box-shadow: 0px 1px 3px 1px rgba(0, 0, 0, 0.15);\n",
       "      filter: drop-shadow(0px 1px 2px rgba(0, 0, 0, 0.3));\n",
       "      fill: #FFFFFF;\n",
       "    }\n",
       "  </style>\n",
       "\n",
       "      <script>\n",
       "        const buttonEl =\n",
       "          document.querySelector('#df-7d4ae414-f9bc-4b94-865f-0326b4f437f7 button.colab-df-convert');\n",
       "        buttonEl.style.display =\n",
       "          google.colab.kernel.accessAllowed ? 'block' : 'none';\n",
       "\n",
       "        async function convertToInteractive(key) {\n",
       "          const element = document.querySelector('#df-7d4ae414-f9bc-4b94-865f-0326b4f437f7');\n",
       "          const dataTable =\n",
       "            await google.colab.kernel.invokeFunction('convertToInteractive',\n",
       "                                                     [key], {});\n",
       "          if (!dataTable) return;\n",
       "\n",
       "          const docLinkHtml = 'Like what you see? Visit the ' +\n",
       "            '<a target=\"_blank\" href=https://colab.research.google.com/notebooks/data_table.ipynb>data table notebook</a>'\n",
       "            + ' to learn more about interactive tables.';\n",
       "          element.innerHTML = '';\n",
       "          dataTable['output_type'] = 'display_data';\n",
       "          await google.colab.output.renderOutput(dataTable, element);\n",
       "          const docLink = document.createElement('div');\n",
       "          docLink.innerHTML = docLinkHtml;\n",
       "          element.appendChild(docLink);\n",
       "        }\n",
       "      </script>\n",
       "    </div>\n",
       "  </div>\n",
       "  "
      ],
      "text/plain": [
       "                  credit_score       age    tenure   balance  num_of_products  \\\n",
       "credit_score          1.000000 -0.003965  0.000842  0.006268         0.012238   \n",
       "age                  -0.003965  1.000000 -0.009997  0.028308        -0.030680   \n",
       "tenure                0.000842 -0.009997  1.000000 -0.012254         0.013444   \n",
       "balance               0.006268  0.028308 -0.012254  1.000000        -0.304180   \n",
       "num_of_products       0.012238 -0.030680  0.013444 -0.304180         1.000000   \n",
       "has_cr_card          -0.005458 -0.011721  0.022583 -0.014858         0.003183   \n",
       "is_active_member      0.025651  0.085472 -0.028362 -0.010084         0.009612   \n",
       "estimated_salary     -0.001384 -0.007201  0.007784  0.012797         0.014204   \n",
       "\n",
       "                  has_cr_card  is_active_member  estimated_salary  \n",
       "credit_score        -0.005458          0.025651         -0.001384  \n",
       "age                 -0.011721          0.085472         -0.007201  \n",
       "tenure               0.022583         -0.028362          0.007784  \n",
       "balance             -0.014858         -0.010084          0.012797  \n",
       "num_of_products      0.003183          0.009612          0.014204  \n",
       "has_cr_card          1.000000         -0.011866         -0.009933  \n",
       "is_active_member    -0.011866          1.000000         -0.011421  \n",
       "estimated_salary    -0.009933         -0.011421          1.000000  "
      ]
     },
     "execution_count": 12,
     "metadata": {},
     "output_type": "execute_result"
    }
   ],
   "source": [
    "# To avoid multicollinearity, we will check the correlation:\n",
    "features.corr()"
   ]
  },
  {
   "cell_type": "markdown",
   "metadata": {
    "id": "69F8ypT5RtT_"
   },
   "source": [
    "No strong correlation was found, so we will not encounter multicollinearity issues."
   ]
  },
  {
   "cell_type": "code",
   "execution_count": 13,
   "metadata": {
    "colab": {
     "base_uri": "https://localhost:8080/"
    },
    "id": "ZT4COK9Qc74t",
    "outputId": "e34c6595-65fd-4add-e808-b7f34f4dc4e9"
   },
   "outputs": [
    {
     "data": {
      "text/plain": [
       "exited    0.2037\n",
       "dtype: float64"
      ]
     },
     "execution_count": 13,
     "metadata": {},
     "output_type": "execute_result"
    }
   ],
   "source": [
    "target.mean()"
   ]
  },
  {
   "cell_type": "markdown",
   "metadata": {
    "id": "BI3u6PPbSUgI"
   },
   "source": [
    "There is a strong class imbalance with a ratio of 8:2 between the zero and one classes. Such a significant class imbalance may deteriorate the model's quality. We will keep this in mind, but for now, let's proceed with encoding and normalizing the features."
   ]
  },
  {
   "cell_type": "code",
   "execution_count": 14,
   "metadata": {
    "colab": {
     "base_uri": "https://localhost:8080/",
     "height": 423
    },
    "id": "S8pf5swM1Aa_",
    "outputId": "ee770188-13c3-45e5-d3bb-8646592da3a5"
   },
   "outputs": [
    {
     "data": {
      "text/html": [
       "\n",
       "  <div id=\"df-1c4ed36d-74bc-41b0-af1e-08034f36a5d8\">\n",
       "    <div class=\"colab-df-container\">\n",
       "      <div>\n",
       "<style scoped>\n",
       "    .dataframe tbody tr th:only-of-type {\n",
       "        vertical-align: middle;\n",
       "    }\n",
       "\n",
       "    .dataframe tbody tr th {\n",
       "        vertical-align: top;\n",
       "    }\n",
       "\n",
       "    .dataframe thead th {\n",
       "        text-align: right;\n",
       "    }\n",
       "</style>\n",
       "<table border=\"1\" class=\"dataframe\">\n",
       "  <thead>\n",
       "    <tr style=\"text-align: right;\">\n",
       "      <th></th>\n",
       "      <th>credit_score</th>\n",
       "      <th>geography</th>\n",
       "      <th>gender</th>\n",
       "      <th>age</th>\n",
       "      <th>tenure</th>\n",
       "      <th>balance</th>\n",
       "      <th>num_of_products</th>\n",
       "      <th>has_cr_card</th>\n",
       "      <th>is_active_member</th>\n",
       "      <th>estimated_salary</th>\n",
       "    </tr>\n",
       "  </thead>\n",
       "  <tbody>\n",
       "    <tr>\n",
       "      <th>0</th>\n",
       "      <td>228.0</td>\n",
       "      <td>0.0</td>\n",
       "      <td>0.0</td>\n",
       "      <td>24.0</td>\n",
       "      <td>2.0</td>\n",
       "      <td>0.0</td>\n",
       "      <td>0.0</td>\n",
       "      <td>1.0</td>\n",
       "      <td>1.0</td>\n",
       "      <td>5068.0</td>\n",
       "    </tr>\n",
       "    <tr>\n",
       "      <th>1</th>\n",
       "      <td>217.0</td>\n",
       "      <td>2.0</td>\n",
       "      <td>0.0</td>\n",
       "      <td>23.0</td>\n",
       "      <td>1.0</td>\n",
       "      <td>743.0</td>\n",
       "      <td>0.0</td>\n",
       "      <td>0.0</td>\n",
       "      <td>1.0</td>\n",
       "      <td>5639.0</td>\n",
       "    </tr>\n",
       "    <tr>\n",
       "      <th>2</th>\n",
       "      <td>111.0</td>\n",
       "      <td>0.0</td>\n",
       "      <td>0.0</td>\n",
       "      <td>24.0</td>\n",
       "      <td>8.0</td>\n",
       "      <td>5793.0</td>\n",
       "      <td>2.0</td>\n",
       "      <td>1.0</td>\n",
       "      <td>0.0</td>\n",
       "      <td>5707.0</td>\n",
       "    </tr>\n",
       "    <tr>\n",
       "      <th>3</th>\n",
       "      <td>308.0</td>\n",
       "      <td>0.0</td>\n",
       "      <td>0.0</td>\n",
       "      <td>21.0</td>\n",
       "      <td>1.0</td>\n",
       "      <td>0.0</td>\n",
       "      <td>1.0</td>\n",
       "      <td>0.0</td>\n",
       "      <td>0.0</td>\n",
       "      <td>4704.0</td>\n",
       "    </tr>\n",
       "    <tr>\n",
       "      <th>4</th>\n",
       "      <td>459.0</td>\n",
       "      <td>2.0</td>\n",
       "      <td>0.0</td>\n",
       "      <td>25.0</td>\n",
       "      <td>2.0</td>\n",
       "      <td>3696.0</td>\n",
       "      <td>0.0</td>\n",
       "      <td>1.0</td>\n",
       "      <td>1.0</td>\n",
       "      <td>3925.0</td>\n",
       "    </tr>\n",
       "    <tr>\n",
       "      <th>...</th>\n",
       "      <td>...</td>\n",
       "      <td>...</td>\n",
       "      <td>...</td>\n",
       "      <td>...</td>\n",
       "      <td>...</td>\n",
       "      <td>...</td>\n",
       "      <td>...</td>\n",
       "      <td>...</td>\n",
       "      <td>...</td>\n",
       "      <td>...</td>\n",
       "    </tr>\n",
       "    <tr>\n",
       "      <th>9995</th>\n",
       "      <td>380.0</td>\n",
       "      <td>0.0</td>\n",
       "      <td>1.0</td>\n",
       "      <td>21.0</td>\n",
       "      <td>5.0</td>\n",
       "      <td>0.0</td>\n",
       "      <td>1.0</td>\n",
       "      <td>1.0</td>\n",
       "      <td>0.0</td>\n",
       "      <td>4827.0</td>\n",
       "    </tr>\n",
       "    <tr>\n",
       "      <th>9996</th>\n",
       "      <td>125.0</td>\n",
       "      <td>0.0</td>\n",
       "      <td>1.0</td>\n",
       "      <td>17.0</td>\n",
       "      <td>10.0</td>\n",
       "      <td>124.0</td>\n",
       "      <td>0.0</td>\n",
       "      <td>1.0</td>\n",
       "      <td>1.0</td>\n",
       "      <td>5087.0</td>\n",
       "    </tr>\n",
       "    <tr>\n",
       "      <th>9997</th>\n",
       "      <td>318.0</td>\n",
       "      <td>0.0</td>\n",
       "      <td>0.0</td>\n",
       "      <td>18.0</td>\n",
       "      <td>7.0</td>\n",
       "      <td>0.0</td>\n",
       "      <td>0.0</td>\n",
       "      <td>0.0</td>\n",
       "      <td>1.0</td>\n",
       "      <td>2062.0</td>\n",
       "    </tr>\n",
       "    <tr>\n",
       "      <th>9998</th>\n",
       "      <td>381.0</td>\n",
       "      <td>1.0</td>\n",
       "      <td>1.0</td>\n",
       "      <td>24.0</td>\n",
       "      <td>3.0</td>\n",
       "      <td>427.0</td>\n",
       "      <td>1.0</td>\n",
       "      <td>1.0</td>\n",
       "      <td>0.0</td>\n",
       "      <td>4639.0</td>\n",
       "    </tr>\n",
       "    <tr>\n",
       "      <th>9999</th>\n",
       "      <td>401.0</td>\n",
       "      <td>0.0</td>\n",
       "      <td>0.0</td>\n",
       "      <td>10.0</td>\n",
       "      <td>4.0</td>\n",
       "      <td>4112.0</td>\n",
       "      <td>0.0</td>\n",
       "      <td>1.0</td>\n",
       "      <td>0.0</td>\n",
       "      <td>1878.0</td>\n",
       "    </tr>\n",
       "  </tbody>\n",
       "</table>\n",
       "<p>10000 rows × 10 columns</p>\n",
       "</div>\n",
       "      <button class=\"colab-df-convert\" onclick=\"convertToInteractive('df-1c4ed36d-74bc-41b0-af1e-08034f36a5d8')\"\n",
       "              title=\"Convert this dataframe to an interactive table.\"\n",
       "              style=\"display:none;\">\n",
       "        \n",
       "  <svg xmlns=\"http://www.w3.org/2000/svg\" height=\"24px\"viewBox=\"0 0 24 24\"\n",
       "       width=\"24px\">\n",
       "    <path d=\"M0 0h24v24H0V0z\" fill=\"none\"/>\n",
       "    <path d=\"M18.56 5.44l.94 2.06.94-2.06 2.06-.94-2.06-.94-.94-2.06-.94 2.06-2.06.94zm-11 1L8.5 8.5l.94-2.06 2.06-.94-2.06-.94L8.5 2.5l-.94 2.06-2.06.94zm10 10l.94 2.06.94-2.06 2.06-.94-2.06-.94-.94-2.06-.94 2.06-2.06.94z\"/><path d=\"M17.41 7.96l-1.37-1.37c-.4-.4-.92-.59-1.43-.59-.52 0-1.04.2-1.43.59L10.3 9.45l-7.72 7.72c-.78.78-.78 2.05 0 2.83L4 21.41c.39.39.9.59 1.41.59.51 0 1.02-.2 1.41-.59l7.78-7.78 2.81-2.81c.8-.78.8-2.07 0-2.86zM5.41 20L4 18.59l7.72-7.72 1.47 1.35L5.41 20z\"/>\n",
       "  </svg>\n",
       "      </button>\n",
       "      \n",
       "  <style>\n",
       "    .colab-df-container {\n",
       "      display:flex;\n",
       "      flex-wrap:wrap;\n",
       "      gap: 12px;\n",
       "    }\n",
       "\n",
       "    .colab-df-convert {\n",
       "      background-color: #E8F0FE;\n",
       "      border: none;\n",
       "      border-radius: 50%;\n",
       "      cursor: pointer;\n",
       "      display: none;\n",
       "      fill: #1967D2;\n",
       "      height: 32px;\n",
       "      padding: 0 0 0 0;\n",
       "      width: 32px;\n",
       "    }\n",
       "\n",
       "    .colab-df-convert:hover {\n",
       "      background-color: #E2EBFA;\n",
       "      box-shadow: 0px 1px 2px rgba(60, 64, 67, 0.3), 0px 1px 3px 1px rgba(60, 64, 67, 0.15);\n",
       "      fill: #174EA6;\n",
       "    }\n",
       "\n",
       "    [theme=dark] .colab-df-convert {\n",
       "      background-color: #3B4455;\n",
       "      fill: #D2E3FC;\n",
       "    }\n",
       "\n",
       "    [theme=dark] .colab-df-convert:hover {\n",
       "      background-color: #434B5C;\n",
       "      box-shadow: 0px 1px 3px 1px rgba(0, 0, 0, 0.15);\n",
       "      filter: drop-shadow(0px 1px 2px rgba(0, 0, 0, 0.3));\n",
       "      fill: #FFFFFF;\n",
       "    }\n",
       "  </style>\n",
       "\n",
       "      <script>\n",
       "        const buttonEl =\n",
       "          document.querySelector('#df-1c4ed36d-74bc-41b0-af1e-08034f36a5d8 button.colab-df-convert');\n",
       "        buttonEl.style.display =\n",
       "          google.colab.kernel.accessAllowed ? 'block' : 'none';\n",
       "\n",
       "        async function convertToInteractive(key) {\n",
       "          const element = document.querySelector('#df-1c4ed36d-74bc-41b0-af1e-08034f36a5d8');\n",
       "          const dataTable =\n",
       "            await google.colab.kernel.invokeFunction('convertToInteractive',\n",
       "                                                     [key], {});\n",
       "          if (!dataTable) return;\n",
       "\n",
       "          const docLinkHtml = 'Like what you see? Visit the ' +\n",
       "            '<a target=\"_blank\" href=https://colab.research.google.com/notebooks/data_table.ipynb>data table notebook</a>'\n",
       "            + ' to learn more about interactive tables.';\n",
       "          element.innerHTML = '';\n",
       "          dataTable['output_type'] = 'display_data';\n",
       "          await google.colab.output.renderOutput(dataTable, element);\n",
       "          const docLink = document.createElement('div');\n",
       "          docLink.innerHTML = docLinkHtml;\n",
       "          element.appendChild(docLink);\n",
       "        }\n",
       "      </script>\n",
       "    </div>\n",
       "  </div>\n",
       "  "
      ],
      "text/plain": [
       "      credit_score  geography  gender   age  tenure  balance  num_of_products  \\\n",
       "0            228.0        0.0     0.0  24.0     2.0      0.0              0.0   \n",
       "1            217.0        2.0     0.0  23.0     1.0    743.0              0.0   \n",
       "2            111.0        0.0     0.0  24.0     8.0   5793.0              2.0   \n",
       "3            308.0        0.0     0.0  21.0     1.0      0.0              1.0   \n",
       "4            459.0        2.0     0.0  25.0     2.0   3696.0              0.0   \n",
       "...            ...        ...     ...   ...     ...      ...              ...   \n",
       "9995         380.0        0.0     1.0  21.0     5.0      0.0              1.0   \n",
       "9996         125.0        0.0     1.0  17.0    10.0    124.0              0.0   \n",
       "9997         318.0        0.0     0.0  18.0     7.0      0.0              0.0   \n",
       "9998         381.0        1.0     1.0  24.0     3.0    427.0              1.0   \n",
       "9999         401.0        0.0     0.0  10.0     4.0   4112.0              0.0   \n",
       "\n",
       "      has_cr_card  is_active_member  estimated_salary  \n",
       "0             1.0               1.0            5068.0  \n",
       "1             0.0               1.0            5639.0  \n",
       "2             1.0               0.0            5707.0  \n",
       "3             0.0               0.0            4704.0  \n",
       "4             1.0               1.0            3925.0  \n",
       "...           ...               ...               ...  \n",
       "9995          1.0               0.0            4827.0  \n",
       "9996          1.0               1.0            5087.0  \n",
       "9997          0.0               1.0            2062.0  \n",
       "9998          1.0               0.0            4639.0  \n",
       "9999          1.0               0.0            1878.0  \n",
       "\n",
       "[10000 rows x 10 columns]"
      ]
     },
     "execution_count": 14,
     "metadata": {},
     "output_type": "execute_result"
    }
   ],
   "source": [
    "encoder = OrdinalEncoder()\n",
    "features_ordinal =  pd.DataFrame(encoder.fit_transform(features), \n",
    "                                 columns=features.columns)\n",
    "# Проверим\n",
    "features_ordinal"
   ]
  },
  {
   "cell_type": "markdown",
   "metadata": {
    "id": "_SmBPssXUaPb"
   },
   "source": [
    "We will use ordinal encoding for categorical features. Since models work only with numerical features, it is necessary to convert all data into numbers."
   ]
  },
  {
   "cell_type": "code",
   "execution_count": 15,
   "metadata": {
    "id": "K1eyWE8XQ35u"
   },
   "outputs": [],
   "source": [
    "# Let's split the data into training and testing sets\n",
    "features_train, features_valid_test, target_train, target_valid_test =\\\n",
    "train_test_split(features_ordinal, target, test_size=0.4, random_state=404540,\n",
    "                 stratify=target)\n",
    "\n",
    "features_valid, features_test, target_valid, target_test =\\\n",
    "train_test_split(features_valid_test, target_valid_test, test_size=0.5, \n",
    "                 random_state=404540, stratify=target_valid_test)"
   ]
  },
  {
   "cell_type": "code",
   "execution_count": 16,
   "metadata": {
    "id": "o0sCQ1vtBSLX"
   },
   "outputs": [],
   "source": [
    "# Let's scale the data:\n",
    "numeric = ['credit_score', 'age', 'tenure', 'balance', \n",
    "           'num_of_products', 'estimated_salary']\n",
    "scaler = StandardScaler()\n",
    "scaler.fit(features_train[numeric])\n",
    "features_train[numeric] =  scaler.transform(features_train[numeric])\n",
    "features_valid[numeric] =  scaler.transform(features_valid[numeric])\n",
    "features_test[numeric] =  scaler.transform(features_test[numeric])"
   ]
  },
  {
   "cell_type": "markdown",
   "metadata": {
    "id": "ZxCE1ABy2Skk"
   },
   "source": [
    "Normalization is necessary to equalize the importance of features for the model. This step is crucial when feature values differ significantly, as in our case, where we observe a substantial difference between the features `age` and `balance` (with means and standard deviations differing by more than 1000 times!)."
   ]
  },
  {
   "cell_type": "code",
   "execution_count": 17,
   "metadata": {
    "colab": {
     "base_uri": "https://localhost:8080/"
    },
    "id": "o07z_Fn14BNR",
    "outputId": "76bfd296-afd6-4cac-dbe4-3153cc6f1f7d"
   },
   "outputs": [
    {
     "name": "stdout",
     "output_type": "stream",
     "text": [
      "(6000, 10)\n",
      "(2000, 10)\n",
      "(2000, 10)\n",
      "(6000, 1)\n",
      "(2000, 1)\n",
      "(2000, 1)\n"
     ]
    }
   ],
   "source": [
    "for i in [features_train, features_valid, features_test, target_train, \n",
    "          target_valid, target_test]:\n",
    "  print(i.shape)"
   ]
  },
  {
   "cell_type": "code",
   "execution_count": 18,
   "metadata": {
    "colab": {
     "base_uri": "https://localhost:8080/"
    },
    "id": "Z0bzvTyR4i9S",
    "outputId": "da8c8eff-07b5-4e43-e974-c22cce4b9ebc"
   },
   "outputs": [
    {
     "name": "stdout",
     "output_type": "stream",
     "text": [
      "Лучшая модель\n",
      "DecisionTreeClassifier(max_depth=20, random_state=404540)\n",
      "F1 без борьбы с дисбалансом - решающее дерево\n",
      "0.48418491484184917\n",
      "ROC_AUC без борьбы с дисбалансом - решающее дерево\n",
      "0.6766751343022529\n"
     ]
    }
   ],
   "source": [
    "best_model_tree = None\n",
    "best_prediction = None\n",
    "best_f1 = 0\n",
    "for depth in range(1, 21):\n",
    "  model = DecisionTreeClassifier(random_state=404540, max_depth=depth)\n",
    "  model.fit(features_train, target_train)\n",
    "  prediction = model.predict(features_valid)\n",
    "  if best_f1 < f1_score(target_valid, prediction):\n",
    "    best_model_tree = model\n",
    "    best_prediction = prediction\n",
    "print('Лучшая модель')\n",
    "print(best_model_tree)\n",
    "print('F1 без борьбы с дисбалансом - решающее дерево')\n",
    "print(f1_score(target_valid, best_prediction))\n",
    "print('ROC_AUC без борьбы с дисбалансом - решающее дерево')\n",
    "probabilities = best_model_tree.predict_proba(features_valid)[:, 1]\n",
    "print(roc_auc_score(target_valid, probabilities))"
   ]
  },
  {
   "cell_type": "markdown",
   "metadata": {
    "id": "-LHkS4Qp5kd_"
   },
   "source": [
    "The decision tree model evaluation with class imbalance showed mediocre results."
   ]
  },
  {
   "cell_type": "code",
   "execution_count": 19,
   "metadata": {
    "id": "-fEcECnH4kmO"
   },
   "outputs": [],
   "source": [
    "import warnings\n",
    "warnings.filterwarnings('ignore')"
   ]
  },
  {
   "cell_type": "code",
   "execution_count": 20,
   "metadata": {
    "colab": {
     "base_uri": "https://localhost:8080/"
    },
    "id": "xNmZAGKF8vqK",
    "outputId": "5c029819-a75e-4053-b0a5-2646a4f15bfa"
   },
   "outputs": [
    {
     "name": "stdout",
     "output_type": "stream",
     "text": [
      "Лучшая модель\n",
      "RandomForestClassifier(max_depth=12, n_estimators=90, random_state=404540)\n",
      "F1 без борьбы с дисбалансом - случайный лес\n",
      "0.5828220858895705\n",
      "ROC_AUC без борьбы с дисбалансом - случайный лес\n",
      "0.8437173691410981\n"
     ]
    }
   ],
   "source": [
    "best_model_forest = None\n",
    "best_prediction = None\n",
    "best_f1 = 0\n",
    "for depth in range (1, 21):\n",
    "  for est in range(10, 151, 10):\n",
    "    model = RandomForestClassifier(random_state=404540, max_depth=depth,\n",
    "                                   n_estimators=est)\n",
    "    model.fit(features_train, target_train)\n",
    "    prediction = model.predict(features_valid)\n",
    "    f1 = f1_score(target_valid, prediction)\n",
    "    if best_f1 < f1:\n",
    "      best_f1 = f1\n",
    "      best_model_forest = model\n",
    "      best_prediction = prediction\n",
    "print('Лучшая модель')\n",
    "print(best_model_forest)\n",
    "print('F1 без борьбы с дисбалансом - случайный лес')\n",
    "print(f1_score(target_valid, best_prediction))\n",
    "print('ROC_AUC без борьбы с дисбалансом - случайный лес')\n",
    "probabilities = best_model_forest.predict_proba(features_valid)[:, 1]\n",
    "print(roc_auc_score(target_valid, probabilities))"
   ]
  },
  {
   "cell_type": "markdown",
   "metadata": {
    "id": "BCYzB2cH5x1U"
   },
   "source": [
    "The random forest model also didn't impress with its results, but it was closer to the baseline."
   ]
  },
  {
   "cell_type": "markdown",
   "metadata": {
    "id": "auz4S0A36LbF"
   },
   "source": [
    "**Conclusion:**\n",
    "\n",
    "Testing models on data without addressing class imbalance yielded poor results, confirming the need to take measures to handle class imbalance."
   ]
  },
  {
   "cell_type": "markdown",
   "metadata": {
    "id": "c4Gdd2J7SuMr"
   },
   "source": [
    "## Handling Class Imbalance"
   ]
  },
  {
   "cell_type": "code",
   "execution_count": 21,
   "metadata": {
    "colab": {
     "base_uri": "https://localhost:8080/"
    },
    "id": "pufR5cvYSuMt",
    "outputId": "bd3966cb-bf3a-496c-be37-2a54d5d7b533"
   },
   "outputs": [
    {
     "name": "stdout",
     "output_type": "stream",
     "text": [
      "Лучшая модель\n",
      "DecisionTreeClassifier(class_weight='balanced', max_depth=5,\n",
      "                       random_state=404540)\n",
      "F1 борьба с дисбалансом - решающее дерево\n",
      "0.5488029465930019\n",
      "ROC_AUC борьба с дисбалансом - решающее дерево\n",
      "0.8258281393874614\n"
     ]
    }
   ],
   "source": [
    "# Let's check how the class_weight hyperparameter performs for the Random Forest model\n",
    "best_model_tree = None\n",
    "best_prediction = None\n",
    "best_f1 = 0\n",
    "for depth in range(1, 20):\n",
    "  model = DecisionTreeClassifier(random_state=404540, max_depth=depth, \n",
    "                                 class_weight='balanced')\n",
    "  model.fit(features_train, target_train)\n",
    "  prediction = model.predict(features_valid)\n",
    "  f1 = f1_score(target_valid, prediction)\n",
    "  if best_f1 < f1:\n",
    "    best_f1 = f1\n",
    "    best_model_tree_1 = model\n",
    "    best_prediction = prediction\n",
    "print('Лучшая модель')\n",
    "print(best_model_tree_1)\n",
    "print('F1 борьба с дисбалансом - решающее дерево')\n",
    "print(f1_score(target_valid, best_prediction))\n",
    "print('ROC_AUC борьба с дисбалансом - решающее дерево')\n",
    "probabilities = best_model_tree_1.predict_proba(features_valid)[:, 1]\n",
    "print(roc_auc_score(target_valid, probabilities))"
   ]
  },
  {
   "cell_type": "code",
   "execution_count": 22,
   "metadata": {
    "colab": {
     "base_uri": "https://localhost:8080/"
    },
    "id": "hQnvlXxbl3iC",
    "outputId": "43967f82-f612-47d1-f5c2-0a438b5bef26"
   },
   "outputs": [
    {
     "name": "stdout",
     "output_type": "stream",
     "text": [
      "Лучшая модель\n",
      "RandomForestClassifier(class_weight='balanced', max_depth=12, n_estimators=50,\n",
      "                       random_state=404540)\n",
      "F1 борьба с дисбалансом - случайный лес\n",
      "0.6190476190476191\n",
      "ROC_AUC борьба с дисбалансом - случайный лес\n",
      "0.8482079922757889\n"
     ]
    }
   ],
   "source": [
    "# Let's check how the hyperparameter class_weight performs for the Random Forest model\n",
    "best_model_forest_1 = None\n",
    "best_prediction = None\n",
    "best_f1 = 0\n",
    "for depth in range (1, 21):\n",
    "  for est in range(10, 151, 10):\n",
    "    model = RandomForestClassifier(random_state=404540, max_depth=depth, \n",
    "                                   n_estimators=est, class_weight='balanced')\n",
    "    model.fit(features_train, target_train)\n",
    "    f1 = f1_score(target_valid, prediction)\n",
    "    prediction = model.predict(features_valid)\n",
    "    if best_f1 < f1:\n",
    "      best_f1 = f1 \n",
    "      best_model_forest_1 = model\n",
    "      best_prediction = prediction\n",
    "print('Лучшая модель')\n",
    "print(best_model_forest_1)\n",
    "print('F1 борьба с дисбалансом - случайный лес')\n",
    "print(best_f1)\n",
    "print('ROC_AUC борьба с дисбалансом - случайный лес')\n",
    "probabilities = best_model_forest_1.predict_proba(features_valid)[:, 1]\n",
    "print(roc_auc_score(target_valid, probabilities))"
   ]
  },
  {
   "cell_type": "markdown",
   "metadata": {
    "id": "D_8WCXWw_mGf"
   },
   "source": [
    "The results are worse compared to when the `class_weight=None` hyperparameter was used."
   ]
  },
  {
   "cell_type": "code",
   "execution_count": 23,
   "metadata": {
    "id": "DMvP03Ibkb5C"
   },
   "outputs": [],
   "source": [
    "# Let's try to increase the samples\n",
    "oversample = SMOTE(random_state=404540)\n",
    "\n",
    "features_train_up, target_train_up = oversample.fit_resample(features_train, target_train)"
   ]
  },
  {
   "cell_type": "code",
   "execution_count": 24,
   "metadata": {
    "colab": {
     "base_uri": "https://localhost:8080/"
    },
    "id": "zutdpM6kpk4n",
    "outputId": "7835815e-a2b9-417c-c4b5-02af368df9b7"
   },
   "outputs": [
    {
     "name": "stdout",
     "output_type": "stream",
     "text": [
      "exited    1222\n",
      "dtype: int64\n",
      "exited    6000\n",
      "dtype: int64\n",
      "exited    4778\n",
      "dtype: int64\n",
      "exited    9556\n",
      "dtype: int64\n"
     ]
    }
   ],
   "source": [
    "print(target_train.sum())\n",
    "print(target_train.count())\n",
    "print(target_train_up.sum())\n",
    "print(target_train_up.count())"
   ]
  },
  {
   "cell_type": "markdown",
   "metadata": {
    "id": "vmKMUoPdAlO7"
   },
   "source": [
    "The function is working correctly"
   ]
  },
  {
   "cell_type": "markdown",
   "metadata": {
    "id": "WjIouNLn6JIW"
   },
   "source": [
    "The random forest model with increased sampling and the class_weight='balanced' hyperparameter showed good results. We'll focus on this model and try to improve it by hyperparameter tuning"
   ]
  },
  {
   "cell_type": "code",
   "execution_count": 25,
   "metadata": {
    "colab": {
     "base_uri": "https://localhost:8080/"
    },
    "id": "qWWFaatbQtVV",
    "outputId": "92009e4f-e271-4a07-dbb8-e9e01eee474c"
   },
   "outputs": [
    {
     "name": "stdout",
     "output_type": "stream",
     "text": [
      "Лучшая модель\n",
      "DecisionTreeClassifier(max_depth=5, random_state=404540)\n",
      "F1 борьба с дисбалансом - решающее дерево\n",
      "0.5646817248459959\n",
      "ROC_AUC борьба с дисбалансом - решающее дерево\n",
      "0.8174869785039276\n"
     ]
    }
   ],
   "source": [
    "best_model_tree = None\n",
    "best_prediction = None\n",
    "best_f1 = 0\n",
    "for depth in range(1, 20):\n",
    "  model = DecisionTreeClassifier(random_state=404540, max_depth=depth)\n",
    "  model.fit(features_train_up, target_train_up)\n",
    "  prediction = model.predict(features_valid)\n",
    "  f1 = f1_score(target_valid, prediction)\n",
    "  if best_f1 < f1:\n",
    "    best_f1 = f1\n",
    "    best_model_tree_2 = model\n",
    "    best_prediction = prediction\n",
    "print('Лучшая модель')\n",
    "print(best_model_tree_2)\n",
    "print('F1 борьба с дисбалансом - решающее дерево')\n",
    "print(f1_score(target_valid, best_prediction))\n",
    "print('ROC_AUC борьба с дисбалансом - решающее дерево')\n",
    "probabilities = best_model_tree_2.predict_proba(features_valid)[:, 1]\n",
    "print(roc_auc_score(target_valid, probabilities))"
   ]
  },
  {
   "cell_type": "code",
   "execution_count": 26,
   "metadata": {
    "colab": {
     "base_uri": "https://localhost:8080/"
    },
    "id": "vMfpYUi6_O9D",
    "outputId": "4945eaba-26a0-4546-8df2-a9afc5c92e57"
   },
   "outputs": [
    {
     "name": "stdout",
     "output_type": "stream",
     "text": [
      "Лучшая модель\n",
      "RandomForestClassifier(max_depth=13, n_estimators=40, random_state=404540)\n",
      "F1 борьба с дисбалансом - случайный лес\n",
      "0.6067961165048543\n",
      "ROC_AUC борьба с дисбалансом - случайный лес\n",
      "0.8468537875317538\n"
     ]
    }
   ],
   "source": [
    "best_model_forest_2 = None\n",
    "best_prediction = None\n",
    "best_f1 = 0\n",
    "for depth in range (1, 21):\n",
    "  for est in range(10, 151, 10):\n",
    "    model = RandomForestClassifier(random_state=404540, max_depth=depth, \n",
    "                                   n_estimators=est)\n",
    "    model.fit(features_train_up, target_train_up)\n",
    "    f1 = f1_score(target_valid, prediction)\n",
    "    prediction = model.predict(features_valid)\n",
    "    if best_f1 < f1:\n",
    "      best_f1 = f1 \n",
    "      best_model_forest_2 = model\n",
    "      best_prediction = prediction\n",
    "print('Лучшая модель')\n",
    "print(best_model_forest_2)\n",
    "print('F1 борьба с дисбалансом - случайный лес')\n",
    "print(best_f1)\n",
    "print('ROC_AUC борьба с дисбалансом - случайный лес')\n",
    "probabilities = best_model_forest_2.predict_proba(features_valid)[:, 1]\n",
    "print(roc_auc_score(target_valid, probabilities))"
   ]
  },
  {
   "cell_type": "code",
   "execution_count": 27,
   "metadata": {
    "id": "vGC_ccCXCD7a"
   },
   "outputs": [],
   "source": [
    "dummy = DummyClassifier(strategy='constant', constant=1)\n",
    "dummy.fit(features_train_up, target_train_up)\n",
    "dummy_pred = dummy.predict(features_valid)"
   ]
  },
  {
   "cell_type": "code",
   "execution_count": 28,
   "metadata": {
    "colab": {
     "base_uri": "https://localhost:8080/"
    },
    "id": "Pf23GI_fYHj0",
    "outputId": "3e0a743c-b975-42c3-ba84-baf06adf7480"
   },
   "outputs": [
    {
     "name": "stdout",
     "output_type": "stream",
     "text": [
      "Лучшая модель\n",
      "[[1433  160]\n",
      " [ 161  246]]\n",
      "f1_score: 0.6051660516605166\n",
      "Precision: 0.6059113300492611\n",
      "Recall: 0.6044226044226044\n",
      "Accuracy: 0.8395\n",
      "Dummy Model\n",
      "[[   0 1593]\n",
      " [   0  407]]\n",
      "f1_score: 0.3381803074366431\n",
      "Precision: 0.2035\n",
      "Recall: 1.0\n",
      "Accuracy: 0.2035\n"
     ]
    }
   ],
   "source": [
    "# Проверим модель:\n",
    "prediction = best_model_forest_2.predict(features_valid)\n",
    "print('Лучшая модель')\n",
    "print(confusion_matrix(target_valid, prediction))\n",
    "print('f1_score:', f1_score(target_valid, prediction))\n",
    "print('Precision:', precision_score(target_valid, prediction))\n",
    "print('Recall:', recall_score(target_valid, prediction))\n",
    "print('Accuracy:', accuracy_score(target_valid, prediction))\n",
    "print('Dummy Model')\n",
    "print(confusion_matrix(target_valid, dummy_pred))\n",
    "print('f1_score:', f1_score(target_valid, dummy_pred))\n",
    "print('Precision:', precision_score(target_valid, dummy_pred))\n",
    "print('Recall:', recall_score(target_valid, dummy_pred))\n",
    "print('Accuracy:', accuracy_score(target_valid, dummy_pred))"
   ]
  },
  {
   "cell_type": "markdown",
   "metadata": {
    "id": "JleRo8K8TwI-"
   },
   "source": [
    "The best model has been identified. The model has been validated for adequacy. The final step is to evaluate the model on the test dataset."
   ]
  },
  {
   "cell_type": "markdown",
   "metadata": {
    "id": "UY6qaF3nSuMu"
   },
   "source": [
    "## Model Testing"
   ]
  },
  {
   "cell_type": "code",
   "execution_count": 31,
   "metadata": {
    "colab": {
     "base_uri": "https://localhost:8080/"
    },
    "id": "BY1db9CiSuMv",
    "outputId": "e84046b6-de1d-48f3-be34-84acd7bbba5d"
   },
   "outputs": [
    {
     "name": "stdout",
     "output_type": "stream",
     "text": [
      "F1 score - тестовая выборка, лучашя модель\n",
      "0.5911458333333334\n",
      "ROC AUC - тестовая выборка, лучшая модель\n",
      "0.8472971475022169\n",
      "0.843\n"
     ]
    }
   ],
   "source": [
    "prediction =  best_model_forest_2.predict(features_test)\n",
    "print('F1 score - тестовая выборка, лучашя модель')\n",
    "print(f1_score(target_test, prediction))\n",
    "print('ROC AUC - тестовая выборка, лучшая модель')\n",
    "probabilities = model.predict_proba(features_test)[:, 1]\n",
    "print(roc_auc_score(target_test, probabilities))"
   ]
  },
  {
   "cell_type": "markdown",
   "metadata": {
    "id": "eiTn9JbZq95J"
   },
   "source": [
    "**Summary:**\n",
    "\n",
    "*Brief Description of the Project Process:*\n",
    "\n",
    "I opened the dataset, explored and transformed the data to ensure the best results from the model. I encountered class imbalance in the dataset, which significantly impacted model accuracy. To address this issue, I increased the sample size of the minority class and tuned the model’s hyperparameters to achieve the best performance.\n",
    "\n",
    "After these steps, I obtained a model capable of predicting customer churn effectively.\n",
    "\n",
    "*Technical Details of the Model:*\n",
    "\n",
    "The best hyperparameters for the model were: `max_depth = 13`, `n_estimators = 40`, and it was trained on an expanded sample. The model achieved an accuracy of 84%, an AUC-ROC of 0.85, and an F1 score of 0.591, meeting the project goal. To ensure the model's adequacy, I used a baseline model predicting only the majority class. The confusion matrix confirmed that our model predicts both classes, though with less efficiency for the minority class, which is expected due to the inherent class imbalance. The accuracy, F1 score, and precision of the baseline model were lower compared to the best model, except for recall, which was higher, indicating that our model does not predict only the majority class.\n",
    "\n",
    "*Business Application of the Model:*\n",
    "\n",
    "Predicting customer churn can be highly valuable for the bank as it allows for proactive measures to retain clients and enhance loyalty. Potential business applications include:\n",
    "\n",
    "1. **Customer Retention:** If the model predicts that a particular customer is likely to leave, the bank can take actions to retain them, such as offering better credit terms, discounts, or bonuses.\n",
    "2. **Improving Service Quality:** Analyzing data from customers who left can help the bank identify the reasons for their departure and address any issues.\n",
    "3. **Increasing Profitability:** Predicting churn can help the bank reduce costs associated with acquiring new customers and focus on retaining existing ones.\n",
    "4. **Forecasting Future Customer Needs:** Understanding the behavior of departing customers can assist the bank in predicting their future needs and offering new products and services accordingly."
   ]
  }
 ],
 "metadata": {
  "ExecuteTimeLog": [
   {
    "duration": 1618,
    "start_time": "2023-04-06T14:57:10.122Z"
   },
   {
    "duration": 167,
    "start_time": "2023-04-06T14:58:59.846Z"
   },
   {
    "duration": 81,
    "start_time": "2023-04-06T14:59:06.173Z"
   },
   {
    "duration": 19,
    "start_time": "2023-04-06T14:59:12.240Z"
   },
   {
    "duration": 12,
    "start_time": "2023-04-06T15:00:28.060Z"
   },
   {
    "duration": 93,
    "start_time": "2023-04-06T15:00:43.047Z"
   },
   {
    "duration": 3,
    "start_time": "2023-04-06T15:02:17.155Z"
   },
   {
    "duration": 14,
    "start_time": "2023-04-06T15:02:31.915Z"
   },
   {
    "duration": 20,
    "start_time": "2023-04-06T15:02:34.375Z"
   },
   {
    "duration": 6,
    "start_time": "2023-04-06T15:02:52.575Z"
   },
   {
    "duration": 215,
    "start_time": "2023-04-06T15:02:59.302Z"
   },
   {
    "duration": 1540,
    "start_time": "2023-04-06T15:03:11.155Z"
   },
   {
    "duration": 38,
    "start_time": "2023-04-06T15:03:12.697Z"
   },
   {
    "duration": 18,
    "start_time": "2023-04-06T15:03:12.737Z"
   },
   {
    "duration": 19,
    "start_time": "2023-04-06T15:03:12.757Z"
   },
   {
    "duration": 173,
    "start_time": "2023-04-06T15:03:12.779Z"
   },
   {
    "duration": 0,
    "start_time": "2023-04-06T15:03:12.956Z"
   },
   {
    "duration": 0,
    "start_time": "2023-04-06T15:03:12.957Z"
   },
   {
    "duration": 0,
    "start_time": "2023-04-06T15:03:12.959Z"
   },
   {
    "duration": 0,
    "start_time": "2023-04-06T15:03:12.960Z"
   },
   {
    "duration": 0,
    "start_time": "2023-04-06T15:03:12.962Z"
   },
   {
    "duration": 1,
    "start_time": "2023-04-06T15:03:12.963Z"
   },
   {
    "duration": 0,
    "start_time": "2023-04-06T15:03:12.965Z"
   },
   {
    "duration": 0,
    "start_time": "2023-04-06T15:03:12.967Z"
   },
   {
    "duration": 0,
    "start_time": "2023-04-06T15:03:12.968Z"
   },
   {
    "duration": 0,
    "start_time": "2023-04-06T15:03:12.969Z"
   },
   {
    "duration": 0,
    "start_time": "2023-04-06T15:03:12.970Z"
   },
   {
    "duration": 0,
    "start_time": "2023-04-06T15:03:12.972Z"
   },
   {
    "duration": 0,
    "start_time": "2023-04-06T15:03:12.973Z"
   },
   {
    "duration": 0,
    "start_time": "2023-04-06T15:03:12.973Z"
   },
   {
    "duration": 0,
    "start_time": "2023-04-06T15:03:12.975Z"
   },
   {
    "duration": 0,
    "start_time": "2023-04-06T15:03:12.976Z"
   },
   {
    "duration": 0,
    "start_time": "2023-04-06T15:03:12.977Z"
   },
   {
    "duration": 0,
    "start_time": "2023-04-06T15:03:12.979Z"
   },
   {
    "duration": 0,
    "start_time": "2023-04-06T15:03:12.980Z"
   },
   {
    "duration": 0,
    "start_time": "2023-04-06T15:03:12.981Z"
   },
   {
    "duration": 0,
    "start_time": "2023-04-06T15:03:12.982Z"
   },
   {
    "duration": 0,
    "start_time": "2023-04-06T15:03:12.984Z"
   },
   {
    "duration": 0,
    "start_time": "2023-04-06T15:03:12.985Z"
   },
   {
    "duration": 0,
    "start_time": "2023-04-06T15:03:12.986Z"
   },
   {
    "duration": 0,
    "start_time": "2023-04-06T15:03:12.988Z"
   },
   {
    "duration": 0,
    "start_time": "2023-04-06T15:03:12.989Z"
   },
   {
    "duration": 1945,
    "start_time": "2023-04-06T15:03:43.322Z"
   },
   {
    "duration": 49,
    "start_time": "2023-04-06T15:03:45.270Z"
   },
   {
    "duration": 28,
    "start_time": "2023-04-06T15:03:45.323Z"
   },
   {
    "duration": 22,
    "start_time": "2023-04-06T15:03:45.355Z"
   },
   {
    "duration": 192,
    "start_time": "2023-04-06T15:03:45.380Z"
   },
   {
    "duration": 0,
    "start_time": "2023-04-06T15:03:45.575Z"
   },
   {
    "duration": 0,
    "start_time": "2023-04-06T15:03:45.579Z"
   },
   {
    "duration": 0,
    "start_time": "2023-04-06T15:03:45.581Z"
   },
   {
    "duration": 0,
    "start_time": "2023-04-06T15:03:45.583Z"
   },
   {
    "duration": 0,
    "start_time": "2023-04-06T15:03:45.584Z"
   },
   {
    "duration": 0,
    "start_time": "2023-04-06T15:03:45.586Z"
   },
   {
    "duration": 0,
    "start_time": "2023-04-06T15:03:45.587Z"
   },
   {
    "duration": 0,
    "start_time": "2023-04-06T15:03:45.588Z"
   },
   {
    "duration": 0,
    "start_time": "2023-04-06T15:03:45.592Z"
   },
   {
    "duration": 0,
    "start_time": "2023-04-06T15:03:45.593Z"
   },
   {
    "duration": 0,
    "start_time": "2023-04-06T15:03:45.594Z"
   },
   {
    "duration": 0,
    "start_time": "2023-04-06T15:03:45.596Z"
   },
   {
    "duration": 0,
    "start_time": "2023-04-06T15:03:45.598Z"
   },
   {
    "duration": 0,
    "start_time": "2023-04-06T15:03:45.600Z"
   },
   {
    "duration": 0,
    "start_time": "2023-04-06T15:03:45.601Z"
   },
   {
    "duration": 0,
    "start_time": "2023-04-06T15:03:45.603Z"
   },
   {
    "duration": 0,
    "start_time": "2023-04-06T15:03:45.604Z"
   },
   {
    "duration": 0,
    "start_time": "2023-04-06T15:03:45.641Z"
   },
   {
    "duration": 0,
    "start_time": "2023-04-06T15:03:45.643Z"
   },
   {
    "duration": 0,
    "start_time": "2023-04-06T15:03:45.644Z"
   },
   {
    "duration": 0,
    "start_time": "2023-04-06T15:03:45.646Z"
   },
   {
    "duration": 0,
    "start_time": "2023-04-06T15:03:45.648Z"
   },
   {
    "duration": 1,
    "start_time": "2023-04-06T15:03:45.651Z"
   },
   {
    "duration": 0,
    "start_time": "2023-04-06T15:03:45.653Z"
   },
   {
    "duration": 0,
    "start_time": "2023-04-06T15:03:45.654Z"
   },
   {
    "duration": 0,
    "start_time": "2023-04-06T15:03:45.656Z"
   },
   {
    "duration": 1478,
    "start_time": "2023-04-06T15:04:03.637Z"
   },
   {
    "duration": 64,
    "start_time": "2023-04-06T15:04:05.117Z"
   },
   {
    "duration": 19,
    "start_time": "2023-04-06T15:04:05.183Z"
   },
   {
    "duration": 16,
    "start_time": "2023-04-06T15:04:05.204Z"
   },
   {
    "duration": 36,
    "start_time": "2023-04-06T15:04:05.224Z"
   },
   {
    "duration": 56,
    "start_time": "2023-04-06T15:04:05.262Z"
   },
   {
    "duration": 26,
    "start_time": "2023-04-06T15:04:05.320Z"
   },
   {
    "duration": 3,
    "start_time": "2023-04-06T15:04:05.348Z"
   },
   {
    "duration": 586,
    "start_time": "2023-04-06T15:04:05.353Z"
   },
   {
    "duration": 7,
    "start_time": "2023-04-06T15:04:05.941Z"
   },
   {
    "duration": 10,
    "start_time": "2023-04-06T15:04:05.950Z"
   },
   {
    "duration": 33,
    "start_time": "2023-04-06T15:04:05.963Z"
   },
   {
    "duration": 11,
    "start_time": "2023-04-06T15:04:05.998Z"
   },
   {
    "duration": 135,
    "start_time": "2023-04-06T15:04:06.011Z"
   },
   {
    "duration": 0,
    "start_time": "2023-04-06T15:04:06.148Z"
   },
   {
    "duration": 0,
    "start_time": "2023-04-06T15:04:06.153Z"
   },
   {
    "duration": 0,
    "start_time": "2023-04-06T15:04:06.154Z"
   },
   {
    "duration": 0,
    "start_time": "2023-04-06T15:04:06.155Z"
   },
   {
    "duration": 0,
    "start_time": "2023-04-06T15:04:06.156Z"
   },
   {
    "duration": 0,
    "start_time": "2023-04-06T15:04:06.158Z"
   },
   {
    "duration": 0,
    "start_time": "2023-04-06T15:04:06.257Z"
   },
   {
    "duration": 0,
    "start_time": "2023-04-06T15:04:06.259Z"
   },
   {
    "duration": 0,
    "start_time": "2023-04-06T15:04:06.260Z"
   },
   {
    "duration": 0,
    "start_time": "2023-04-06T15:04:06.261Z"
   },
   {
    "duration": 0,
    "start_time": "2023-04-06T15:04:06.262Z"
   },
   {
    "duration": 0,
    "start_time": "2023-04-06T15:04:06.263Z"
   },
   {
    "duration": 0,
    "start_time": "2023-04-06T15:04:06.264Z"
   },
   {
    "duration": 0,
    "start_time": "2023-04-06T15:04:06.265Z"
   },
   {
    "duration": 0,
    "start_time": "2023-04-06T15:04:06.266Z"
   },
   {
    "duration": 0,
    "start_time": "2023-04-06T15:04:06.268Z"
   },
   {
    "duration": 1446,
    "start_time": "2023-04-06T15:04:53.469Z"
   },
   {
    "duration": 39,
    "start_time": "2023-04-06T15:04:55.951Z"
   },
   {
    "duration": 20,
    "start_time": "2023-04-06T15:04:56.618Z"
   },
   {
    "duration": 6,
    "start_time": "2023-04-06T15:07:20.036Z"
   },
   {
    "duration": 39,
    "start_time": "2023-04-06T15:07:21.577Z"
   },
   {
    "duration": 13,
    "start_time": "2023-04-06T15:07:22.297Z"
   },
   {
    "duration": 16,
    "start_time": "2023-04-06T15:07:25.104Z"
   },
   {
    "duration": 34,
    "start_time": "2023-04-06T15:07:30.037Z"
   },
   {
    "duration": 72,
    "start_time": "2023-04-06T15:07:37.357Z"
   },
   {
    "duration": 11,
    "start_time": "2023-04-06T15:07:40.293Z"
   },
   {
    "duration": 606,
    "start_time": "2023-04-06T15:08:59.230Z"
   },
   {
    "duration": 8,
    "start_time": "2023-04-06T15:09:04.758Z"
   },
   {
    "duration": 115,
    "start_time": "2023-04-06T15:09:12.163Z"
   },
   {
    "duration": 5,
    "start_time": "2023-04-06T15:09:18.526Z"
   },
   {
    "duration": 1585,
    "start_time": "2023-04-06T15:09:33.920Z"
   },
   {
    "duration": 45,
    "start_time": "2023-04-06T15:09:36.714Z"
   },
   {
    "duration": 20,
    "start_time": "2023-04-06T15:09:37.369Z"
   },
   {
    "duration": 25,
    "start_time": "2023-04-06T15:09:38.103Z"
   },
   {
    "duration": 28,
    "start_time": "2023-04-06T15:09:40.695Z"
   },
   {
    "duration": 50,
    "start_time": "2023-04-06T15:09:41.229Z"
   },
   {
    "duration": 11,
    "start_time": "2023-04-06T15:09:49.207Z"
   },
   {
    "duration": 3,
    "start_time": "2023-04-06T15:09:52.898Z"
   },
   {
    "duration": 571,
    "start_time": "2023-04-06T15:09:57.708Z"
   },
   {
    "duration": 8,
    "start_time": "2023-04-06T15:10:04.425Z"
   },
   {
    "duration": 7,
    "start_time": "2023-04-06T15:10:07.982Z"
   },
   {
    "duration": 21,
    "start_time": "2023-04-06T15:10:08.790Z"
   },
   {
    "duration": 7,
    "start_time": "2023-04-06T15:20:57.583Z"
   },
   {
    "duration": 749,
    "start_time": "2023-04-06T15:21:34.385Z"
   }
  ],
  "colab": {
   "provenance": []
  },
  "kernelspec": {
   "display_name": "Python 3 (ipykernel)",
   "language": "python",
   "name": "python3"
  },
  "language_info": {
   "codemirror_mode": {
    "name": "ipython",
    "version": 3
   },
   "file_extension": ".py",
   "mimetype": "text/x-python",
   "name": "python",
   "nbconvert_exporter": "python",
   "pygments_lexer": "ipython3",
   "version": "3.9.5"
  },
  "toc": {
   "base_numbering": 1,
   "nav_menu": {},
   "number_sections": true,
   "sideBar": true,
   "skip_h1_title": true,
   "title_cell": "Содержание",
   "title_sidebar": "Contents",
   "toc_cell": true,
   "toc_position": {},
   "toc_section_display": true,
   "toc_window_display": false
  }
 },
 "nbformat": 4,
 "nbformat_minor": 1
}
