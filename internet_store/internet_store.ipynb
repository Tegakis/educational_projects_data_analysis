{
 "cells": [
  {
   "cell_type": "markdown",
   "metadata": {},
   "source": [
    "## 2017 Planning for \"Streamchik\" Online Store"
   ]
  },
  {
   "cell_type": "markdown",
   "metadata": {},
   "source": [
    "**Project Description:**\n",
    "\n",
    "Using data from open sources, including historical sales data of games, user and critic ratings, genres, and platforms, I will forecast metrics that show the relationship between parameters and sales volumes. I will also identify patterns in the data that will help in betting on potentially popular products and planning advertising campaigns for the \"Streamchik\" online store."
   ]
  },
  {
   "cell_type": "code",
   "execution_count": 1,
   "metadata": {},
   "outputs": [],
   "source": [
    "# Import all necessary libraries\n",
    "import pandas as pd\n",
    "import numpy as np\n",
    "import matplotlib.pyplot as plt\n",
    "import seaborn as sns\n",
    "from scipy import stats as st"
   ]
  },
  {
   "cell_type": "markdown",
   "metadata": {},
   "source": [
    "### Opening the file"
   ]
  },
  {
   "cell_type": "code",
   "execution_count": 2,
   "metadata": {},
   "outputs": [],
   "source": [
    "# Reading the file\n",
    "data = pd.read_csv('/datasets/games.csv')"
   ]
  },
  {
   "cell_type": "code",
   "execution_count": 3,
   "metadata": {},
   "outputs": [
    {
     "name": "stdout",
     "output_type": "stream",
     "text": [
      "<class 'pandas.core.frame.DataFrame'>\n",
      "RangeIndex: 16715 entries, 0 to 16714\n",
      "Data columns (total 11 columns):\n",
      " #   Column           Non-Null Count  Dtype  \n",
      "---  ------           --------------  -----  \n",
      " 0   Name             16713 non-null  object \n",
      " 1   Platform         16715 non-null  object \n",
      " 2   Year_of_Release  16446 non-null  float64\n",
      " 3   Genre            16713 non-null  object \n",
      " 4   NA_sales         16715 non-null  float64\n",
      " 5   EU_sales         16715 non-null  float64\n",
      " 6   JP_sales         16715 non-null  float64\n",
      " 7   Other_sales      16715 non-null  float64\n",
      " 8   Critic_Score     8137 non-null   float64\n",
      " 9   User_Score       10014 non-null  object \n",
      " 10  Rating           9949 non-null   object \n",
      "dtypes: float64(6), object(5)\n",
      "memory usage: 1.4+ MB\n"
     ]
    }
   ],
   "source": [
    "data.info()"
   ]
  },
  {
   "cell_type": "markdown",
   "metadata": {},
   "source": [
    "**Conclusion**\n",
    "\n",
    "The file was successfully opened. It was noticed that some columns do not match their expected data types, such as `User_Score`, which we will investigate further. Additionally, all column names are in uppercase, which needs to be corrected."
   ]
  },
  {
   "cell_type": "markdown",
   "metadata": {},
   "source": [
    "### Preparing the file"
   ]
  },
  {
   "cell_type": "code",
   "execution_count": 4,
   "metadata": {},
   "outputs": [],
   "source": [
    "# Rename the columns\n",
    "data.columns = data.columns.str.lower()"
   ]
  },
  {
   "cell_type": "code",
   "execution_count": 5,
   "metadata": {},
   "outputs": [
    {
     "data": {
      "text/plain": [
       "array([2006., 1985., 2008., 2009., 1996., 1989., 1984., 2005., 1999.,\n",
       "       2007., 2010., 2013., 2004., 1990., 1988., 2002., 2001., 2011.,\n",
       "       1998., 2015., 2012., 2014., 1992., 1997., 1993., 1994., 1982.,\n",
       "       2016., 2003., 1986., 2000.,   nan, 1995., 1991., 1981., 1987.,\n",
       "       1980., 1983.])"
      ]
     },
     "metadata": {},
     "output_type": "display_data"
    },
    {
     "data": {
      "text/plain": [
       "array(['Sports', 'Platform', 'Racing', 'Role-Playing', 'Puzzle', 'Misc',\n",
       "       'Shooter', 'Simulation', 'Action', 'Fighting', 'Adventure',\n",
       "       'Strategy', nan], dtype=object)"
      ]
     },
     "metadata": {},
     "output_type": "display_data"
    },
    {
     "data": {
      "text/plain": [
       "array([76., nan, 82., 80., 89., 58., 87., 91., 61., 97., 95., 77., 88.,\n",
       "       83., 94., 93., 85., 86., 98., 96., 90., 84., 73., 74., 78., 92.,\n",
       "       71., 72., 68., 62., 49., 67., 81., 66., 56., 79., 70., 59., 64.,\n",
       "       75., 60., 63., 69., 50., 25., 42., 44., 55., 48., 57., 29., 47.,\n",
       "       65., 54., 20., 53., 37., 38., 33., 52., 30., 32., 43., 45., 51.,\n",
       "       40., 46., 39., 34., 35., 41., 36., 28., 31., 27., 26., 19., 23.,\n",
       "       24., 21., 17., 22., 13.])"
      ]
     },
     "metadata": {},
     "output_type": "display_data"
    },
    {
     "data": {
      "text/plain": [
       "array(['8', nan, '8.3', '8.5', '6.6', '8.4', '8.6', '7.7', '6.3', '7.4',\n",
       "       '8.2', '9', '7.9', '8.1', '8.7', '7.1', '3.4', '5.3', '4.8', '3.2',\n",
       "       '8.9', '6.4', '7.8', '7.5', '2.6', '7.2', '9.2', '7', '7.3', '4.3',\n",
       "       '7.6', '5.7', '5', '9.1', '6.5', 'tbd', '8.8', '6.9', '9.4', '6.8',\n",
       "       '6.1', '6.7', '5.4', '4', '4.9', '4.5', '9.3', '6.2', '4.2', '6',\n",
       "       '3.7', '4.1', '5.8', '5.6', '5.5', '4.4', '4.6', '5.9', '3.9',\n",
       "       '3.1', '2.9', '5.2', '3.3', '4.7', '5.1', '3.5', '2.5', '1.9', '3',\n",
       "       '2.7', '2.2', '2', '9.5', '2.1', '3.6', '2.8', '1.8', '3.8', '0',\n",
       "       '1.6', '9.6', '2.4', '1.7', '1.1', '0.3', '1.5', '0.7', '1.2',\n",
       "       '2.3', '0.5', '1.3', '0.2', '0.6', '1.4', '0.9', '1', '9.7'],\n",
       "      dtype=object)"
      ]
     },
     "metadata": {},
     "output_type": "display_data"
    },
    {
     "data": {
      "text/plain": [
       "array(['E', nan, 'M', 'T', 'E10+', 'K-A', 'AO', 'EC', 'RP'], dtype=object)"
      ]
     },
     "metadata": {},
     "output_type": "display_data"
    }
   ],
   "source": [
    "# Searching for duplicates\n",
    "display(data['year_of_release'].unique())\n",
    "display(data['genre'].unique())\n",
    "display(data['critic_score'].unique())\n",
    "display(data['user_score'].unique())\n",
    "display(data['rating'].unique())"
   ]
  },
  {
   "cell_type": "code",
   "execution_count": 6,
   "metadata": {},
   "outputs": [
    {
     "data": {
      "text/plain": [
       "name                  2\n",
       "platform              0\n",
       "year_of_release     269\n",
       "genre                 2\n",
       "na_sales              0\n",
       "eu_sales              0\n",
       "jp_sales              0\n",
       "other_sales           0\n",
       "critic_score       8578\n",
       "user_score         6701\n",
       "rating             6766\n",
       "dtype: int64"
      ]
     },
     "execution_count": 6,
     "metadata": {},
     "output_type": "execute_result"
    }
   ],
   "source": [
    "data.isna().sum()"
   ]
  },
  {
   "cell_type": "markdown",
   "metadata": {},
   "source": [
    "In the `user_score` column, we observe the value 'tbd'. In the gaming industry, this abbreviation is used to indicate that a score is not yet available. In our case, this means the user rating was not provided. Therefore, we will replace 'tbd' with NaN."
   ]
  },
  {
   "cell_type": "code",
   "execution_count": 7,
   "metadata": {},
   "outputs": [],
   "source": [
    "# Filling Missing Values:\n",
    "data['user_score'] = data['user_score'].replace('tbd', np.NaN)\n",
    "data.dropna(subset = ['name', 'year_of_release', 'genre'], inplace = True)\n",
    "data['rating'] = data['rating'].replace(np.NaN, 'неопределенно')"
   ]
  },
  {
   "cell_type": "code",
   "execution_count": 8,
   "metadata": {},
   "outputs": [],
   "source": [
    "# Changing Data Types:\n",
    "data['year_of_release'] = data['year_of_release'].astype(int)\n",
    "data['user_score'] = data['user_score'].astype(float)"
   ]
  },
  {
   "cell_type": "code",
   "execution_count": 9,
   "metadata": {},
   "outputs": [],
   "source": [
    "# Sales by All Regions\n",
    "data['all_sales'] = data[['na_sales','eu_sales','jp_sales', 'other_sales']].sum(axis=1)"
   ]
  },
  {
   "cell_type": "markdown",
   "metadata": {},
   "source": [
    "**Summary**\n",
    "\n",
    "We converted all column names to lowercase.\n",
    "\n",
    "We calculated the number of missing values in each column. Columns with missing values include: name, user_score, critic_score, year_of_release, genre, and rating.\n",
    "\n",
    "- For `name`, `year_of_release`, and `genre`, the decision was made to drop these columns since the total number of missing values is no more than 273, which is relatively small compared to the overall dataset size of 16,715 rows. Therefore, this deletion will not significantly impact subsequent analysis.\n",
    "- For `rating`, all NaN values were replaced with 'unknown'.\n",
    "- `user_score` and `critic_score` were left unchanged."
   ]
  },
  {
   "cell_type": "markdown",
   "metadata": {},
   "source": [
    "### Exploratory Data Analysis (EDA)"
   ]
  },
  {
   "cell_type": "code",
   "execution_count": 10,
   "metadata": {},
   "outputs": [
    {
     "data": {
      "image/png": "[encoded data removed]",
      "text/plain": [
       "<Figure size 1224x360 with 1 Axes>"
      ]
     },
     "metadata": {
      "needs_background": "light"
     },
     "output_type": "display_data"
    }
   ],
   "source": [
    "# How many games were released in different years:\n",
    "count_games_2 = data.groupby('year_of_release')['name'].count().reset_index()\n",
    "fig, ax = plt.subplots(figsize=(17, 5))\n",
    "sns.barplot(x=count_games_2['year_of_release'], y=count_games_2['name'], ax=ax);"
   ]
  },
  {
   "cell_type": "markdown",
   "metadata": {},
   "source": [
    "**Conclusion:**\n",
    "\n",
    "We see that the first games appeared and gained popularity until 2008. In 2008, we observe a peak in the industry, followed by a decline. The decline can be attributed to the fact that game development became more serious: new technologies were used, and the number of developers working on a single game increased. All of this increased the time and quality of the product but decreased the number of releases."
   ]
  },
  {
   "cell_type": "code",
   "execution_count": 11,
   "metadata": {},
   "outputs": [
    {
     "name": "stderr",
     "output_type": "stream",
     "text": [
      "/tmp/ipykernel_228/300529301.py:4: FutureWarning: Indexing with multiple keys (implicitly converted to a tuple of keys) will be deprecated, use a list instead.\n",
      "  data_part.groupby(['platform'])['na_sales', 'eu_sales', 'jp_sales', 'other_sales', 'all_sales']\\\n"
     ]
    },
    {
     "data": {
      "text/html": [
       "<div>\n",
       "<style scoped>\n",
       "    .dataframe tbody tr th:only-of-type {\n",
       "        vertical-align: middle;\n",
       "    }\n",
       "\n",
       "    .dataframe tbody tr th {\n",
       "        vertical-align: top;\n",
       "    }\n",
       "\n",
       "    .dataframe thead th {\n",
       "        text-align: right;\n",
       "    }\n",
       "</style>\n",
       "<table border=\"1\" class=\"dataframe\">\n",
       "  <thead>\n",
       "    <tr style=\"text-align: right;\">\n",
       "      <th></th>\n",
       "      <th>na_sales</th>\n",
       "      <th>eu_sales</th>\n",
       "      <th>jp_sales</th>\n",
       "      <th>other_sales</th>\n",
       "      <th>all_sales</th>\n",
       "    </tr>\n",
       "    <tr>\n",
       "      <th>platform</th>\n",
       "      <th></th>\n",
       "      <th></th>\n",
       "      <th></th>\n",
       "      <th></th>\n",
       "      <th></th>\n",
       "    </tr>\n",
       "  </thead>\n",
       "  <tbody>\n",
       "    <tr>\n",
       "      <th>PS4</th>\n",
       "      <td>98.61</td>\n",
       "      <td>130.04</td>\n",
       "      <td>15.02</td>\n",
       "      <td>44.48</td>\n",
       "      <td>288.15</td>\n",
       "    </tr>\n",
       "    <tr>\n",
       "      <th>XOne</th>\n",
       "      <td>81.27</td>\n",
       "      <td>46.25</td>\n",
       "      <td>0.32</td>\n",
       "      <td>12.52</td>\n",
       "      <td>140.36</td>\n",
       "    </tr>\n",
       "    <tr>\n",
       "      <th>3DS</th>\n",
       "      <td>22.64</td>\n",
       "      <td>16.12</td>\n",
       "      <td>44.24</td>\n",
       "      <td>3.68</td>\n",
       "      <td>86.68</td>\n",
       "    </tr>\n",
       "    <tr>\n",
       "      <th>PS3</th>\n",
       "      <td>22.05</td>\n",
       "      <td>25.54</td>\n",
       "      <td>11.22</td>\n",
       "      <td>9.37</td>\n",
       "      <td>68.18</td>\n",
       "    </tr>\n",
       "    <tr>\n",
       "      <th>X360</th>\n",
       "      <td>28.30</td>\n",
       "      <td>15.49</td>\n",
       "      <td>0.08</td>\n",
       "      <td>4.35</td>\n",
       "      <td>48.22</td>\n",
       "    </tr>\n",
       "    <tr>\n",
       "      <th>WiiU</th>\n",
       "      <td>19.36</td>\n",
       "      <td>13.15</td>\n",
       "      <td>7.31</td>\n",
       "      <td>3.16</td>\n",
       "      <td>42.98</td>\n",
       "    </tr>\n",
       "    <tr>\n",
       "      <th>PC</th>\n",
       "      <td>7.23</td>\n",
       "      <td>17.97</td>\n",
       "      <td>0.00</td>\n",
       "      <td>1.85</td>\n",
       "      <td>27.05</td>\n",
       "    </tr>\n",
       "    <tr>\n",
       "      <th>PSV</th>\n",
       "      <td>2.52</td>\n",
       "      <td>3.53</td>\n",
       "      <td>14.54</td>\n",
       "      <td>1.81</td>\n",
       "      <td>22.40</td>\n",
       "    </tr>\n",
       "    <tr>\n",
       "      <th>Wii</th>\n",
       "      <td>2.08</td>\n",
       "      <td>2.59</td>\n",
       "      <td>0.00</td>\n",
       "      <td>0.40</td>\n",
       "      <td>5.07</td>\n",
       "    </tr>\n",
       "    <tr>\n",
       "      <th>PSP</th>\n",
       "      <td>0.00</td>\n",
       "      <td>0.00</td>\n",
       "      <td>0.36</td>\n",
       "      <td>0.00</td>\n",
       "      <td>0.36</td>\n",
       "    </tr>\n",
       "  </tbody>\n",
       "</table>\n",
       "</div>"
      ],
      "text/plain": [
       "          na_sales  eu_sales  jp_sales  other_sales  all_sales\n",
       "platform                                                      \n",
       "PS4          98.61    130.04     15.02        44.48     288.15\n",
       "XOne         81.27     46.25      0.32        12.52     140.36\n",
       "3DS          22.64     16.12     44.24         3.68      86.68\n",
       "PS3          22.05     25.54     11.22         9.37      68.18\n",
       "X360         28.30     15.49      0.08         4.35      48.22\n",
       "WiiU         19.36     13.15      7.31         3.16      42.98\n",
       "PC            7.23     17.97      0.00         1.85      27.05\n",
       "PSV           2.52      3.53     14.54         1.81      22.40\n",
       "Wii           2.08      2.59      0.00         0.40       5.07\n",
       "PSP           0.00      0.00      0.36         0.00       0.36"
      ]
     },
     "execution_count": 11,
     "metadata": {},
     "output_type": "execute_result"
    }
   ],
   "source": [
    "# To determine the relevance of platform popularity, we will consider the period from 2014 to 2016:\n",
    "data_part = data.query(\"2014 <= year_of_release <= 2016\")\n",
    "# Определяем самые популярные платформы:\n",
    "data_part.groupby(['platform'])['na_sales', 'eu_sales', 'jp_sales', 'other_sales', 'all_sales']\\\n",
    "    .sum()\\\n",
    "    .sort_values(by='all_sales', ascending=False)"
   ]
  },
  {
   "cell_type": "code",
   "execution_count": 12,
   "metadata": {},
   "outputs": [
    {
     "data": {
      "image/png": "[encoded data removed]",
      "text/plain": [
       "<Figure size 1080x504 with 1 Axes>"
      ]
     },
     "metadata": {
      "needs_background": "light"
     },
     "output_type": "display_data"
    }
   ],
   "source": [
    "# Plotting the distribution by year\n",
    "data[data['platform'].isin(['PS4', 'XOne'])].pivot_table(index='year_of_release', columns = 'platform', values='all_sales', aggfunc='sum').plot(grid=True, figsize=(15, 7))\n",
    "plt.title('График. 1 (Распределение продаж игр PS4 и XOne по годам)')\n",
    "plt.xlabel('Год')\n",
    "plt.ylabel('Продажи')\n",
    "plt.show()"
   ]
  },
  {
   "cell_type": "code",
   "execution_count": 13,
   "metadata": {},
   "outputs": [
    {
     "data": {
      "image/png": "[encoded data removed]",
      "text/plain": [
       "<Figure size 1080x504 with 1 Axes>"
      ]
     },
     "metadata": {
      "needs_background": "light"
     },
     "output_type": "display_data"
    }
   ],
   "source": [
    "data.pivot_table(index='year_of_release', columns = 'platform', values='all_sales', aggfunc='sum').plot(grid=True, figsize=(15, 7))\n",
    "plt.title('График. 2 (Распределение продаж игр всех платформ по годам)')\n",
    "plt.xlabel('Год')\n",
    "plt.ylabel('Продажи')\n",
    "plt.show()"
   ]
  },
  {
   "cell_type": "markdown",
   "metadata": {},
   "source": [
    "**Findings**\n",
    "\n",
    "By analyzing the data from 2014 to 2016, I grouped the data by platforms and summed up all parameters. After sorting, I identified the two most popular platforms: PS4 and XOne.\n",
    "\n",
    "From Graph 1, we observe a growth in sales for both platforms, followed by a simultaneous decline in sales in 2015.\n",
    "\n",
    "Graph 2 reveals that approximately every 1-2 years, an old platform disappears, and a new one emerges in its place. Therefore, I will consider the period from 2014 to 2016 as the most relevant for analysis."
   ]
  },
  {
   "cell_type": "code",
   "execution_count": 14,
   "metadata": {},
   "outputs": [],
   "source": [
    "# Choosing the Most Promising Platforms:\n",
    "data_part_1 = data.query('platform == \"PS4\" or platform == \"XOne\"')"
   ]
  },
  {
   "cell_type": "code",
   "execution_count": 15,
   "metadata": {},
   "outputs": [
    {
     "data": {
      "image/png": "[encoded data removed]",
      "text/plain": [
       "<Figure size 432x288 with 1 Axes>"
      ]
     },
     "metadata": {
      "needs_background": "light"
     },
     "output_type": "display_data"
    }
   ],
   "source": [
    "# Boxplot Construction for Relevant Platforms:\n",
    "data_part_1.boxplot(column='all_sales', by='platform')\n",
    "plt.show()"
   ]
  },
  {
   "cell_type": "code",
   "execution_count": 16,
   "metadata": {},
   "outputs": [
    {
     "data": {
      "image/png": "[encoded data removed]",
      "text/plain": [
       "<Figure size 1800x504 with 1 Axes>"
      ]
     },
     "metadata": {
      "needs_background": "light"
     },
     "output_type": "display_data"
    }
   ],
   "source": [
    "data_part.boxplot(column='all_sales', by='platform', figsize=(25,7))\n",
    "plt.show()"
   ]
  },
  {
   "cell_type": "code",
   "execution_count": 17,
   "metadata": {},
   "outputs": [
    {
     "data": {
      "image/png": "[encoded data removed]",
      "text/plain": [
       "<Figure size 1800x504 with 1 Axes>"
      ]
     },
     "metadata": {
      "needs_background": "light"
     },
     "output_type": "display_data"
    }
   ],
   "source": [
    "# Narrowing the Range to 3.9 Million Sales for Detailed Analysis\n",
    "data_part.boxplot(column='all_sales', by='platform', figsize=(25,7))\n",
    "plt.ylim(0, 3.9)\n",
    "plt.show()"
   ]
  },
  {
   "cell_type": "markdown",
   "metadata": {},
   "source": [
    "**Conclusion**\n",
    "\n",
    "The quartiles and confidence intervals for PS4 and XOne are roughly at the same level, but the values beyond the confidence intervals differ. The range for PS4 is significantly higher than for XOne, and peak values are much higher as well. This may indicate that exclusives on this platform achieve unusually high sales figures.\n",
    "\n",
    "Among the two platforms, PS4 appears to be the more promising option."
   ]
  },
  {
   "cell_type": "code",
   "execution_count": 18,
   "metadata": {},
   "outputs": [
    {
     "data": {
      "image/png": "[encoded data removed]",
      "text/plain": [
       "<Figure size 576x576 with 1 Axes>"
      ]
     },
     "metadata": {
      "needs_background": "light"
     },
     "output_type": "display_data"
    }
   ],
   "source": [
    "# Scatter Plot for User Reviews for PS4\n",
    "data_part[data_part['platform']=='PS4'].plot(x='user_score', y='all_sales', kind='scatter', alpha=0.3, figsize=(8,8), grid=True)\n",
    "plt.xlabel('Пользовательский рейтинг')\n",
    "plt.ylabel('Продажи')\n",
    "plt.title('Диаграмма рассеивания продаж для PS4')\n",
    "plt.show()"
   ]
  },
  {
   "cell_type": "code",
   "execution_count": 19,
   "metadata": {},
   "outputs": [
    {
     "data": {
      "image/png": "[encoded data removed]",
      "text/plain": [
       "<Figure size 576x576 with 1 Axes>"
      ]
     },
     "metadata": {
      "needs_background": "light"
     },
     "output_type": "display_data"
    }
   ],
   "source": [
    "# Scatter Plot for Critic Reviews for PS4\n",
    "data_part[data_part['platform']=='PS4'].plot(x='critic_score', y='all_sales', kind='scatter', alpha=0.3, figsize=(8,8), grid=True)\n",
    "plt.xlabel('Рейтинг критиков')\n",
    "plt.ylabel('Продажи')\n",
    "plt.title('Диаграмма рассеивания продаж для PS4')\n",
    "plt.show()"
   ]
  },
  {
   "cell_type": "code",
   "execution_count": 20,
   "metadata": {},
   "outputs": [
    {
     "name": "stdout",
     "output_type": "stream",
     "text": [
      "-0.040131589472697356\n"
     ]
    }
   ],
   "source": [
    "data_ps4 = data_part[data_part['platform']=='PS4']\n",
    "print(data_ps4['user_score'].corr(data_ps4['all_sales']))"
   ]
  },
  {
   "cell_type": "code",
   "execution_count": 21,
   "metadata": {},
   "outputs": [
    {
     "name": "stdout",
     "output_type": "stream",
     "text": [
      "0.40266141068104083\n"
     ]
    }
   ],
   "source": [
    "print(data_ps4['critic_score'].corr(data_ps4['all_sales']))"
   ]
  },
  {
   "cell_type": "code",
   "execution_count": 22,
   "metadata": {},
   "outputs": [
    {
     "data": {
      "image/png": "[encoded data removed]",
      "text/plain": [
       "<Figure size 576x576 with 1 Axes>"
      ]
     },
     "metadata": {
      "needs_background": "light"
     },
     "output_type": "display_data"
    },
    {
     "data": {
      "image/png": "[encoded data removed]",
      "text/plain": [
       "<Figure size 576x576 with 1 Axes>"
      ]
     },
     "metadata": {
      "needs_background": "light"
     },
     "output_type": "display_data"
    },
    {
     "data": {
      "image/png": "[encoded data removed]",
      "text/plain": [
       "<Figure size 576x576 with 1 Axes>"
      ]
     },
     "metadata": {
      "needs_background": "light"
     },
     "output_type": "display_data"
    }
   ],
   "source": [
    "for i in ['3DS', 'PS3', 'X360']:\n",
    "    data_part[data_part['platform']== i].plot(x='user_score', y='all_sales', kind='scatter', alpha=0.3, figsize=(8,8), grid=True)\n",
    "    plt.xlabel('Пользовательский рейтинг')\n",
    "    plt.ylabel('Продажи')\n",
    "    plt.title('Диаграмма рассеивания продаж для {}'.format(i))\n",
    "    plt.show()"
   ]
  },
  {
   "cell_type": "code",
   "execution_count": 23,
   "metadata": {},
   "outputs": [
    {
     "data": {
      "image/png": "[encoded data removed]",
      "text/plain": [
       "<Figure size 576x576 with 1 Axes>"
      ]
     },
     "metadata": {
      "needs_background": "light"
     },
     "output_type": "display_data"
    },
    {
     "data": {
      "image/png": "[encoded data removed]",
      "text/plain": [
       "<Figure size 576x576 with 1 Axes>"
      ]
     },
     "metadata": {
      "needs_background": "light"
     },
     "output_type": "display_data"
    },
    {
     "data": {
      "image/png": "[encoded data removed]",
      "text/plain": [
       "<Figure size 576x576 with 1 Axes>"
      ]
     },
     "metadata": {
      "needs_background": "light"
     },
     "output_type": "display_data"
    }
   ],
   "source": [
    "for i in ['3DS', 'PS3', 'X360']:\n",
    "    data_part[data_part['platform']== i].plot(x='critic_score', y='all_sales', kind='scatter', alpha=0.3, figsize=(8,8), grid=True)\n",
    "    plt.xlabel('Рейтинг критиков')\n",
    "    plt.ylabel('Продажи')\n",
    "    plt.title('Диаграмма рассеивания продаж для {}'.format(i))\n",
    "    plt.show()"
   ]
  },
  {
   "cell_type": "code",
   "execution_count": 24,
   "metadata": {
    "scrolled": true
   },
   "outputs": [
    {
     "name": "stdout",
     "output_type": "stream",
     "text": [
      "Корреляци пользовательских рейтингов: 3DS\n",
      "0.2151932718527028\n",
      "Корреляци пользовательских рейтингов: PS3\n",
      "-0.16676141347662118\n",
      "Корреляци пользовательских рейтингов: X360\n",
      "-0.138444570945665\n"
     ]
    }
   ],
   "source": [
    "for i in ['3DS', 'PS3', 'X360']:\n",
    "    a = data_part[data_part['platform']== i]\n",
    "    print('Корреляци пользовательских рейтингов:', i)\n",
    "    print(a['user_score'].corr(a['all_sales']))"
   ]
  },
  {
   "cell_type": "code",
   "execution_count": 25,
   "metadata": {},
   "outputs": [
    {
     "name": "stdout",
     "output_type": "stream",
     "text": [
      "Рейтинг критиков: 3DS\n",
      "0.314117492869051\n",
      "Рейтинг критиков: PS3\n",
      "0.44657460493190704\n",
      "Рейтинг критиков: X360\n",
      "0.5257228356581523\n"
     ]
    }
   ],
   "source": [
    "for i in ['3DS', 'PS3', 'X360']:\n",
    "    a = data_part[data_part['platform']== i]\n",
    "    print('Рейтинг критиков:', i)\n",
    "    print(a['critic_score'].corr(a['all_sales']))"
   ]
  },
  {
   "cell_type": "markdown",
   "metadata": {},
   "source": [
    "**Conclusion**\n",
    "\n",
    "- The relationship between user ratings and sales is very weak and negative. The correlation coefficient is so low that it's more accurate to say that there is no significant relationship.\n",
    "- The relationship between critic reviews and sales is positive but still low. While the relationship is not strong, it is not negligible either."
   ]
  },
  {
   "cell_type": "code",
   "execution_count": 26,
   "metadata": {},
   "outputs": [
    {
     "data": {
      "text/html": [
       "<div>\n",
       "<style scoped>\n",
       "    .dataframe tbody tr th:only-of-type {\n",
       "        vertical-align: middle;\n",
       "    }\n",
       "\n",
       "    .dataframe tbody tr th {\n",
       "        vertical-align: top;\n",
       "    }\n",
       "\n",
       "    .dataframe thead th {\n",
       "        text-align: right;\n",
       "    }\n",
       "</style>\n",
       "<table border=\"1\" class=\"dataframe\">\n",
       "  <thead>\n",
       "    <tr style=\"text-align: right;\">\n",
       "      <th></th>\n",
       "      <th>genre</th>\n",
       "      <th>all_sales</th>\n",
       "    </tr>\n",
       "  </thead>\n",
       "  <tbody>\n",
       "    <tr>\n",
       "      <th>8</th>\n",
       "      <td>Shooter</td>\n",
       "      <td>0.515</td>\n",
       "    </tr>\n",
       "    <tr>\n",
       "      <th>10</th>\n",
       "      <td>Sports</td>\n",
       "      <td>0.180</td>\n",
       "    </tr>\n",
       "    <tr>\n",
       "      <th>4</th>\n",
       "      <td>Platform</td>\n",
       "      <td>0.140</td>\n",
       "    </tr>\n",
       "    <tr>\n",
       "      <th>2</th>\n",
       "      <td>Fighting</td>\n",
       "      <td>0.125</td>\n",
       "    </tr>\n",
       "    <tr>\n",
       "      <th>7</th>\n",
       "      <td>Role-Playing</td>\n",
       "      <td>0.110</td>\n",
       "    </tr>\n",
       "    <tr>\n",
       "      <th>9</th>\n",
       "      <td>Simulation</td>\n",
       "      <td>0.100</td>\n",
       "    </tr>\n",
       "    <tr>\n",
       "      <th>0</th>\n",
       "      <td>Action</td>\n",
       "      <td>0.090</td>\n",
       "    </tr>\n",
       "    <tr>\n",
       "      <th>3</th>\n",
       "      <td>Misc</td>\n",
       "      <td>0.090</td>\n",
       "    </tr>\n",
       "    <tr>\n",
       "      <th>6</th>\n",
       "      <td>Racing</td>\n",
       "      <td>0.090</td>\n",
       "    </tr>\n",
       "    <tr>\n",
       "      <th>11</th>\n",
       "      <td>Strategy</td>\n",
       "      <td>0.060</td>\n",
       "    </tr>\n",
       "    <tr>\n",
       "      <th>5</th>\n",
       "      <td>Puzzle</td>\n",
       "      <td>0.045</td>\n",
       "    </tr>\n",
       "    <tr>\n",
       "      <th>1</th>\n",
       "      <td>Adventure</td>\n",
       "      <td>0.030</td>\n",
       "    </tr>\n",
       "  </tbody>\n",
       "</table>\n",
       "</div>"
      ],
      "text/plain": [
       "           genre  all_sales\n",
       "8        Shooter      0.515\n",
       "10        Sports      0.180\n",
       "4       Platform      0.140\n",
       "2       Fighting      0.125\n",
       "7   Role-Playing      0.110\n",
       "9     Simulation      0.100\n",
       "0         Action      0.090\n",
       "3           Misc      0.090\n",
       "6         Racing      0.090\n",
       "11      Strategy      0.060\n",
       "5         Puzzle      0.045\n",
       "1      Adventure      0.030"
      ]
     },
     "execution_count": 26,
     "metadata": {},
     "output_type": "execute_result"
    }
   ],
   "source": [
    "# Distribution of Games by Genre for the Relevant Period\n",
    "data_dist = data_part.pivot_table(index='genre', values='all_sales', aggfunc='median')\\\n",
    "    .reset_index()\\\n",
    "    .sort_values('all_sales', ascending=False)\n",
    "data_dist"
   ]
  },
  {
   "cell_type": "code",
   "execution_count": 27,
   "metadata": {},
   "outputs": [
    {
     "data": {
      "image/png": "[encoded data removed]",
      "text/plain": [
       "<Figure size 1080x360 with 1 Axes>"
      ]
     },
     "metadata": {
      "needs_background": "light"
     },
     "output_type": "display_data"
    }
   ],
   "source": [
    "fig, ax = plt.subplots(figsize=(15, 5))\n",
    "sns.barplot(x=data_dist['genre'], y=data_dist['all_sales'], ax=ax);"
   ]
  },
  {
   "cell_type": "markdown",
   "metadata": {},
   "source": [
    "**Conclusion**\n",
    "\n",
    "The top five most popular genres include: shooters, sports games, role-playing games, platformers, and simulators. However, it is worth noting that the difference between the most popular genre—shooters—and all other genres is colossal."
   ]
  },
  {
   "cell_type": "markdown",
   "metadata": {},
   "source": [
    "### User Profiles for Different Regions"
   ]
  },
  {
   "cell_type": "code",
   "execution_count": 28,
   "metadata": {},
   "outputs": [
    {
     "data": {
      "image/png": "[encoded data removed]",
      "text/plain": [
       "<Figure size 1440x576 with 1 Axes>"
      ]
     },
     "metadata": {
      "needs_background": "light"
     },
     "output_type": "display_data"
    }
   ],
   "source": [
    "# Top 5 Most Popular Platforms in North America Based on the Overall Table\n",
    "# Grouping by Platform\n",
    "platform_na_all = data_part.groupby('platform')['na_sales'].sum().sort_values(ascending=False).head(5)\n",
    "\n",
    "platform_na_all.plot(x = 'platform', y = 'na_sales', kind = 'bar', figsize=(20,8), grid=True, title = 'ТОП-5 самых популярных платформ в Северной Америке')\n",
    "\n",
    "plt.xlabel('Платформа')\n",
    "\n",
    "plt.ylabel('Продажи экземпляров (млн.)')\n",
    "plt.show()"
   ]
  },
  {
   "cell_type": "markdown",
   "metadata": {},
   "source": [
    "**Conclusion**\n",
    "\n",
    "The top 5 platforms by descending sales in North America are:\n",
    "- PS4\n",
    "- XOne\n",
    "- 3DS\n",
    "- WiiU\n",
    "- X360\n",
    "\n",
    "It's worth noting that, among all markets, XOne shows the highest values in North America, as it is a local brand."
   ]
  },
  {
   "cell_type": "code",
   "execution_count": 29,
   "metadata": {},
   "outputs": [
    {
     "data": {
      "image/png": "[encoded data removed]",
      "text/plain": [
       "<Figure size 1440x576 with 1 Axes>"
      ]
     },
     "metadata": {
      "needs_background": "light"
     },
     "output_type": "display_data"
    }
   ],
   "source": [
    "# Top 5 Most Popular Platforms in Europe by Overall Sales\n",
    "# Group by platform\n",
    "platform_eu_all = data_part.groupby('platform')['eu_sales'].sum().sort_values(ascending=False).head(5)\n",
    "\n",
    "platform_eu_all.plot(x = 'platform', y = 'eu_sales', kind = 'bar', figsize=(20,8), grid=True, title = 'ТОП-5 самых популярных платформ в Европе')\n",
    "\n",
    "plt.xlabel('Платформа')\n",
    "\n",
    "plt.ylabel('Продажи экземпляров (млн.)')\n",
    "plt.show()"
   ]
  },
  {
   "cell_type": "markdown",
   "metadata": {},
   "source": [
    "**Conclusion**\n",
    "\n",
    "The top 5 platforms, ranked by descending game sales, are:\n",
    "- PS4\n",
    "- XOne\n",
    "- PS3\n",
    "- PC\n",
    "- 3DS\n",
    "\n",
    "It is worth noting that PC is the only platform in the top five in the European market."
   ]
  },
  {
   "cell_type": "code",
   "execution_count": 30,
   "metadata": {},
   "outputs": [
    {
     "data": {
      "image/png": "[encoded data removed]",
      "text/plain": [
       "<Figure size 1440x576 with 1 Axes>"
      ]
     },
     "metadata": {
      "needs_background": "light"
     },
     "output_type": "display_data"
    }
   ],
   "source": [
    "# Top 5 Most Popular Platforms in Japan by Overall Table\n",
    "# Group by platform\n",
    "platform_jp_all = data_part.groupby('platform')['jp_sales'].sum().sort_values(ascending=False).head(5)\n",
    "\n",
    "platform_jp_all.plot(x = 'platform',\n",
    "                     y = 'jp_sales', kind = 'bar', \n",
    "                     figsize=(20,8), \n",
    "                     grid=True, \n",
    "                     title = 'ТОП-5 самых популярных платформ в Японии')\n",
    "\n",
    "plt.xlabel('Платформа')\n",
    "\n",
    "plt.ylabel('Продажи экземпляров (млн.)')\n",
    "plt.show()"
   ]
  },
  {
   "cell_type": "markdown",
   "metadata": {},
   "source": [
    "**Conclusion**\n",
    "\n",
    "The top 5 platforms, ordered by descending game sales, are:\n",
    "- 3DS\n",
    "- PS4\n",
    "- PSV\n",
    "- PS3\n",
    "- WiiU\n",
    "\n",
    "A notable feature is the strong demand for portable consoles in this region. Three portable consoles (3DS, PSV, WiiU) have made it into the top 5."
   ]
  },
  {
   "cell_type": "code",
   "execution_count": 31,
   "metadata": {},
   "outputs": [
    {
     "data": {
      "image/png": "[encoded data removed]",
      "text/plain": [
       "<Figure size 1440x576 with 1 Axes>"
      ]
     },
     "metadata": {
      "needs_background": "light"
     },
     "output_type": "display_data"
    }
   ],
   "source": [
    "genre_na = data_part.groupby('genre')['na_sales'].sum().sort_values(ascending=False).head(5)\n",
    "\n",
    "genre_na.plot(x = 'genre', y = 'na_sales', kind = 'bar', figsize=(20,8), grid=True, title = 'ТОП-5 самых популярных жанров в Северной Америке')\n",
    "\n",
    "plt.xlabel('Жанр')\n",
    "\n",
    "plt.ylabel('Продажи экземпляров (млн.)')\n",
    "plt.show()"
   ]
  },
  {
   "cell_type": "markdown",
   "metadata": {},
   "source": [
    "**Conclusion**\n",
    "\n",
    "The top 5 genres by descending sales are:\n",
    "- Shooter\n",
    "- Action\n",
    "- Sports\n",
    "- Role-Playing\n",
    "- Misc"
   ]
  },
  {
   "cell_type": "code",
   "execution_count": 32,
   "metadata": {},
   "outputs": [
    {
     "data": {
      "image/png": "[encoded data removed]",
      "text/plain": [
       "<Figure size 1440x576 with 1 Axes>"
      ]
     },
     "metadata": {
      "needs_background": "light"
     },
     "output_type": "display_data"
    }
   ],
   "source": [
    "# Top 5 Most Popular Genres in Europe by Overall Table\n",
    "# Group by Genre\n",
    "genre_eu = data_part.groupby('genre')['eu_sales'].sum().sort_values(ascending=False).head(5)\n",
    "\n",
    "genre_eu.plot(x = 'genre', y = 'eu_sales', kind = 'bar', figsize=(20,8), grid=True, title = 'ТОП-5 самых популярных жанров в Европе')\n",
    "\n",
    "plt.xlabel('Жанр')\n",
    "\n",
    "plt.ylabel('Продажи экземпляров (млн.)')\n",
    "plt.show()"
   ]
  },
  {
   "cell_type": "markdown",
   "metadata": {},
   "source": [
    "**Conclusion**\n",
    "\n",
    "The top five genres by sales, in descending order, are:\n",
    "- Action\n",
    "- Shooter\n",
    "- Sports\n",
    "- Role-Playing\n",
    "- Racing"
   ]
  },
  {
   "cell_type": "code",
   "execution_count": 33,
   "metadata": {},
   "outputs": [
    {
     "data": {
      "image/png": "[encoded data removed]",
      "text/plain": [
       "<Figure size 1440x576 with 1 Axes>"
      ]
     },
     "metadata": {
      "needs_background": "light"
     },
     "output_type": "display_data"
    }
   ],
   "source": [
    "# Top 5 Most Popular Genres in Japan by Overall Table\n",
    "# Grouping by Genre\n",
    "genre_jp = data_part.groupby('genre')['jp_sales'].sum().sort_values(ascending=False).head(5)\n",
    "\n",
    "genre_jp.plot(x = 'genre', y = 'jp_sales', kind = 'bar', figsize=(20,8), grid=True, title = 'ТОП-5 самых популярных жанров в Японии')\n",
    "\n",
    "plt.xlabel('Жанр')\n",
    "\n",
    "plt.ylabel('Продажи экземпляров (млн.)')\n",
    "plt.show()"
   ]
  },
  {
   "cell_type": "markdown",
   "metadata": {},
   "source": [
    "**Conclusion**\n",
    "\n",
    "The top 5 genres by sales in descending order are:\n",
    "- Role-Playing\n",
    "- Action\n",
    "- Fighting\n",
    "- Misc\n",
    "- Shooter"
   ]
  },
  {
   "cell_type": "code",
   "execution_count": 34,
   "metadata": {},
   "outputs": [
    {
     "data": {
      "image/png": "[encoded data removed]",
      "text/plain": [
       "<Figure size 1440x576 with 1 Axes>"
      ]
     },
     "metadata": {
      "needs_background": "light"
     },
     "output_type": "display_data"
    }
   ],
   "source": [
    "# ESRB Rating in Japan\n",
    "# Grouping by genres\n",
    "rating_jp = data_part.groupby('rating')['jp_sales'].sum().sort_values(ascending=False)\n",
    "\n",
    "rating_jp.plot(x = 'rating', y = 'jp_sales', kind = 'bar', figsize=(20,8), grid=True, title = 'Рейтинг от организации ESRB в Японии')\n",
    "\n",
    "plt.xlabel('Рейтинг')\n",
    "\n",
    "plt.ylabel('Продажи экземпляров (млн.)')\n",
    "plt.show()"
   ]
  },
  {
   "cell_type": "markdown",
   "metadata": {},
   "source": [
    "**Conclusion**\n",
    "\n",
    "In Japan, games with the \"Rating Pending\" label sell more frequently, but we will disregard this fact as it is not indicative. Therefore, the most popular rating is T (Teen)."
   ]
  },
  {
   "cell_type": "code",
   "execution_count": 35,
   "metadata": {},
   "outputs": [
    {
     "data": {
      "image/png": "[encoded data removed]",
      "text/plain": [
       "<Figure size 1440x576 with 1 Axes>"
      ]
     },
     "metadata": {
      "needs_background": "light"
     },
     "output_type": "display_data"
    }
   ],
   "source": [
    "# Rating by ESRB in North America  \n",
    "# Grouping by Genres\n",
    "rating_na = data_part.groupby('rating')['na_sales'].sum().sort_values(ascending=False)\n",
    "\n",
    "rating_na.plot(x = 'rating', y = 'na_sales', kind = 'bar', figsize=(20,8), grid=True, title = 'Рейтинг от организации ESRB в Северной Америке')\n",
    "\n",
    "plt.xlabel('Рейтинг')\n",
    "\n",
    "plt.ylabel('Продажи экземпляров (млн.)')\n",
    "plt.show()"
   ]
  },
  {
   "cell_type": "markdown",
   "metadata": {},
   "source": [
    "**Conclusion**\n",
    "\n",
    "In North America, games with an ESRB rating of M (Mature) are sold more frequently."
   ]
  },
  {
   "cell_type": "code",
   "execution_count": 36,
   "metadata": {
    "scrolled": false
   },
   "outputs": [
    {
     "data": {
      "image/png": "[encoded data removed]",
      "text/plain": [
       "<Figure size 1440x576 with 1 Axes>"
      ]
     },
     "metadata": {
      "needs_background": "light"
     },
     "output_type": "display_data"
    }
   ],
   "source": [
    "# ESRB Ratings in Europe\n",
    "# Group by genre\n",
    "rating_eu = data.groupby('rating')['eu_sales'].sum().sort_values(ascending=False)\n",
    "\n",
    "rating_eu.plot(x = 'rating', y = 'eu_sales', kind = 'bar', figsize=(20,8), grid=True, title = 'Рейтинг от организации ESRB в Европе')\n",
    "\n",
    "plt.xlabel('Рейтинг')\n",
    "\n",
    "plt.ylabel('Продажи экземпляров (млн.)')\n",
    "plt.show()"
   ]
  },
  {
   "cell_type": "markdown",
   "metadata": {},
   "source": [
    "**Conclusion**\n",
    "\n",
    "In Europe, games with an ESRB rating of E (Everyone) sell more frequently."
   ]
  },
  {
   "cell_type": "markdown",
   "metadata": {},
   "source": [
    "**Conclusion**\n",
    "\n",
    "**North America:**\n",
    "\n",
    "- **Popular Platforms:**\n",
    "  - PS4\n",
    "  - XOne\n",
    "  - 3DS\n",
    "  - WiiU\n",
    "  - X360\n",
    "\n",
    "- **Popular Genres:**\n",
    "  - Shooter\n",
    "  - Action\n",
    "  - Sports\n",
    "  - Role-Playing\n",
    "  - Misc\n",
    "\n",
    "- **Popular Age Rating:**\n",
    "  - M (Mature)\n",
    "\n",
    "**Europe:**\n",
    "\n",
    "- **Popular Platforms:**\n",
    "  - PS4\n",
    "  - XOne\n",
    "  - PS3\n",
    "  - PC\n",
    "  - 3DS\n",
    "\n",
    "- **Popular Genres:**\n",
    "  - Action\n",
    "  - Shooter\n",
    "  - Sports\n",
    "  - Role-Playing\n",
    "  - Racing\n",
    "\n",
    "- **Popular Age Rating:**\n",
    "  - E (Everyone)\n",
    "\n",
    "**Japan:**\n",
    "\n",
    "- **Popular Platforms:**\n",
    "  - 3DS\n",
    "  - PS4\n",
    "  - PSV\n",
    "  - PS3\n",
    "  - WiiU\n",
    "\n",
    "- **Popular Genres:**\n",
    "  - Role-Playing\n",
    "  - Action\n",
    "  - Fighting\n",
    "  - Misc\n",
    "  - Shooter\n",
    "\n",
    "- **Popular Age Rating:**\n",
    "  - T (Teen)"
   ]
  },
  {
   "cell_type": "markdown",
   "metadata": {},
   "source": [
    "### Hypothesis Testing"
   ]
  },
  {
   "cell_type": "markdown",
   "metadata": {},
   "source": [
    "#### Hypothesis 1: The average user ratings for Xbox One and PC platforms are the same."
   ]
  },
  {
   "cell_type": "markdown",
   "metadata": {},
   "source": [
    "**H0: The average user ratings (user_score) for Xbox One and PC platforms are the same.**\n",
    "\n",
    "**H1: The average user ratings (user_score) for Xbox One and PC platforms are different.**"
   ]
  },
  {
   "cell_type": "code",
   "execution_count": 37,
   "metadata": {},
   "outputs": [
    {
     "name": "stdout",
     "output_type": "stream",
     "text": [
      "p-значение: 0.10450507919348415\n",
      "Не получилось отвергнуть нулевую гипотезу\n"
     ]
    }
   ],
   "source": [
    "data_part.reset_index(drop=True)\n",
    "\n",
    "data_xbox = data_part[data_part['platform'] == 'XOne']\n",
    "data_pc = data_part[data_part['platform'] == 'PC']\n",
    "\n",
    "xbox_1 = data_xbox['user_score'].dropna()\n",
    "pc_1 = data_pc['user_score'].dropna()\n",
    "alpha = .05\n",
    "results = st.ttest_ind(\n",
    "xbox_1,\n",
    "pc_1, equal_var = True)\n",
    "print('p-значение:', results.pvalue)\n",
    "if (results.pvalue < alpha):\n",
    "    print(\"Отвергаем нулевую гипотезу\")\n",
    "else:\n",
    "    print(\"Не получилось отвергнуть нулевую гипотезу\")"
   ]
  },
  {
   "cell_type": "markdown",
   "metadata": {},
   "source": [
    "**Conclusion**\n",
    "\n",
    "We were unable to reject the null hypothesis (p-value ~ 0.14), so we can assume that the average user ratings for games on the Xbox One and PC platforms are similar."
   ]
  },
  {
   "cell_type": "markdown",
   "metadata": {},
   "source": [
    "#### Second Hypothesis: The average user ratings for the genres Action and Sports are different."
   ]
  },
  {
   "cell_type": "markdown",
   "metadata": {},
   "source": [
    "**Null Hypothesis (H0)**: The average user ratings (user_score) for the Action and Sports genres are equal.\n",
    "\n",
    "**Alternative Hypothesis (H1)**: The average user ratings (user_score) for the Action and Sports genres are different."
   ]
  },
  {
   "cell_type": "code",
   "execution_count": 38,
   "metadata": {},
   "outputs": [
    {
     "name": "stdout",
     "output_type": "stream",
     "text": [
      "p-значение:  2.8711147985105864e-19\n",
      "Отвергаем нулевую гипотезу\n"
     ]
    }
   ],
   "source": [
    "data_action = data_part[data_part['genre'] == 'Action']\n",
    "data_sports = data_part[data_part['genre'] == 'Sports']\n",
    "action_1 = data_action['user_score'].dropna()\n",
    "sports_1 = data_sports['user_score'].dropna()\n",
    "alpha = .05\n",
    "results = st.ttest_ind(\n",
    "action_1,\n",
    "sports_1)\n",
    "print('p-значение: ', results.pvalue)\n",
    "if results.pvalue < alpha:\n",
    "    print(\"Отвергаем нулевую гипотезу\")\n",
    "else:\n",
    "    print(\"Не получилось отвергнуть нулевую гипотезу\")"
   ]
  },
  {
   "cell_type": "markdown",
   "metadata": {},
   "source": [
    "**Conclusion**\n",
    "\n",
    "We failed to reject the null hypothesis. Therefore, we can assume that the average user ratings for games in the Action and Sports genres are similar."
   ]
  },
  {
   "cell_type": "markdown",
   "metadata": {},
   "source": [
    "**Conclusion**\n",
    "\n",
    "**Formulation of Hypotheses:**\n",
    "- The null hypothesis should not include values from the alternative hypothesis, and vice versa.\n",
    "- Since we are testing the null hypothesis using a T-test, it is formulated as the equality of two means, as the T-test itself checks for the equality of two means.\n",
    "\n",
    "**Criterion:**\n",
    "- T-test for comparing the means of two populations.\n",
    "\n",
    "**Why It Was Used:**\n",
    "- We are dealing with two populations.\n",
    "- We need to compare their means.\n",
    "\n",
    "**Hypothesis Testing Results:**\n",
    "\n",
    "- **For Xbox One and PC Platforms:**\n",
    "  - We failed to reject the null hypothesis (p-value ~ 0.14). Therefore, we can assume that the average user ratings for games on Xbox One and PC platforms are similar.\n",
    "\n",
    "- **For Action and Sports Genres:**\n",
    "  - We rejected the null hypothesis. Thus, we can conclude that the average user ratings for games in the Action and Sports genres are different."
   ]
  },
  {
   "cell_type": "markdown",
   "metadata": {},
   "source": [
    "### Overall Conclusion"
   ]
  },
  {
   "cell_type": "markdown",
   "metadata": {},
   "source": [
    "**Data Preparation Summary:**\n",
    "\n",
    "- All column names have been converted to lowercase.\n",
    "- Missing values have been handled as follows:\n",
    "  - For the columns `name`, `year_of_release`, and `genre`: We decided to delete these rows as the total number of missing values is only 273, which is very small compared to the total dataset size of 16,715 rows. Therefore, removing these rows will not significantly impact the subsequent analysis.\n",
    "  - For `user_score` and `critic_score`: Missing values were filled with the median values of these columns.\n",
    "  - For `rating`: No logical method was found to impute missing values. Removing rows with missing values would significantly alter the dataset, so the decision was made to leave these missing values as they are."
   ]
  },
  {
   "cell_type": "markdown",
   "metadata": {},
   "source": [
    "####  Exploratory Data Analysis"
   ]
  },
  {
   "cell_type": "markdown",
   "metadata": {},
   "source": [
    "**Summary:**\n",
    "\n",
    "- **Trend Over Time:** There is a noticeable decline in the number of new games released each year, which is attributed to the increasing time required for game development.\n",
    "\n",
    "- **Relevant Period (2014 - 2016):** During this period, the leading platforms are PS4 and XOne. It is observed that older platforms tend to phase out approximately every year, while new ones emerge. Sales trends for games across all platforms show a tendency to decline.\n",
    "\n",
    "- **Platform Analysis:**\n",
    "  - Among the two leading platforms, PS4 is considered the most promising. PS4 games are often exclusive and frequently achieve peak sales, more so than XOne.\n",
    "  - The relationship between user ratings and game sales on PS4 is too weak to be considered significant.\n",
    "  - There is a weak but direct correlation between critic ratings and game sales on PS4, indicating some degree of influence.\n",
    "\n",
    "- **Platform Performance:** All platforms lag behind PS4 and XOne, except for 3DS, which thrives primarily due to the Asian market.\n",
    "\n",
    "- **Popular Genres:** The top five genres across all platforms are shooters, sports games, role-playing games, platformers, and simulators. Notably, the difference in sales between the most popular genre (shooters) and the others is substantial."
   ]
  },
  {
   "cell_type": "markdown",
   "metadata": {},
   "source": [
    "#### User Profiles by Region"
   ]
  },
  {
   "cell_type": "markdown",
   "metadata": {},
   "source": [
    "**North America:**\n",
    "\n",
    "Popular Platforms:\n",
    "- PS4\n",
    "- XOne\n",
    "- 3DS\n",
    "- WiiU\n",
    "- X360\n",
    "\n",
    "Popular Genres:\n",
    "- Shooter\n",
    "- Action\n",
    "- Sports\n",
    "- Role-Playing\n",
    "- Misc\n",
    "\n",
    "Popular Age Rating:\n",
    "- M\n",
    "\n",
    "**Europe:**\n",
    "\n",
    "Popular Platforms:\n",
    "- PS4\n",
    "- XOne\n",
    "- PC\n",
    "- 3DS\n",
    "- PS3\n",
    "\n",
    "Popular Genres:\n",
    "- Action\n",
    "- Shooter\n",
    "- Sports\n",
    "- Role-Playing\n",
    "- Racing\n",
    "\n",
    "Popular Age Rating:\n",
    "- E\n",
    "\n",
    "**Japan:**\n",
    "\n",
    "Popular Platforms:\n",
    "- 3DS\n",
    "- PS4\n",
    "- PSV\n",
    "- PS3\n",
    "- WiiU\n",
    "\n",
    "Popular Genres:\n",
    "- Role-Playing\n",
    "- Action\n",
    "- Fighting\n",
    "- Misc\n",
    "- Shooter\n",
    "\n",
    "Popular Age Rating:\n",
    "- T"
   ]
  },
  {
   "cell_type": "markdown",
   "metadata": {},
   "source": [
    "#### Hypothesis Testing"
   ]
  },
  {
   "cell_type": "markdown",
   "metadata": {},
   "source": [
    "**The average user ratings for Xbox One and PC are the same.**\n",
    "\n",
    "H0: The average ratings for Xbox One and PC are equal.\n",
    "\n",
    "H1: The average ratings for Xbox One and PC are different.\n",
    "\n",
    "We failed to reject the null hypothesis (p-value ~ 0.13), so we can assume that the user ratings for games on these two platforms are similar.\n",
    "\n",
    "**The average user ratings for the genres Action and Sports are different.**\n",
    "\n",
    "H0: The average ratings for the Action genre are equal to those for the Sports genre.\n",
    "\n",
    "H1: The average ratings for the Action genre are different from those for the Sports genre.\n",
    "\n",
    "We were able to reject the null hypothesis (p-value ~ 3.31e-25), so we can assume that the user ratings for games in these two genres are different."
   ]
  }
 ],
 "metadata": {
  "ExecuteTimeLog": [
   {
    "duration": 46,
    "start_time": "2023-02-26T23:16:04.011Z"
   },
   {
    "duration": 382,
    "start_time": "2023-02-26T23:16:08.050Z"
   },
   {
    "duration": 93,
    "start_time": "2023-02-26T23:16:08.465Z"
   },
   {
    "duration": 38,
    "start_time": "2023-02-26T23:16:13.308Z"
   },
   {
    "duration": 5,
    "start_time": "2023-02-26T23:23:17.567Z"
   },
   {
    "duration": 64,
    "start_time": "2023-02-26T23:23:21.475Z"
   },
   {
    "duration": 30,
    "start_time": "2023-02-26T23:23:22.713Z"
   },
   {
    "duration": 4,
    "start_time": "2023-02-26T23:23:25.995Z"
   },
   {
    "duration": 5,
    "start_time": "2023-02-26T23:23:28.327Z"
   },
   {
    "duration": 21,
    "start_time": "2023-02-26T23:23:30.705Z"
   },
   {
    "duration": 5,
    "start_time": "2023-02-26T23:23:41.309Z"
   },
   {
    "duration": 22,
    "start_time": "2023-02-26T23:23:43.995Z"
   },
   {
    "duration": 6,
    "start_time": "2023-02-26T23:23:46.278Z"
   },
   {
    "duration": 20,
    "start_time": "2023-02-26T23:23:49.650Z"
   },
   {
    "duration": 7,
    "start_time": "2023-02-26T23:23:55.240Z"
   },
   {
    "duration": 21,
    "start_time": "2023-02-26T23:24:00.105Z"
   },
   {
    "duration": 5,
    "start_time": "2023-02-26T23:24:01.654Z"
   },
   {
    "duration": 20,
    "start_time": "2023-02-26T23:24:04.212Z"
   },
   {
    "duration": 3,
    "start_time": "2023-02-26T23:24:12.908Z"
   },
   {
    "duration": 47,
    "start_time": "2023-02-26T23:24:13.473Z"
   },
   {
    "duration": 20,
    "start_time": "2023-02-26T23:24:14.042Z"
   },
   {
    "duration": 4,
    "start_time": "2023-02-26T23:24:15.011Z"
   },
   {
    "duration": 21,
    "start_time": "2023-02-26T23:24:17.535Z"
   },
   {
    "duration": 32,
    "start_time": "2023-02-26T23:24:47.770Z"
   },
   {
    "duration": 22,
    "start_time": "2023-02-26T23:25:01.193Z"
   },
   {
    "duration": 14,
    "start_time": "2023-02-26T23:25:09.051Z"
   },
   {
    "duration": 37,
    "start_time": "2023-02-26T23:25:58.226Z"
   },
   {
    "duration": 8,
    "start_time": "2023-02-26T23:31:15.835Z"
   },
   {
    "duration": 9,
    "start_time": "2023-02-26T23:31:24.493Z"
   },
   {
    "duration": 8,
    "start_time": "2023-02-26T23:31:59.535Z"
   },
   {
    "duration": 4,
    "start_time": "2023-02-26T23:32:13.789Z"
   },
   {
    "duration": 12,
    "start_time": "2023-02-26T23:32:22.052Z"
   },
   {
    "duration": 4,
    "start_time": "2023-02-26T23:32:27.794Z"
   },
   {
    "duration": 14,
    "start_time": "2023-02-26T23:32:30.062Z"
   },
   {
    "duration": 10,
    "start_time": "2023-02-26T23:33:12.342Z"
   },
   {
    "duration": 13,
    "start_time": "2023-02-26T23:36:12.492Z"
   },
   {
    "duration": 8,
    "start_time": "2023-02-26T23:37:50.666Z"
   },
   {
    "duration": 12,
    "start_time": "2023-02-26T23:37:57.628Z"
   },
   {
    "duration": 15,
    "start_time": "2023-02-26T23:38:06.422Z"
   },
   {
    "duration": 7,
    "start_time": "2023-02-26T23:38:12.780Z"
   },
   {
    "duration": 21,
    "start_time": "2023-02-26T23:38:24.758Z"
   },
   {
    "duration": 20,
    "start_time": "2023-02-26T23:39:01.182Z"
   },
   {
    "duration": 8,
    "start_time": "2023-02-26T23:40:19.254Z"
   },
   {
    "duration": 15,
    "start_time": "2023-02-26T23:40:21.962Z"
   },
   {
    "duration": 21,
    "start_time": "2023-02-26T23:40:32.857Z"
   },
   {
    "duration": 60,
    "start_time": "2023-02-26T23:50:06.417Z"
   },
   {
    "duration": 21,
    "start_time": "2023-02-26T23:50:06.913Z"
   },
   {
    "duration": 4,
    "start_time": "2023-02-26T23:50:07.934Z"
   },
   {
    "duration": 22,
    "start_time": "2023-02-26T23:50:09.027Z"
   },
   {
    "duration": 4,
    "start_time": "2023-02-26T23:51:45.662Z"
   },
   {
    "duration": 22,
    "start_time": "2023-02-26T23:51:48.762Z"
   },
   {
    "duration": 46,
    "start_time": "2023-02-26T23:52:15.328Z"
   },
   {
    "duration": 22,
    "start_time": "2023-02-26T23:52:15.930Z"
   },
   {
    "duration": 1132,
    "start_time": "2023-02-26T23:52:36.008Z"
   },
   {
    "duration": 20,
    "start_time": "2023-02-26T23:52:38.367Z"
   },
   {
    "duration": 14,
    "start_time": "2023-02-26T23:52:42.783Z"
   },
   {
    "duration": 22,
    "start_time": "2023-02-26T23:52:51.656Z"
   },
   {
    "duration": 5,
    "start_time": "2023-02-26T23:52:53.947Z"
   },
   {
    "duration": 14,
    "start_time": "2023-02-26T23:52:55.778Z"
   },
   {
    "duration": 6,
    "start_time": "2023-02-26T23:52:56.494Z"
   },
   {
    "duration": 15,
    "start_time": "2023-02-26T23:53:01.331Z"
   },
   {
    "duration": 5,
    "start_time": "2023-02-26T23:53:09.960Z"
   },
   {
    "duration": 13,
    "start_time": "2023-02-26T23:53:13.148Z"
   },
   {
    "duration": 4,
    "start_time": "2023-02-26T23:53:23.259Z"
   },
   {
    "duration": 14,
    "start_time": "2023-02-26T23:53:25.859Z"
   },
   {
    "duration": 11,
    "start_time": "2023-02-26T23:53:51.005Z"
   },
   {
    "duration": 12,
    "start_time": "2023-02-26T23:54:02.523Z"
   },
   {
    "duration": 16,
    "start_time": "2023-02-26T23:54:10.222Z"
   },
   {
    "duration": 4,
    "start_time": "2023-02-26T23:54:19.917Z"
   },
   {
    "duration": 10,
    "start_time": "2023-02-26T23:55:51.825Z"
   },
   {
    "duration": 19,
    "start_time": "2023-02-26T23:55:53.824Z"
   },
   {
    "duration": 23,
    "start_time": "2023-02-26T23:55:59.775Z"
   },
   {
    "duration": 7,
    "start_time": "2023-02-26T23:56:08.529Z"
   },
   {
    "duration": 23,
    "start_time": "2023-02-26T23:56:11.837Z"
   },
   {
    "duration": 6,
    "start_time": "2023-02-26T23:56:30.868Z"
   },
   {
    "duration": 21,
    "start_time": "2023-02-26T23:56:34.086Z"
   },
   {
    "duration": 16,
    "start_time": "2023-02-26T23:56:44.810Z"
   },
   {
    "duration": 6,
    "start_time": "2023-02-26T23:58:37.319Z"
   },
   {
    "duration": 22,
    "start_time": "2023-02-26T23:58:40.466Z"
   },
   {
    "duration": 5,
    "start_time": "2023-02-26T23:58:54.682Z"
   },
   {
    "duration": 49,
    "start_time": "2023-02-26T23:58:58.058Z"
   },
   {
    "duration": 22,
    "start_time": "2023-02-26T23:58:58.490Z"
   },
   {
    "duration": 4,
    "start_time": "2023-02-26T23:59:02.421Z"
   },
   {
    "duration": 14,
    "start_time": "2023-02-26T23:59:03.589Z"
   },
   {
    "duration": 9,
    "start_time": "2023-02-26T23:59:07.125Z"
   },
   {
    "duration": 8,
    "start_time": "2023-02-26T23:59:16.664Z"
   },
   {
    "duration": 19,
    "start_time": "2023-02-26T23:59:20.891Z"
   },
   {
    "duration": 6,
    "start_time": "2023-02-26T23:59:52.627Z"
   },
   {
    "duration": 20,
    "start_time": "2023-02-26T23:59:55.811Z"
   },
   {
    "duration": 5,
    "start_time": "2023-02-26T23:59:57.358Z"
   },
   {
    "duration": 7,
    "start_time": "2023-02-27T00:00:04.456Z"
   },
   {
    "duration": 21,
    "start_time": "2023-02-27T00:00:07.412Z"
   },
   {
    "duration": 11,
    "start_time": "2023-02-27T00:04:12.606Z"
   },
   {
    "duration": 13,
    "start_time": "2023-02-27T00:20:34.584Z"
   },
   {
    "duration": 1267,
    "start_time": "2023-02-27T00:30:48.019Z"
   },
   {
    "duration": 18,
    "start_time": "2023-02-27T00:31:06.486Z"
   },
   {
    "duration": 17,
    "start_time": "2023-02-27T00:31:17.240Z"
   },
   {
    "duration": 49,
    "start_time": "2023-02-27T00:31:26.575Z"
   },
   {
    "duration": 380,
    "start_time": "2023-02-27T00:31:30.804Z"
   },
   {
    "duration": 60,
    "start_time": "2023-02-27T00:31:31.278Z"
   },
   {
    "duration": 36,
    "start_time": "2023-02-27T00:31:31.712Z"
   },
   {
    "duration": 4,
    "start_time": "2023-02-27T00:31:32.290Z"
   },
   {
    "duration": 15,
    "start_time": "2023-02-27T00:31:33.611Z"
   },
   {
    "duration": 10,
    "start_time": "2023-02-27T00:31:34.267Z"
   },
   {
    "duration": 42,
    "start_time": "2023-02-27T00:31:35.087Z"
   },
   {
    "duration": 11,
    "start_time": "2023-02-27T00:32:56.004Z"
   },
   {
    "duration": 21,
    "start_time": "2023-02-27T00:33:11.631Z"
   },
   {
    "duration": 4,
    "start_time": "2023-02-27T00:39:40.215Z"
   },
   {
    "duration": 16,
    "start_time": "2023-02-27T00:39:41.354Z"
   },
   {
    "duration": 8,
    "start_time": "2023-02-27T00:46:04.139Z"
   },
   {
    "duration": 2,
    "start_time": "2023-02-27T00:46:08.770Z"
   },
   {
    "duration": 16,
    "start_time": "2023-02-27T00:46:11.735Z"
   },
   {
    "duration": 10,
    "start_time": "2023-02-27T00:46:16.880Z"
   },
   {
    "duration": 455,
    "start_time": "2023-02-27T00:48:39.514Z"
   },
   {
    "duration": 49,
    "start_time": "2023-02-27T00:48:39.971Z"
   },
   {
    "duration": 37,
    "start_time": "2023-02-27T00:48:40.022Z"
   },
   {
    "duration": 4,
    "start_time": "2023-02-27T00:48:40.061Z"
   },
   {
    "duration": 52,
    "start_time": "2023-02-27T00:48:40.068Z"
   },
   {
    "duration": 9,
    "start_time": "2023-02-27T00:48:40.123Z"
   },
   {
    "duration": 11,
    "start_time": "2023-02-27T00:48:40.134Z"
   },
   {
    "duration": 10,
    "start_time": "2023-02-27T00:48:44.354Z"
   },
   {
    "duration": 10,
    "start_time": "2023-02-27T00:48:46.064Z"
   },
   {
    "duration": 22,
    "start_time": "2023-02-27T00:53:20.246Z"
   },
   {
    "duration": 9,
    "start_time": "2023-02-27T00:53:23.602Z"
   },
   {
    "duration": 6,
    "start_time": "2023-02-27T00:54:50.126Z"
   },
   {
    "duration": 20,
    "start_time": "2023-02-27T00:54:53.958Z"
   },
   {
    "duration": 8,
    "start_time": "2023-02-27T00:56:40.140Z"
   },
   {
    "duration": 21,
    "start_time": "2023-02-27T00:56:43.662Z"
   },
   {
    "duration": 6,
    "start_time": "2023-02-27T00:56:52.461Z"
   },
   {
    "duration": 23,
    "start_time": "2023-02-27T00:56:54.940Z"
   },
   {
    "duration": 7,
    "start_time": "2023-02-27T01:02:36.572Z"
   },
   {
    "duration": 583,
    "start_time": "2023-02-27T01:02:56.905Z"
   },
   {
    "duration": 251,
    "start_time": "2023-02-27T01:03:16.900Z"
   },
   {
    "duration": 13,
    "start_time": "2023-02-27T01:03:35.485Z"
   },
   {
    "duration": 73,
    "start_time": "2023-02-27T01:05:37.288Z"
   },
   {
    "duration": 3,
    "start_time": "2023-02-27T01:05:40.857Z"
   },
   {
    "duration": 10,
    "start_time": "2023-02-27T01:05:43.605Z"
   },
   {
    "duration": 12,
    "start_time": "2023-02-27T01:06:17.453Z"
   },
   {
    "duration": 537,
    "start_time": "2023-02-27T01:07:53.961Z"
   },
   {
    "duration": 351,
    "start_time": "2023-02-27T01:08:05.404Z"
   },
   {
    "duration": 169,
    "start_time": "2023-02-27T01:08:42.701Z"
   },
   {
    "duration": 285,
    "start_time": "2023-02-27T01:10:40.502Z"
   },
   {
    "duration": 433,
    "start_time": "2023-02-27T01:10:49.081Z"
   },
   {
    "duration": 417,
    "start_time": "2023-02-27T01:11:10.786Z"
   },
   {
    "duration": 461,
    "start_time": "2023-02-27T01:11:21.926Z"
   },
   {
    "duration": 420,
    "start_time": "2023-02-27T01:11:29.515Z"
   },
   {
    "duration": 184,
    "start_time": "2023-02-27T01:13:14.900Z"
   },
   {
    "duration": 187,
    "start_time": "2023-02-27T01:13:22.503Z"
   },
   {
    "duration": 1214,
    "start_time": "2023-02-27T01:13:30.412Z"
   },
   {
    "duration": 49,
    "start_time": "2023-02-27T01:13:31.628Z"
   },
   {
    "duration": 25,
    "start_time": "2023-02-27T01:13:31.679Z"
   },
   {
    "duration": 10,
    "start_time": "2023-02-27T01:13:31.705Z"
   },
   {
    "duration": 27,
    "start_time": "2023-02-27T01:13:31.717Z"
   },
   {
    "duration": 32,
    "start_time": "2023-02-27T01:13:31.746Z"
   },
   {
    "duration": 32,
    "start_time": "2023-02-27T01:13:31.780Z"
   },
   {
    "duration": 22,
    "start_time": "2023-02-27T01:13:31.814Z"
   },
   {
    "duration": 25,
    "start_time": "2023-02-27T01:13:31.837Z"
   },
   {
    "duration": 160,
    "start_time": "2023-02-27T01:13:31.864Z"
   },
   {
    "duration": 126,
    "start_time": "2023-02-27T01:13:38.230Z"
   },
   {
    "duration": 152,
    "start_time": "2023-02-27T01:13:52.461Z"
   },
   {
    "duration": 46,
    "start_time": "2023-02-27T01:14:03.797Z"
   },
   {
    "duration": 156,
    "start_time": "2023-02-27T01:14:11.511Z"
   },
   {
    "duration": 11,
    "start_time": "2023-02-27T01:16:49.920Z"
   },
   {
    "duration": 86,
    "start_time": "2023-02-27T01:30:45.790Z"
   },
   {
    "duration": 102,
    "start_time": "2023-02-27T01:30:53.481Z"
   },
   {
    "duration": 14,
    "start_time": "2023-02-27T01:31:21.292Z"
   },
   {
    "duration": 283,
    "start_time": "2023-02-27T01:31:24.990Z"
   },
   {
    "duration": 91,
    "start_time": "2023-02-27T01:33:42.194Z"
   },
   {
    "duration": 18,
    "start_time": "2023-02-27T01:33:50.448Z"
   },
   {
    "duration": 21,
    "start_time": "2023-02-27T01:34:03.926Z"
   },
   {
    "duration": 16,
    "start_time": "2023-02-27T01:34:58.043Z"
   },
   {
    "duration": 17,
    "start_time": "2023-02-27T01:35:40.656Z"
   },
   {
    "duration": 15,
    "start_time": "2023-02-27T01:35:58.650Z"
   },
   {
    "duration": 238,
    "start_time": "2023-02-27T01:40:05.527Z"
   },
   {
    "duration": 101,
    "start_time": "2023-02-27T01:40:12.927Z"
   },
   {
    "duration": 7,
    "start_time": "2023-02-27T01:40:33.531Z"
   },
   {
    "duration": 24,
    "start_time": "2023-02-27T01:40:39.660Z"
   },
   {
    "duration": 585,
    "start_time": "2023-02-27T01:48:55.178Z"
   },
   {
    "duration": 141,
    "start_time": "2023-02-27T01:49:04.682Z"
   },
   {
    "duration": 225,
    "start_time": "2023-02-27T01:51:05.462Z"
   },
   {
    "duration": 193,
    "start_time": "2023-02-27T01:52:05.572Z"
   },
   {
    "duration": 1121,
    "start_time": "2023-02-27T01:52:47.548Z"
   },
   {
    "duration": 7,
    "start_time": "2023-02-27T01:52:59.896Z"
   },
   {
    "duration": 212,
    "start_time": "2023-02-27T01:55:10.236Z"
   },
   {
    "duration": 1336,
    "start_time": "2023-02-27T01:55:33.321Z"
   },
   {
    "duration": 6,
    "start_time": "2023-02-27T01:55:45.489Z"
   },
   {
    "duration": 5,
    "start_time": "2023-02-27T01:55:55.749Z"
   },
   {
    "duration": 560,
    "start_time": "2023-02-27T02:01:55.972Z"
   },
   {
    "duration": 10,
    "start_time": "2023-02-27T02:04:21.983Z"
   },
   {
    "duration": 153,
    "start_time": "2023-02-27T02:04:29.551Z"
   },
   {
    "duration": 675,
    "start_time": "2023-02-27T02:04:38.448Z"
   },
   {
    "duration": 10,
    "start_time": "2023-02-27T02:09:03.576Z"
   },
   {
    "duration": 175,
    "start_time": "2023-02-27T02:09:32.604Z"
   },
   {
    "duration": 148,
    "start_time": "2023-02-27T02:09:51.049Z"
   },
   {
    "duration": 156,
    "start_time": "2023-02-27T02:10:06.773Z"
   },
   {
    "duration": 195,
    "start_time": "2023-02-27T02:11:07.258Z"
   },
   {
    "duration": 69,
    "start_time": "2023-02-27T02:11:36.948Z"
   },
   {
    "duration": 15,
    "start_time": "2023-02-27T02:11:42.587Z"
   },
   {
    "duration": 19,
    "start_time": "2023-02-27T02:12:20.353Z"
   },
   {
    "duration": 16,
    "start_time": "2023-02-27T02:12:45.579Z"
   },
   {
    "duration": 17,
    "start_time": "2023-02-27T02:13:05.848Z"
   },
   {
    "duration": 13,
    "start_time": "2023-02-27T02:15:59.393Z"
   },
   {
    "duration": 16,
    "start_time": "2023-02-27T02:16:06.226Z"
   },
   {
    "duration": 199,
    "start_time": "2023-02-27T02:16:07.199Z"
   },
   {
    "duration": 357,
    "start_time": "2023-02-27T02:19:07.259Z"
   },
   {
    "duration": 283,
    "start_time": "2023-02-27T02:19:35.109Z"
   },
   {
    "duration": 263,
    "start_time": "2023-02-27T02:20:55.380Z"
   },
   {
    "duration": 202,
    "start_time": "2023-02-27T02:21:03.262Z"
   },
   {
    "duration": 204,
    "start_time": "2023-02-27T02:21:11.110Z"
   },
   {
    "duration": 16,
    "start_time": "2023-02-27T02:23:37.653Z"
   },
   {
    "duration": 215,
    "start_time": "2023-02-27T02:23:38.181Z"
   },
   {
    "duration": 15,
    "start_time": "2023-02-27T02:23:53.613Z"
   },
   {
    "duration": 22,
    "start_time": "2023-02-27T02:23:59.805Z"
   },
   {
    "duration": 189,
    "start_time": "2023-02-27T02:24:14.386Z"
   },
   {
    "duration": 73,
    "start_time": "2023-02-27T02:31:52.725Z"
   },
   {
    "duration": 186,
    "start_time": "2023-02-27T02:31:58.709Z"
   },
   {
    "duration": 195,
    "start_time": "2023-02-27T02:32:49.426Z"
   },
   {
    "duration": 183,
    "start_time": "2023-02-27T02:34:56.588Z"
   },
   {
    "duration": 14,
    "start_time": "2023-02-27T02:35:28.030Z"
   },
   {
    "duration": 173,
    "start_time": "2023-02-27T02:35:36.120Z"
   },
   {
    "duration": 13,
    "start_time": "2023-02-27T02:38:34.985Z"
   },
   {
    "duration": 176,
    "start_time": "2023-02-27T02:38:55.468Z"
   },
   {
    "duration": 182,
    "start_time": "2023-02-27T02:41:55.727Z"
   },
   {
    "duration": 297,
    "start_time": "2023-02-27T02:42:16.135Z"
   },
   {
    "duration": 178,
    "start_time": "2023-02-27T02:44:09.605Z"
   },
   {
    "duration": 168,
    "start_time": "2023-02-27T02:46:11.138Z"
   },
   {
    "duration": 207,
    "start_time": "2023-02-27T02:46:54.598Z"
   },
   {
    "duration": 3,
    "start_time": "2023-02-27T02:51:23.618Z"
   },
   {
    "duration": 12,
    "start_time": "2023-02-27T02:54:27.623Z"
   },
   {
    "duration": 12,
    "start_time": "2023-02-27T02:54:57.591Z"
   },
   {
    "duration": 3,
    "start_time": "2023-02-27T02:55:03.856Z"
   },
   {
    "duration": 8,
    "start_time": "2023-02-27T02:55:09.324Z"
   },
   {
    "duration": 7,
    "start_time": "2023-02-27T02:56:08.514Z"
   },
   {
    "duration": 9,
    "start_time": "2023-02-27T02:56:46.864Z"
   },
   {
    "duration": 8,
    "start_time": "2023-02-27T02:58:09.993Z"
   },
   {
    "duration": 8,
    "start_time": "2023-02-27T02:59:16.192Z"
   },
   {
    "duration": 12,
    "start_time": "2023-02-27T03:00:16.308Z"
   },
   {
    "duration": 11,
    "start_time": "2023-02-27T03:01:31.811Z"
   },
   {
    "duration": 21,
    "start_time": "2023-02-27T03:02:42.520Z"
   },
   {
    "duration": 12,
    "start_time": "2023-02-27T03:04:29.404Z"
   },
   {
    "duration": 8,
    "start_time": "2023-02-27T03:04:52.810Z"
   },
   {
    "duration": 74,
    "start_time": "2023-02-27T03:09:54.063Z"
   },
   {
    "duration": 7,
    "start_time": "2023-02-27T03:10:21.657Z"
   },
   {
    "duration": 7,
    "start_time": "2023-02-27T03:10:33.594Z"
   },
   {
    "duration": 49,
    "start_time": "2023-02-27T11:00:47.511Z"
   },
   {
    "duration": 6,
    "start_time": "2023-02-27T11:36:07.677Z"
   },
   {
    "duration": 1422,
    "start_time": "2023-02-27T11:36:10.828Z"
   },
   {
    "duration": 191,
    "start_time": "2023-02-27T11:36:12.252Z"
   },
   {
    "duration": 28,
    "start_time": "2023-02-27T11:36:12.445Z"
   },
   {
    "duration": 3,
    "start_time": "2023-02-27T11:36:12.474Z"
   },
   {
    "duration": 16,
    "start_time": "2023-02-27T11:36:12.479Z"
   },
   {
    "duration": 8,
    "start_time": "2023-02-27T11:36:12.497Z"
   },
   {
    "duration": 47,
    "start_time": "2023-02-27T11:36:12.507Z"
   },
   {
    "duration": 6,
    "start_time": "2023-02-27T11:36:12.556Z"
   },
   {
    "duration": 7,
    "start_time": "2023-02-27T11:36:12.563Z"
   },
   {
    "duration": 341,
    "start_time": "2023-02-27T11:36:12.572Z"
   },
   {
    "duration": 10,
    "start_time": "2023-02-27T11:36:12.915Z"
   },
   {
    "duration": 335,
    "start_time": "2023-02-27T11:36:12.927Z"
   },
   {
    "duration": 21,
    "start_time": "2023-02-27T11:36:13.264Z"
   },
   {
    "duration": 16,
    "start_time": "2023-02-27T11:36:13.290Z"
   },
   {
    "duration": 135,
    "start_time": "2023-02-27T11:36:13.309Z"
   },
   {
    "duration": 173,
    "start_time": "2023-02-27T11:36:13.447Z"
   },
   {
    "duration": 186,
    "start_time": "2023-02-27T11:36:13.622Z"
   },
   {
    "duration": 7,
    "start_time": "2023-02-27T11:36:13.809Z"
   },
   {
    "duration": 10,
    "start_time": "2023-02-27T11:36:13.817Z"
   },
   {
    "duration": 590,
    "start_time": "2023-02-27T11:36:13.838Z"
   },
   {
    "duration": 585,
    "start_time": "2023-02-27T11:36:14.430Z"
   },
   {
    "duration": 15,
    "start_time": "2023-02-27T11:36:15.018Z"
   },
   {
    "duration": 217,
    "start_time": "2023-02-27T11:36:15.035Z"
   },
   {
    "duration": 204,
    "start_time": "2023-02-27T11:36:15.253Z"
   },
   {
    "duration": 204,
    "start_time": "2023-02-27T11:36:15.460Z"
   },
   {
    "duration": 208,
    "start_time": "2023-02-27T11:36:15.666Z"
   },
   {
    "duration": 280,
    "start_time": "2023-02-27T11:36:15.876Z"
   },
   {
    "duration": 188,
    "start_time": "2023-02-27T11:36:16.158Z"
   },
   {
    "duration": 210,
    "start_time": "2023-02-27T11:36:16.351Z"
   },
   {
    "duration": 191,
    "start_time": "2023-02-27T11:36:16.562Z"
   },
   {
    "duration": 172,
    "start_time": "2023-02-27T11:36:16.758Z"
   },
   {
    "duration": 210,
    "start_time": "2023-02-27T11:36:16.932Z"
   },
   {
    "duration": 10,
    "start_time": "2023-02-27T11:36:17.144Z"
   },
   {
    "duration": 29,
    "start_time": "2023-02-27T11:36:17.156Z"
   },
   {
    "duration": 169,
    "start_time": "2023-02-27T11:37:24.475Z"
   },
   {
    "duration": 335,
    "start_time": "2023-02-27T11:45:00.415Z"
   },
   {
    "duration": 17,
    "start_time": "2023-02-27T11:45:23.001Z"
   },
   {
    "duration": 337,
    "start_time": "2023-02-27T11:46:26.271Z"
   },
   {
    "duration": 326,
    "start_time": "2023-02-27T11:46:45.574Z"
   },
   {
    "duration": 489,
    "start_time": "2023-02-27T11:59:22.927Z"
   },
   {
    "duration": 284,
    "start_time": "2023-02-27T11:59:56.568Z"
   },
   {
    "duration": 166,
    "start_time": "2023-02-27T12:06:16.958Z"
   },
   {
    "duration": 162,
    "start_time": "2023-02-27T12:06:30.766Z"
   },
   {
    "duration": 7,
    "start_time": "2023-02-27T12:06:34.987Z"
   },
   {
    "duration": 5,
    "start_time": "2023-02-27T12:06:36.754Z"
   },
   {
    "duration": 346,
    "start_time": "2023-02-27T12:08:08.506Z"
   },
   {
    "duration": 292,
    "start_time": "2023-02-27T12:08:32.228Z"
   },
   {
    "duration": 54,
    "start_time": "2023-02-27T12:16:32.903Z"
   },
   {
    "duration": 265,
    "start_time": "2023-02-27T12:17:39.626Z"
   },
   {
    "duration": 173,
    "start_time": "2023-02-27T12:55:20.657Z"
   },
   {
    "duration": 287,
    "start_time": "2023-02-27T12:56:24.655Z"
   },
   {
    "duration": 192,
    "start_time": "2023-02-27T12:56:36.292Z"
   },
   {
    "duration": 180,
    "start_time": "2023-02-27T12:56:44.454Z"
   },
   {
    "duration": 1258,
    "start_time": "2023-02-27T13:46:46.396Z"
   },
   {
    "duration": 52,
    "start_time": "2023-02-27T13:46:47.656Z"
   },
   {
    "duration": 26,
    "start_time": "2023-02-27T13:46:47.710Z"
   },
   {
    "duration": 3,
    "start_time": "2023-02-27T13:46:47.738Z"
   },
   {
    "duration": 20,
    "start_time": "2023-02-27T13:46:47.743Z"
   },
   {
    "duration": 9,
    "start_time": "2023-02-27T13:46:47.765Z"
   },
   {
    "duration": 19,
    "start_time": "2023-02-27T13:46:47.775Z"
   },
   {
    "duration": 5,
    "start_time": "2023-02-27T13:46:47.796Z"
   },
   {
    "duration": 7,
    "start_time": "2023-02-27T13:46:47.836Z"
   },
   {
    "duration": 192,
    "start_time": "2023-02-27T13:46:47.846Z"
   },
   {
    "duration": 12,
    "start_time": "2023-02-27T13:46:48.040Z"
   },
   {
    "duration": 328,
    "start_time": "2023-02-27T13:46:48.054Z"
   },
   {
    "duration": 22,
    "start_time": "2023-02-27T13:46:48.384Z"
   },
   {
    "duration": 15,
    "start_time": "2023-02-27T13:46:48.408Z"
   },
   {
    "duration": 189,
    "start_time": "2023-02-27T13:46:48.437Z"
   },
   {
    "duration": 192,
    "start_time": "2023-02-27T13:46:48.628Z"
   },
   {
    "duration": 193,
    "start_time": "2023-02-27T13:46:48.822Z"
   },
   {
    "duration": 7,
    "start_time": "2023-02-27T13:46:49.017Z"
   },
   {
    "duration": 20,
    "start_time": "2023-02-27T13:46:49.026Z"
   },
   {
    "duration": 324,
    "start_time": "2023-02-27T13:46:49.048Z"
   },
   {
    "duration": 424,
    "start_time": "2023-02-27T13:46:49.374Z"
   },
   {
    "duration": 17,
    "start_time": "2023-02-27T13:46:49.800Z"
   },
   {
    "duration": 217,
    "start_time": "2023-02-27T13:46:49.819Z"
   },
   {
    "duration": 215,
    "start_time": "2023-02-27T13:46:50.039Z"
   },
   {
    "duration": 221,
    "start_time": "2023-02-27T13:46:50.256Z"
   },
   {
    "duration": 206,
    "start_time": "2023-02-27T13:46:50.479Z"
   },
   {
    "duration": 229,
    "start_time": "2023-02-27T13:46:50.687Z"
   },
   {
    "duration": 209,
    "start_time": "2023-02-27T13:46:50.920Z"
   },
   {
    "duration": 46,
    "start_time": "2023-02-27T13:46:51.131Z"
   },
   {
    "duration": 0,
    "start_time": "2023-02-27T13:46:51.179Z"
   },
   {
    "duration": 0,
    "start_time": "2023-02-27T13:46:51.181Z"
   },
   {
    "duration": 0,
    "start_time": "2023-02-27T13:46:51.183Z"
   },
   {
    "duration": 0,
    "start_time": "2023-02-27T13:46:51.184Z"
   },
   {
    "duration": 0,
    "start_time": "2023-02-27T13:46:51.186Z"
   },
   {
    "duration": 0,
    "start_time": "2023-02-27T13:46:51.188Z"
   },
   {
    "duration": 0,
    "start_time": "2023-02-27T13:46:51.189Z"
   },
   {
    "duration": 1143,
    "start_time": "2023-02-27T14:34:52.646Z"
   },
   {
    "duration": 47,
    "start_time": "2023-02-27T14:34:53.791Z"
   },
   {
    "duration": 23,
    "start_time": "2023-02-27T14:34:53.840Z"
   },
   {
    "duration": 2,
    "start_time": "2023-02-27T14:34:53.865Z"
   },
   {
    "duration": 21,
    "start_time": "2023-02-27T14:34:53.869Z"
   },
   {
    "duration": 18,
    "start_time": "2023-02-27T14:34:53.892Z"
   },
   {
    "duration": 26,
    "start_time": "2023-02-27T14:34:53.912Z"
   },
   {
    "duration": 8,
    "start_time": "2023-02-27T14:34:53.939Z"
   },
   {
    "duration": 13,
    "start_time": "2023-02-27T14:34:53.948Z"
   },
   {
    "duration": 162,
    "start_time": "2023-02-27T14:34:53.963Z"
   },
   {
    "duration": 10,
    "start_time": "2023-02-27T14:34:54.126Z"
   },
   {
    "duration": 283,
    "start_time": "2023-02-27T14:34:54.137Z"
   },
   {
    "duration": 14,
    "start_time": "2023-02-27T14:34:54.422Z"
   },
   {
    "duration": 8,
    "start_time": "2023-02-27T14:34:54.440Z"
   },
   {
    "duration": 131,
    "start_time": "2023-02-27T14:34:54.449Z"
   },
   {
    "duration": 156,
    "start_time": "2023-02-27T14:34:54.582Z"
   },
   {
    "duration": 162,
    "start_time": "2023-02-27T14:34:54.740Z"
   },
   {
    "duration": 6,
    "start_time": "2023-02-27T14:34:54.910Z"
   },
   {
    "duration": 17,
    "start_time": "2023-02-27T14:34:54.918Z"
   },
   {
    "duration": 268,
    "start_time": "2023-02-27T14:34:54.937Z"
   },
   {
    "duration": 334,
    "start_time": "2023-02-27T14:34:55.209Z"
   },
   {
    "duration": 14,
    "start_time": "2023-02-27T14:34:55.544Z"
   },
   {
    "duration": 176,
    "start_time": "2023-02-27T14:34:55.560Z"
   },
   {
    "duration": 173,
    "start_time": "2023-02-27T14:34:55.738Z"
   },
   {
    "duration": 175,
    "start_time": "2023-02-27T14:34:55.913Z"
   },
   {
    "duration": 171,
    "start_time": "2023-02-27T14:34:56.089Z"
   },
   {
    "duration": 196,
    "start_time": "2023-02-27T14:34:56.262Z"
   },
   {
    "duration": 188,
    "start_time": "2023-02-27T14:34:56.460Z"
   },
   {
    "duration": 74,
    "start_time": "2023-02-27T14:34:56.650Z"
   },
   {
    "duration": 0,
    "start_time": "2023-02-27T14:34:56.726Z"
   },
   {
    "duration": 0,
    "start_time": "2023-02-27T14:34:56.728Z"
   },
   {
    "duration": 0,
    "start_time": "2023-02-27T14:34:56.729Z"
   },
   {
    "duration": 0,
    "start_time": "2023-02-27T14:34:56.730Z"
   },
   {
    "duration": 0,
    "start_time": "2023-02-27T14:34:56.731Z"
   },
   {
    "duration": 0,
    "start_time": "2023-02-27T14:34:56.733Z"
   },
   {
    "duration": 0,
    "start_time": "2023-02-27T14:34:56.734Z"
   },
   {
    "duration": 178,
    "start_time": "2023-02-27T14:35:16.964Z"
   },
   {
    "duration": 425,
    "start_time": "2023-02-27T14:35:17.147Z"
   },
   {
    "duration": 0,
    "start_time": "2023-02-27T14:35:17.573Z"
   },
   {
    "duration": 184,
    "start_time": "2023-02-27T14:35:17.679Z"
   },
   {
    "duration": 192,
    "start_time": "2023-02-27T14:35:18.150Z"
   },
   {
    "duration": 8,
    "start_time": "2023-02-27T14:35:19.804Z"
   },
   {
    "duration": 7,
    "start_time": "2023-02-27T14:35:20.670Z"
   },
   {
    "duration": 246,
    "start_time": "2023-02-27T14:35:26.900Z"
   },
   {
    "duration": 1135,
    "start_time": "2023-02-27T15:08:00.962Z"
   },
   {
    "duration": 50,
    "start_time": "2023-02-27T15:08:02.099Z"
   },
   {
    "duration": 25,
    "start_time": "2023-02-27T15:08:02.151Z"
   },
   {
    "duration": 15,
    "start_time": "2023-02-27T15:08:02.179Z"
   },
   {
    "duration": 29,
    "start_time": "2023-02-27T15:08:02.195Z"
   },
   {
    "duration": 8,
    "start_time": "2023-02-27T15:08:02.226Z"
   },
   {
    "duration": 25,
    "start_time": "2023-02-27T15:08:02.236Z"
   },
   {
    "duration": 6,
    "start_time": "2023-02-27T15:08:02.262Z"
   },
   {
    "duration": 11,
    "start_time": "2023-02-27T15:08:02.269Z"
   },
   {
    "duration": 162,
    "start_time": "2023-02-27T15:08:02.283Z"
   },
   {
    "duration": 11,
    "start_time": "2023-02-27T15:08:02.446Z"
   },
   {
    "duration": 289,
    "start_time": "2023-02-27T15:08:02.458Z"
   },
   {
    "duration": 15,
    "start_time": "2023-02-27T15:08:02.748Z"
   },
   {
    "duration": 11,
    "start_time": "2023-02-27T15:08:02.764Z"
   },
   {
    "duration": 128,
    "start_time": "2023-02-27T15:08:02.777Z"
   },
   {
    "duration": 184,
    "start_time": "2023-02-27T15:08:02.910Z"
   },
   {
    "duration": 158,
    "start_time": "2023-02-27T15:08:03.095Z"
   },
   {
    "duration": 6,
    "start_time": "2023-02-27T15:08:03.255Z"
   },
   {
    "duration": 7,
    "start_time": "2023-02-27T15:08:03.262Z"
   },
   {
    "duration": 288,
    "start_time": "2023-02-27T15:08:03.270Z"
   },
   {
    "duration": 328,
    "start_time": "2023-02-27T15:08:03.560Z"
   },
   {
    "duration": 21,
    "start_time": "2023-02-27T15:08:03.890Z"
   },
   {
    "duration": 180,
    "start_time": "2023-02-27T15:08:03.912Z"
   },
   {
    "duration": 188,
    "start_time": "2023-02-27T15:08:04.094Z"
   },
   {
    "duration": 180,
    "start_time": "2023-02-27T15:08:04.284Z"
   },
   {
    "duration": 170,
    "start_time": "2023-02-27T15:08:04.466Z"
   },
   {
    "duration": 195,
    "start_time": "2023-02-27T15:08:04.638Z"
   },
   {
    "duration": 190,
    "start_time": "2023-02-27T15:08:04.837Z"
   },
   {
    "duration": 196,
    "start_time": "2023-02-27T15:08:05.029Z"
   },
   {
    "duration": 177,
    "start_time": "2023-02-27T15:08:05.226Z"
   },
   {
    "duration": 173,
    "start_time": "2023-02-27T15:08:05.409Z"
   },
   {
    "duration": 256,
    "start_time": "2023-02-27T15:08:05.584Z"
   },
   {
    "duration": 7,
    "start_time": "2023-02-27T15:08:05.842Z"
   },
   {
    "duration": 38,
    "start_time": "2023-02-27T15:08:05.850Z"
   },
   {
    "duration": 53,
    "start_time": "2023-02-27T15:27:55.042Z"
   },
   {
    "duration": 1412,
    "start_time": "2023-02-27T15:27:57.833Z"
   },
   {
    "duration": 94,
    "start_time": "2023-02-27T15:27:59.247Z"
   },
   {
    "duration": 15,
    "start_time": "2023-02-27T15:27:59.343Z"
   },
   {
    "duration": 3,
    "start_time": "2023-02-27T15:27:59.359Z"
   },
   {
    "duration": 31,
    "start_time": "2023-02-27T15:27:59.365Z"
   },
   {
    "duration": 22,
    "start_time": "2023-02-27T15:27:59.398Z"
   },
   {
    "duration": 22,
    "start_time": "2023-02-27T15:27:59.421Z"
   },
   {
    "duration": 7,
    "start_time": "2023-02-27T15:27:59.445Z"
   },
   {
    "duration": 25,
    "start_time": "2023-02-27T15:27:59.453Z"
   },
   {
    "duration": 176,
    "start_time": "2023-02-27T15:27:59.479Z"
   },
   {
    "duration": 11,
    "start_time": "2023-02-27T15:27:59.657Z"
   },
   {
    "duration": 318,
    "start_time": "2023-02-27T15:27:59.669Z"
   },
   {
    "duration": 18,
    "start_time": "2023-02-27T15:27:59.989Z"
   },
   {
    "duration": 31,
    "start_time": "2023-02-27T15:28:00.011Z"
   },
   {
    "duration": 149,
    "start_time": "2023-02-27T15:28:00.044Z"
   },
   {
    "duration": 173,
    "start_time": "2023-02-27T15:28:00.194Z"
   },
   {
    "duration": 205,
    "start_time": "2023-02-27T15:28:00.369Z"
   },
   {
    "duration": 9,
    "start_time": "2023-02-27T15:28:00.576Z"
   },
   {
    "duration": 45,
    "start_time": "2023-02-27T15:28:00.587Z"
   },
   {
    "duration": 353,
    "start_time": "2023-02-27T15:28:00.635Z"
   },
   {
    "duration": 358,
    "start_time": "2023-02-27T15:28:00.989Z"
   },
   {
    "duration": 15,
    "start_time": "2023-02-27T15:28:01.349Z"
   },
   {
    "duration": 202,
    "start_time": "2023-02-27T15:28:01.366Z"
   },
   {
    "duration": 191,
    "start_time": "2023-02-27T15:28:01.570Z"
   },
   {
    "duration": 226,
    "start_time": "2023-02-27T15:28:01.763Z"
   },
   {
    "duration": 192,
    "start_time": "2023-02-27T15:28:01.991Z"
   },
   {
    "duration": 203,
    "start_time": "2023-02-27T15:28:02.185Z"
   },
   {
    "duration": 207,
    "start_time": "2023-02-27T15:28:02.390Z"
   },
   {
    "duration": 204,
    "start_time": "2023-02-27T15:28:02.599Z"
   },
   {
    "duration": 189,
    "start_time": "2023-02-27T15:28:02.805Z"
   },
   {
    "duration": 187,
    "start_time": "2023-02-27T15:28:02.995Z"
   },
   {
    "duration": 292,
    "start_time": "2023-02-27T15:28:03.183Z"
   },
   {
    "duration": 9,
    "start_time": "2023-02-27T15:28:03.476Z"
   },
   {
    "duration": 17,
    "start_time": "2023-02-27T15:28:03.486Z"
   },
   {
    "duration": 64,
    "start_time": "2023-02-27T15:30:24.369Z"
   },
   {
    "duration": 14,
    "start_time": "2023-02-27T15:31:52.842Z"
   },
   {
    "duration": 1165,
    "start_time": "2023-02-27T15:33:19.759Z"
   },
   {
    "duration": 51,
    "start_time": "2023-02-27T15:33:20.927Z"
   },
   {
    "duration": 16,
    "start_time": "2023-02-27T15:33:20.979Z"
   },
   {
    "duration": 29,
    "start_time": "2023-02-27T15:33:20.997Z"
   },
   {
    "duration": 25,
    "start_time": "2023-02-27T15:33:21.028Z"
   },
   {
    "duration": 9,
    "start_time": "2023-02-27T15:33:21.055Z"
   },
   {
    "duration": 17,
    "start_time": "2023-02-27T15:33:21.066Z"
   },
   {
    "duration": 9,
    "start_time": "2023-02-27T15:33:21.084Z"
   },
   {
    "duration": 32,
    "start_time": "2023-02-27T15:33:21.095Z"
   },
   {
    "duration": 203,
    "start_time": "2023-02-27T15:33:21.129Z"
   },
   {
    "duration": 12,
    "start_time": "2023-02-27T15:33:21.333Z"
   },
   {
    "duration": 329,
    "start_time": "2023-02-27T15:33:21.346Z"
   },
   {
    "duration": 18,
    "start_time": "2023-02-27T15:33:21.677Z"
   },
   {
    "duration": 7,
    "start_time": "2023-02-27T15:33:21.698Z"
   },
   {
    "duration": 143,
    "start_time": "2023-02-27T15:33:21.727Z"
   },
   {
    "duration": 170,
    "start_time": "2023-02-27T15:33:21.871Z"
   },
   {
    "duration": 191,
    "start_time": "2023-02-27T15:33:22.043Z"
   },
   {
    "duration": 7,
    "start_time": "2023-02-27T15:33:22.235Z"
   },
   {
    "duration": 8,
    "start_time": "2023-02-27T15:33:22.244Z"
   },
   {
    "duration": 322,
    "start_time": "2023-02-27T15:33:22.254Z"
   },
   {
    "duration": 397,
    "start_time": "2023-02-27T15:33:22.578Z"
   },
   {
    "duration": 17,
    "start_time": "2023-02-27T15:33:22.977Z"
   },
   {
    "duration": 216,
    "start_time": "2023-02-27T15:33:22.996Z"
   },
   {
    "duration": 194,
    "start_time": "2023-02-27T15:33:23.214Z"
   },
   {
    "duration": 201,
    "start_time": "2023-02-27T15:33:23.410Z"
   },
   {
    "duration": 180,
    "start_time": "2023-02-27T15:33:23.613Z"
   },
   {
    "duration": 218,
    "start_time": "2023-02-27T15:33:23.795Z"
   },
   {
    "duration": 203,
    "start_time": "2023-02-27T15:33:24.014Z"
   },
   {
    "duration": 193,
    "start_time": "2023-02-27T15:33:24.218Z"
   },
   {
    "duration": 186,
    "start_time": "2023-02-27T15:33:24.413Z"
   },
   {
    "duration": 181,
    "start_time": "2023-02-27T15:33:24.601Z"
   },
   {
    "duration": 304,
    "start_time": "2023-02-27T15:33:24.783Z"
   },
   {
    "duration": 8,
    "start_time": "2023-02-27T15:33:25.089Z"
   },
   {
    "duration": 10,
    "start_time": "2023-02-27T15:33:25.099Z"
   },
   {
    "duration": 348,
    "start_time": "2023-02-27T15:42:41.060Z"
   },
   {
    "duration": 233,
    "start_time": "2023-02-27T15:43:12.016Z"
   },
   {
    "duration": 367,
    "start_time": "2023-02-27T15:43:44.792Z"
   },
   {
    "duration": 450,
    "start_time": "2023-02-27T15:44:00.271Z"
   },
   {
    "duration": 406,
    "start_time": "2023-02-27T15:44:06.219Z"
   },
   {
    "duration": 399,
    "start_time": "2023-02-27T15:53:22.431Z"
   },
   {
    "duration": 282,
    "start_time": "2023-02-27T15:53:23.468Z"
   },
   {
    "duration": 6,
    "start_time": "2023-02-27T15:55:07.423Z"
   },
   {
    "duration": 4,
    "start_time": "2023-02-27T15:55:30.168Z"
   },
   {
    "duration": 539,
    "start_time": "2023-02-27T15:57:32.893Z"
   },
   {
    "duration": 14,
    "start_time": "2023-02-27T16:00:20.862Z"
   },
   {
    "duration": 12,
    "start_time": "2023-02-27T16:00:28.313Z"
   },
   {
    "duration": 6,
    "start_time": "2023-02-27T16:02:47.902Z"
   },
   {
    "duration": 5,
    "start_time": "2023-02-27T16:03:01.556Z"
   },
   {
    "duration": 6,
    "start_time": "2023-02-27T16:03:08.540Z"
   },
   {
    "duration": 86,
    "start_time": "2023-02-27T16:03:45.076Z"
   },
   {
    "duration": 74,
    "start_time": "2023-02-27T16:03:52.559Z"
   },
   {
    "duration": 143,
    "start_time": "2023-02-27T16:05:11.468Z"
   },
   {
    "duration": 14,
    "start_time": "2023-02-27T16:05:21.561Z"
   },
   {
    "duration": 17,
    "start_time": "2023-02-27T16:05:27.214Z"
   },
   {
    "duration": 16,
    "start_time": "2023-02-27T16:05:45.277Z"
   },
   {
    "duration": 15,
    "start_time": "2023-02-27T16:06:01.088Z"
   },
   {
    "duration": 16,
    "start_time": "2023-02-27T16:07:39.023Z"
   },
   {
    "duration": 29,
    "start_time": "2023-02-27T16:07:50.577Z"
   },
   {
    "duration": 33,
    "start_time": "2023-02-27T16:09:07.405Z"
   },
   {
    "duration": 802,
    "start_time": "2023-02-27T16:12:02.808Z"
   },
   {
    "duration": 506,
    "start_time": "2023-02-27T16:13:45.434Z"
   },
   {
    "duration": 696,
    "start_time": "2023-02-27T16:26:10.506Z"
   },
   {
    "duration": 216,
    "start_time": "2023-02-27T16:28:32.756Z"
   },
   {
    "duration": 238,
    "start_time": "2023-02-27T16:29:03.924Z"
   },
   {
    "duration": 235,
    "start_time": "2023-02-27T16:29:18.703Z"
   },
   {
    "duration": 219,
    "start_time": "2023-02-27T16:31:27.768Z"
   },
   {
    "duration": 20,
    "start_time": "2023-02-27T16:31:50.049Z"
   },
   {
    "duration": 22,
    "start_time": "2023-02-27T16:32:02.354Z"
   },
   {
    "duration": 22,
    "start_time": "2023-02-27T16:32:53.038Z"
   },
   {
    "duration": 225,
    "start_time": "2023-02-27T16:33:46.861Z"
   },
   {
    "duration": 20,
    "start_time": "2023-02-27T16:33:56.196Z"
   },
   {
    "duration": 213,
    "start_time": "2023-02-27T16:34:04.129Z"
   },
   {
    "duration": 205,
    "start_time": "2023-02-27T16:34:18.107Z"
   },
   {
    "duration": 217,
    "start_time": "2023-02-27T16:41:49.494Z"
   },
   {
    "duration": 221,
    "start_time": "2023-02-27T16:42:06.056Z"
   },
   {
    "duration": 229,
    "start_time": "2023-02-27T16:43:12.322Z"
   },
   {
    "duration": 230,
    "start_time": "2023-02-27T16:43:27.011Z"
   },
   {
    "duration": 684,
    "start_time": "2023-02-27T16:43:55.828Z"
   },
   {
    "duration": 72,
    "start_time": "2023-02-27T16:45:26.508Z"
   },
   {
    "duration": 97,
    "start_time": "2023-02-27T16:52:09.870Z"
   },
   {
    "duration": 76,
    "start_time": "2023-02-27T16:55:00.926Z"
   },
   {
    "duration": 8,
    "start_time": "2023-02-27T16:55:14.779Z"
   },
   {
    "duration": 8,
    "start_time": "2023-02-27T16:55:35.856Z"
   },
   {
    "duration": 8,
    "start_time": "2023-02-27T16:55:54.334Z"
   },
   {
    "duration": 20,
    "start_time": "2023-02-27T16:59:54.486Z"
   },
   {
    "duration": 448,
    "start_time": "2023-02-27T17:05:15.570Z"
   },
   {
    "duration": 205,
    "start_time": "2023-02-27T17:07:32.064Z"
   },
   {
    "duration": 457,
    "start_time": "2023-02-27T17:08:04.552Z"
   },
   {
    "duration": 475,
    "start_time": "2023-02-27T17:09:06.557Z"
   },
   {
    "duration": 258,
    "start_time": "2023-02-27T17:10:29.535Z"
   },
   {
    "duration": 74,
    "start_time": "2023-02-27T17:14:07.754Z"
   },
   {
    "duration": 181,
    "start_time": "2023-02-27T17:14:18.566Z"
   },
   {
    "duration": 500,
    "start_time": "2023-02-27T17:16:10.993Z"
   },
   {
    "duration": 79,
    "start_time": "2023-02-27T17:19:54.755Z"
   },
   {
    "duration": 10,
    "start_time": "2023-02-27T17:20:02.188Z"
   },
   {
    "duration": 9,
    "start_time": "2023-02-27T17:21:11.604Z"
   },
   {
    "duration": 11,
    "start_time": "2023-02-27T17:21:20.673Z"
   },
   {
    "duration": 10,
    "start_time": "2023-02-27T17:22:12.334Z"
   },
   {
    "duration": 1137,
    "start_time": "2023-02-27T17:27:24.630Z"
   },
   {
    "duration": 49,
    "start_time": "2023-02-27T17:27:25.770Z"
   },
   {
    "duration": 15,
    "start_time": "2023-02-27T17:27:25.821Z"
   },
   {
    "duration": 7,
    "start_time": "2023-02-27T17:27:25.838Z"
   },
   {
    "duration": 22,
    "start_time": "2023-02-27T17:27:25.847Z"
   },
   {
    "duration": 8,
    "start_time": "2023-02-27T17:27:25.871Z"
   },
   {
    "duration": 14,
    "start_time": "2023-02-27T17:27:25.881Z"
   },
   {
    "duration": 6,
    "start_time": "2023-02-27T17:27:25.897Z"
   },
   {
    "duration": 7,
    "start_time": "2023-02-27T17:27:25.905Z"
   },
   {
    "duration": 378,
    "start_time": "2023-02-27T17:27:25.926Z"
   },
   {
    "duration": 34,
    "start_time": "2023-02-27T17:27:26.306Z"
   },
   {
    "duration": 234,
    "start_time": "2023-02-27T17:27:26.343Z"
   },
   {
    "duration": 576,
    "start_time": "2023-02-27T17:27:26.579Z"
   },
   {
    "duration": 6,
    "start_time": "2023-02-27T17:27:27.159Z"
   },
   {
    "duration": 134,
    "start_time": "2023-02-27T17:27:27.167Z"
   },
   {
    "duration": 304,
    "start_time": "2023-02-27T17:27:27.303Z"
   },
   {
    "duration": 386,
    "start_time": "2023-02-27T17:27:27.609Z"
   },
   {
    "duration": 187,
    "start_time": "2023-02-27T17:27:27.998Z"
   },
   {
    "duration": 181,
    "start_time": "2023-02-27T17:27:28.187Z"
   },
   {
    "duration": 7,
    "start_time": "2023-02-27T17:27:28.370Z"
   },
   {
    "duration": 10,
    "start_time": "2023-02-27T17:27:28.378Z"
   },
   {
    "duration": 487,
    "start_time": "2023-02-27T17:27:28.390Z"
   },
   {
    "duration": 509,
    "start_time": "2023-02-27T17:27:28.879Z"
   },
   {
    "duration": 11,
    "start_time": "2023-02-27T17:27:29.390Z"
   },
   {
    "duration": 25,
    "start_time": "2023-02-27T17:27:29.403Z"
   },
   {
    "duration": 17,
    "start_time": "2023-02-27T17:27:29.430Z"
   },
   {
    "duration": 221,
    "start_time": "2023-02-27T17:27:29.449Z"
   },
   {
    "duration": 266,
    "start_time": "2023-02-27T17:27:29.672Z"
   },
   {
    "duration": 192,
    "start_time": "2023-02-27T17:27:29.939Z"
   },
   {
    "duration": 174,
    "start_time": "2023-02-27T17:27:30.133Z"
   },
   {
    "duration": 261,
    "start_time": "2023-02-27T17:27:30.312Z"
   },
   {
    "duration": 231,
    "start_time": "2023-02-27T17:27:30.576Z"
   },
   {
    "duration": 200,
    "start_time": "2023-02-27T17:27:30.809Z"
   },
   {
    "duration": 194,
    "start_time": "2023-02-27T17:27:31.011Z"
   },
   {
    "duration": 223,
    "start_time": "2023-02-27T17:27:31.207Z"
   },
   {
    "duration": 244,
    "start_time": "2023-02-27T17:27:31.432Z"
   },
   {
    "duration": 9,
    "start_time": "2023-02-27T17:27:31.678Z"
   },
   {
    "duration": 23,
    "start_time": "2023-02-27T17:27:31.689Z"
   },
   {
    "duration": 11,
    "start_time": "2023-02-27T17:37:48.013Z"
   },
   {
    "duration": 194,
    "start_time": "2023-02-27T18:13:56.197Z"
   },
   {
    "duration": 1372,
    "start_time": "2023-02-28T15:45:42.202Z"
   },
   {
    "duration": 55,
    "start_time": "2023-02-28T15:45:43.576Z"
   },
   {
    "duration": 20,
    "start_time": "2023-02-28T15:45:43.633Z"
   },
   {
    "duration": 7,
    "start_time": "2023-02-28T15:45:43.654Z"
   },
   {
    "duration": 26,
    "start_time": "2023-02-28T15:45:43.663Z"
   },
   {
    "duration": 16,
    "start_time": "2023-02-28T15:45:43.691Z"
   },
   {
    "duration": 35,
    "start_time": "2023-02-28T15:45:43.709Z"
   },
   {
    "duration": 6,
    "start_time": "2023-02-28T15:45:43.747Z"
   },
   {
    "duration": 10,
    "start_time": "2023-02-28T15:45:43.754Z"
   },
   {
    "duration": 394,
    "start_time": "2023-02-28T15:45:43.765Z"
   },
   {
    "duration": 21,
    "start_time": "2023-02-28T15:45:44.161Z"
   },
   {
    "duration": 243,
    "start_time": "2023-02-28T15:45:44.183Z"
   },
   {
    "duration": 548,
    "start_time": "2023-02-28T15:45:44.427Z"
   },
   {
    "duration": 7,
    "start_time": "2023-02-28T15:45:44.978Z"
   },
   {
    "duration": 153,
    "start_time": "2023-02-28T15:45:44.986Z"
   },
   {
    "duration": 366,
    "start_time": "2023-02-28T15:45:45.141Z"
   },
   {
    "duration": 303,
    "start_time": "2023-02-28T15:45:45.509Z"
   },
   {
    "duration": 167,
    "start_time": "2023-02-28T15:45:45.813Z"
   },
   {
    "duration": 170,
    "start_time": "2023-02-28T15:45:45.981Z"
   },
   {
    "duration": 5,
    "start_time": "2023-02-28T15:45:46.153Z"
   },
   {
    "duration": 6,
    "start_time": "2023-02-28T15:45:46.160Z"
   },
   {
    "duration": 498,
    "start_time": "2023-02-28T15:45:46.167Z"
   },
   {
    "duration": 567,
    "start_time": "2023-02-28T15:45:46.667Z"
   },
   {
    "duration": 9,
    "start_time": "2023-02-28T15:45:47.238Z"
   },
   {
    "duration": 8,
    "start_time": "2023-02-28T15:45:47.249Z"
   },
   {
    "duration": 13,
    "start_time": "2023-02-28T15:45:47.259Z"
   },
   {
    "duration": 213,
    "start_time": "2023-02-28T15:45:47.273Z"
   },
   {
    "duration": 185,
    "start_time": "2023-02-28T15:45:47.488Z"
   },
   {
    "duration": 186,
    "start_time": "2023-02-28T15:45:47.675Z"
   },
   {
    "duration": 185,
    "start_time": "2023-02-28T15:45:47.863Z"
   },
   {
    "duration": 226,
    "start_time": "2023-02-28T15:45:48.050Z"
   },
   {
    "duration": 201,
    "start_time": "2023-02-28T15:45:48.278Z"
   },
   {
    "duration": 186,
    "start_time": "2023-02-28T15:45:48.481Z"
   },
   {
    "duration": 184,
    "start_time": "2023-02-28T15:45:48.669Z"
   },
   {
    "duration": 188,
    "start_time": "2023-02-28T15:45:48.855Z"
   },
   {
    "duration": 227,
    "start_time": "2023-02-28T15:45:49.045Z"
   },
   {
    "duration": 11,
    "start_time": "2023-02-28T15:45:49.274Z"
   },
   {
    "duration": 14,
    "start_time": "2023-02-28T15:45:49.287Z"
   }
  ],
  "kernelspec": {
   "display_name": "Python 3 (ipykernel)",
   "language": "python",
   "name": "python3"
  },
  "language_info": {
   "codemirror_mode": {
    "name": "ipython",
    "version": 3
   },
   "file_extension": ".py",
   "mimetype": "text/x-python",
   "name": "python",
   "nbconvert_exporter": "python",
   "pygments_lexer": "ipython3",
   "version": "3.9.5"
  },
  "toc": {
   "base_numbering": 1,
   "nav_menu": {},
   "number_sections": true,
   "sideBar": true,
   "skip_h1_title": true,
   "title_cell": "Table of Contents",
   "title_sidebar": "Contents",
   "toc_cell": false,
   "toc_position": {},
   "toc_section_display": true,
   "toc_window_display": false
  }
 },
 "nbformat": 4,
 "nbformat_minor": 2
}
