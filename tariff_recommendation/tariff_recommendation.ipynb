{
 "cells": [
  {
   "cell_type": "markdown",
   "metadata": {
    "id": "1kNJHom3oxOe"
   },
   "source": [
    "# Recommendation for Tariff"
   ]
  },
  {
   "cell_type": "markdown",
   "metadata": {
    "id": "Nk4-cZNyoxOh"
   },
   "source": [
    "# Brief Description"
   ]
  },
  {
   "cell_type": "markdown",
   "metadata": {
    "id": "mxat88Z7oxOi"
   },
   "source": [
    "Task: You have data on customer behavior who have already transitioned to these tariffs (from the \"Statistical Data Analysis\" course project). Build a classification model that selects the appropriate tariff. Data preprocessing is not needed, as it has already been done.\n",
    "\n",
    "Goal: Build a model with the highest possible accuracy. Aim to achieve an accuracy rate of at least 0.75."
   ]
  },
  {
   "cell_type": "code",
   "execution_count": null,
   "metadata": {
    "id": "Zg0mEckpoxOk"
   },
   "outputs": [],
   "source": [
    "\n",
    "import pandas as pd\n",
    "from sklearn.tree import DecisionTreeClassifier, plot_tree\n",
    "from sklearn.ensemble import RandomForestClassifier\n",
    "from sklearn.model_selection import train_test_split\n",
    "from sklearn.metrics import accuracy_score, confusion_matrix\n",
    "import matplotlib.pyplot as plt\n",
    "from sklearn.dummy import DummyClassifier"
   ]
  },
  {
   "cell_type": "markdown",
   "metadata": {
    "id": "f8XSbDYroxOl"
   },
   "source": [
    "## Exploring the Dataset"
   ]
  },
  {
   "cell_type": "code",
   "execution_count": null,
   "metadata": {
    "colab": {
     "base_uri": "https://localhost:8080/",
     "height": 424
    },
    "id": "hTfktPkLoxOm",
    "outputId": "6aa5c237-40b8-49ca-bde9-b473be243b24"
   },
   "outputs": [
    {
     "data": {
      "text/html": [
       "\n",
       "  <div id=\"df-de37f087-e641-4d5e-9d20-143f734f46a6\">\n",
       "    <div class=\"colab-df-container\">\n",
       "      <div>\n",
       "<style scoped>\n",
       "    .dataframe tbody tr th:only-of-type {\n",
       "        vertical-align: middle;\n",
       "    }\n",
       "\n",
       "    .dataframe tbody tr th {\n",
       "        vertical-align: top;\n",
       "    }\n",
       "\n",
       "    .dataframe thead th {\n",
       "        text-align: right;\n",
       "    }\n",
       "</style>\n",
       "<table border=\"1\" class=\"dataframe\">\n",
       "  <thead>\n",
       "    <tr style=\"text-align: right;\">\n",
       "      <th></th>\n",
       "      <th>calls</th>\n",
       "      <th>minutes</th>\n",
       "      <th>messages</th>\n",
       "      <th>mb_used</th>\n",
       "      <th>is_ultra</th>\n",
       "    </tr>\n",
       "  </thead>\n",
       "  <tbody>\n",
       "    <tr>\n",
       "      <th>0</th>\n",
       "      <td>40.0</td>\n",
       "      <td>311.90</td>\n",
       "      <td>83.0</td>\n",
       "      <td>19915.42</td>\n",
       "      <td>0</td>\n",
       "    </tr>\n",
       "    <tr>\n",
       "      <th>1</th>\n",
       "      <td>85.0</td>\n",
       "      <td>516.75</td>\n",
       "      <td>56.0</td>\n",
       "      <td>22696.96</td>\n",
       "      <td>0</td>\n",
       "    </tr>\n",
       "    <tr>\n",
       "      <th>2</th>\n",
       "      <td>77.0</td>\n",
       "      <td>467.66</td>\n",
       "      <td>86.0</td>\n",
       "      <td>21060.45</td>\n",
       "      <td>0</td>\n",
       "    </tr>\n",
       "    <tr>\n",
       "      <th>3</th>\n",
       "      <td>106.0</td>\n",
       "      <td>745.53</td>\n",
       "      <td>81.0</td>\n",
       "      <td>8437.39</td>\n",
       "      <td>1</td>\n",
       "    </tr>\n",
       "    <tr>\n",
       "      <th>4</th>\n",
       "      <td>66.0</td>\n",
       "      <td>418.74</td>\n",
       "      <td>1.0</td>\n",
       "      <td>14502.75</td>\n",
       "      <td>0</td>\n",
       "    </tr>\n",
       "    <tr>\n",
       "      <th>...</th>\n",
       "      <td>...</td>\n",
       "      <td>...</td>\n",
       "      <td>...</td>\n",
       "      <td>...</td>\n",
       "      <td>...</td>\n",
       "    </tr>\n",
       "    <tr>\n",
       "      <th>3209</th>\n",
       "      <td>122.0</td>\n",
       "      <td>910.98</td>\n",
       "      <td>20.0</td>\n",
       "      <td>35124.90</td>\n",
       "      <td>1</td>\n",
       "    </tr>\n",
       "    <tr>\n",
       "      <th>3210</th>\n",
       "      <td>25.0</td>\n",
       "      <td>190.36</td>\n",
       "      <td>0.0</td>\n",
       "      <td>3275.61</td>\n",
       "      <td>0</td>\n",
       "    </tr>\n",
       "    <tr>\n",
       "      <th>3211</th>\n",
       "      <td>97.0</td>\n",
       "      <td>634.44</td>\n",
       "      <td>70.0</td>\n",
       "      <td>13974.06</td>\n",
       "      <td>0</td>\n",
       "    </tr>\n",
       "    <tr>\n",
       "      <th>3212</th>\n",
       "      <td>64.0</td>\n",
       "      <td>462.32</td>\n",
       "      <td>90.0</td>\n",
       "      <td>31239.78</td>\n",
       "      <td>0</td>\n",
       "    </tr>\n",
       "    <tr>\n",
       "      <th>3213</th>\n",
       "      <td>80.0</td>\n",
       "      <td>566.09</td>\n",
       "      <td>6.0</td>\n",
       "      <td>29480.52</td>\n",
       "      <td>1</td>\n",
       "    </tr>\n",
       "  </tbody>\n",
       "</table>\n",
       "<p>3214 rows × 5 columns</p>\n",
       "</div>\n",
       "      <button class=\"colab-df-convert\" onclick=\"convertToInteractive('df-de37f087-e641-4d5e-9d20-143f734f46a6')\"\n",
       "              title=\"Convert this dataframe to an interactive table.\"\n",
       "              style=\"display:none;\">\n",
       "        \n",
       "  <svg xmlns=\"http://www.w3.org/2000/svg\" height=\"24px\"viewBox=\"0 0 24 24\"\n",
       "       width=\"24px\">\n",
       "    <path d=\"M0 0h24v24H0V0z\" fill=\"none\"/>\n",
       "    <path d=\"M18.56 5.44l.94 2.06.94-2.06 2.06-.94-2.06-.94-.94-2.06-.94 2.06-2.06.94zm-11 1L8.5 8.5l.94-2.06 2.06-.94-2.06-.94L8.5 2.5l-.94 2.06-2.06.94zm10 10l.94 2.06.94-2.06 2.06-.94-2.06-.94-.94-2.06-.94 2.06-2.06.94z\"/><path d=\"M17.41 7.96l-1.37-1.37c-.4-.4-.92-.59-1.43-.59-.52 0-1.04.2-1.43.59L10.3 9.45l-7.72 7.72c-.78.78-.78 2.05 0 2.83L4 21.41c.39.39.9.59 1.41.59.51 0 1.02-.2 1.41-.59l7.78-7.78 2.81-2.81c.8-.78.8-2.07 0-2.86zM5.41 20L4 18.59l7.72-7.72 1.47 1.35L5.41 20z\"/>\n",
       "  </svg>\n",
       "      </button>\n",
       "      \n",
       "  <style>\n",
       "    .colab-df-container {\n",
       "      display:flex;\n",
       "      flex-wrap:wrap;\n",
       "      gap: 12px;\n",
       "    }\n",
       "\n",
       "    .colab-df-convert {\n",
       "      background-color: #E8F0FE;\n",
       "      border: none;\n",
       "      border-radius: 50%;\n",
       "      cursor: pointer;\n",
       "      display: none;\n",
       "      fill: #1967D2;\n",
       "      height: 32px;\n",
       "      padding: 0 0 0 0;\n",
       "      width: 32px;\n",
       "    }\n",
       "\n",
       "    .colab-df-convert:hover {\n",
       "      background-color: #E2EBFA;\n",
       "      box-shadow: 0px 1px 2px rgba(60, 64, 67, 0.3), 0px 1px 3px 1px rgba(60, 64, 67, 0.15);\n",
       "      fill: #174EA6;\n",
       "    }\n",
       "\n",
       "    [theme=dark] .colab-df-convert {\n",
       "      background-color: #3B4455;\n",
       "      fill: #D2E3FC;\n",
       "    }\n",
       "\n",
       "    [theme=dark] .colab-df-convert:hover {\n",
       "      background-color: #434B5C;\n",
       "      box-shadow: 0px 1px 3px 1px rgba(0, 0, 0, 0.15);\n",
       "      filter: drop-shadow(0px 1px 2px rgba(0, 0, 0, 0.3));\n",
       "      fill: #FFFFFF;\n",
       "    }\n",
       "  </style>\n",
       "\n",
       "      <script>\n",
       "        const buttonEl =\n",
       "          document.querySelector('#df-de37f087-e641-4d5e-9d20-143f734f46a6 button.colab-df-convert');\n",
       "        buttonEl.style.display =\n",
       "          google.colab.kernel.accessAllowed ? 'block' : 'none';\n",
       "\n",
       "        async function convertToInteractive(key) {\n",
       "          const element = document.querySelector('#df-de37f087-e641-4d5e-9d20-143f734f46a6');\n",
       "          const dataTable =\n",
       "            await google.colab.kernel.invokeFunction('convertToInteractive',\n",
       "                                                     [key], {});\n",
       "          if (!dataTable) return;\n",
       "\n",
       "          const docLinkHtml = 'Like what you see? Visit the ' +\n",
       "            '<a target=\"_blank\" href=https://colab.research.google.com/notebooks/data_table.ipynb>data table notebook</a>'\n",
       "            + ' to learn more about interactive tables.';\n",
       "          element.innerHTML = '';\n",
       "          dataTable['output_type'] = 'display_data';\n",
       "          await google.colab.output.renderOutput(dataTable, element);\n",
       "          const docLink = document.createElement('div');\n",
       "          docLink.innerHTML = docLinkHtml;\n",
       "          element.appendChild(docLink);\n",
       "        }\n",
       "      </script>\n",
       "    </div>\n",
       "  </div>\n",
       "  "
      ],
      "text/plain": [
       "      calls  minutes  messages   mb_used  is_ultra\n",
       "0      40.0   311.90      83.0  19915.42         0\n",
       "1      85.0   516.75      56.0  22696.96         0\n",
       "2      77.0   467.66      86.0  21060.45         0\n",
       "3     106.0   745.53      81.0   8437.39         1\n",
       "4      66.0   418.74       1.0  14502.75         0\n",
       "...     ...      ...       ...       ...       ...\n",
       "3209  122.0   910.98      20.0  35124.90         1\n",
       "3210   25.0   190.36       0.0   3275.61         0\n",
       "3211   97.0   634.44      70.0  13974.06         0\n",
       "3212   64.0   462.32      90.0  31239.78         0\n",
       "3213   80.0   566.09       6.0  29480.52         1\n",
       "\n",
       "[3214 rows x 5 columns]"
      ]
     },
     "execution_count": 2,
     "metadata": {},
     "output_type": "execute_result"
    }
   ],
   "source": [
    "\n",
    "data = pd.read_csv('/datasets/users_behavior.csv')\n",
    "data"
   ]
  },
  {
   "cell_type": "code",
   "execution_count": null,
   "metadata": {
    "colab": {
     "base_uri": "https://localhost:8080/"
    },
    "id": "XRi0WBXsoxOn",
    "outputId": "d2933c71-b95d-45d1-f4af-24fb02a628ba"
   },
   "outputs": [
    {
     "name": "stdout",
     "output_type": "stream",
     "text": [
      "<class 'pandas.core.frame.DataFrame'>\n",
      "RangeIndex: 3214 entries, 0 to 3213\n",
      "Data columns (total 5 columns):\n",
      " #   Column    Non-Null Count  Dtype  \n",
      "---  ------    --------------  -----  \n",
      " 0   calls     3214 non-null   float64\n",
      " 1   minutes   3214 non-null   float64\n",
      " 2   messages  3214 non-null   float64\n",
      " 3   mb_used   3214 non-null   float64\n",
      " 4   is_ultra  3214 non-null   int64  \n",
      "dtypes: float64(4), int64(1)\n",
      "memory usage: 125.7 KB\n"
     ]
    }
   ],
   "source": [
    "data.info()"
   ]
  },
  {
   "cell_type": "code",
   "execution_count": null,
   "metadata": {
    "colab": {
     "base_uri": "https://localhost:8080/",
     "height": 300
    },
    "id": "WKH5NF1koxOo",
    "outputId": "42597aca-f210-45fe-b369-d08c1a3fbeb2",
    "scrolled": true
   },
   "outputs": [
    {
     "data": {
      "text/html": [
       "\n",
       "  <div id=\"df-af2d9f95-2ba0-4f38-a0ac-e933af6e2b94\">\n",
       "    <div class=\"colab-df-container\">\n",
       "      <div>\n",
       "<style scoped>\n",
       "    .dataframe tbody tr th:only-of-type {\n",
       "        vertical-align: middle;\n",
       "    }\n",
       "\n",
       "    .dataframe tbody tr th {\n",
       "        vertical-align: top;\n",
       "    }\n",
       "\n",
       "    .dataframe thead th {\n",
       "        text-align: right;\n",
       "    }\n",
       "</style>\n",
       "<table border=\"1\" class=\"dataframe\">\n",
       "  <thead>\n",
       "    <tr style=\"text-align: right;\">\n",
       "      <th></th>\n",
       "      <th>calls</th>\n",
       "      <th>minutes</th>\n",
       "      <th>messages</th>\n",
       "      <th>mb_used</th>\n",
       "      <th>is_ultra</th>\n",
       "    </tr>\n",
       "  </thead>\n",
       "  <tbody>\n",
       "    <tr>\n",
       "      <th>count</th>\n",
       "      <td>3214.000000</td>\n",
       "      <td>3214.000000</td>\n",
       "      <td>3214.000000</td>\n",
       "      <td>3214.000000</td>\n",
       "      <td>3214.000000</td>\n",
       "    </tr>\n",
       "    <tr>\n",
       "      <th>mean</th>\n",
       "      <td>63.038892</td>\n",
       "      <td>438.208787</td>\n",
       "      <td>38.281269</td>\n",
       "      <td>17207.673836</td>\n",
       "      <td>0.306472</td>\n",
       "    </tr>\n",
       "    <tr>\n",
       "      <th>std</th>\n",
       "      <td>33.236368</td>\n",
       "      <td>234.569872</td>\n",
       "      <td>36.148326</td>\n",
       "      <td>7570.968246</td>\n",
       "      <td>0.461100</td>\n",
       "    </tr>\n",
       "    <tr>\n",
       "      <th>min</th>\n",
       "      <td>0.000000</td>\n",
       "      <td>0.000000</td>\n",
       "      <td>0.000000</td>\n",
       "      <td>0.000000</td>\n",
       "      <td>0.000000</td>\n",
       "    </tr>\n",
       "    <tr>\n",
       "      <th>25%</th>\n",
       "      <td>40.000000</td>\n",
       "      <td>274.575000</td>\n",
       "      <td>9.000000</td>\n",
       "      <td>12491.902500</td>\n",
       "      <td>0.000000</td>\n",
       "    </tr>\n",
       "    <tr>\n",
       "      <th>50%</th>\n",
       "      <td>62.000000</td>\n",
       "      <td>430.600000</td>\n",
       "      <td>30.000000</td>\n",
       "      <td>16943.235000</td>\n",
       "      <td>0.000000</td>\n",
       "    </tr>\n",
       "    <tr>\n",
       "      <th>75%</th>\n",
       "      <td>82.000000</td>\n",
       "      <td>571.927500</td>\n",
       "      <td>57.000000</td>\n",
       "      <td>21424.700000</td>\n",
       "      <td>1.000000</td>\n",
       "    </tr>\n",
       "    <tr>\n",
       "      <th>max</th>\n",
       "      <td>244.000000</td>\n",
       "      <td>1632.060000</td>\n",
       "      <td>224.000000</td>\n",
       "      <td>49745.730000</td>\n",
       "      <td>1.000000</td>\n",
       "    </tr>\n",
       "  </tbody>\n",
       "</table>\n",
       "</div>\n",
       "      <button class=\"colab-df-convert\" onclick=\"convertToInteractive('df-af2d9f95-2ba0-4f38-a0ac-e933af6e2b94')\"\n",
       "              title=\"Convert this dataframe to an interactive table.\"\n",
       "              style=\"display:none;\">\n",
       "        \n",
       "  <svg xmlns=\"http://www.w3.org/2000/svg\" height=\"24px\"viewBox=\"0 0 24 24\"\n",
       "       width=\"24px\">\n",
       "    <path d=\"M0 0h24v24H0V0z\" fill=\"none\"/>\n",
       "    <path d=\"M18.56 5.44l.94 2.06.94-2.06 2.06-.94-2.06-.94-.94-2.06-.94 2.06-2.06.94zm-11 1L8.5 8.5l.94-2.06 2.06-.94-2.06-.94L8.5 2.5l-.94 2.06-2.06.94zm10 10l.94 2.06.94-2.06 2.06-.94-2.06-.94-.94-2.06-.94 2.06-2.06.94z\"/><path d=\"M17.41 7.96l-1.37-1.37c-.4-.4-.92-.59-1.43-.59-.52 0-1.04.2-1.43.59L10.3 9.45l-7.72 7.72c-.78.78-.78 2.05 0 2.83L4 21.41c.39.39.9.59 1.41.59.51 0 1.02-.2 1.41-.59l7.78-7.78 2.81-2.81c.8-.78.8-2.07 0-2.86zM5.41 20L4 18.59l7.72-7.72 1.47 1.35L5.41 20z\"/>\n",
       "  </svg>\n",
       "      </button>\n",
       "      \n",
       "  <style>\n",
       "    .colab-df-container {\n",
       "      display:flex;\n",
       "      flex-wrap:wrap;\n",
       "      gap: 12px;\n",
       "    }\n",
       "\n",
       "    .colab-df-convert {\n",
       "      background-color: #E8F0FE;\n",
       "      border: none;\n",
       "      border-radius: 50%;\n",
       "      cursor: pointer;\n",
       "      display: none;\n",
       "      fill: #1967D2;\n",
       "      height: 32px;\n",
       "      padding: 0 0 0 0;\n",
       "      width: 32px;\n",
       "    }\n",
       "\n",
       "    .colab-df-convert:hover {\n",
       "      background-color: #E2EBFA;\n",
       "      box-shadow: 0px 1px 2px rgba(60, 64, 67, 0.3), 0px 1px 3px 1px rgba(60, 64, 67, 0.15);\n",
       "      fill: #174EA6;\n",
       "    }\n",
       "\n",
       "    [theme=dark] .colab-df-convert {\n",
       "      background-color: #3B4455;\n",
       "      fill: #D2E3FC;\n",
       "    }\n",
       "\n",
       "    [theme=dark] .colab-df-convert:hover {\n",
       "      background-color: #434B5C;\n",
       "      box-shadow: 0px 1px 3px 1px rgba(0, 0, 0, 0.15);\n",
       "      filter: drop-shadow(0px 1px 2px rgba(0, 0, 0, 0.3));\n",
       "      fill: #FFFFFF;\n",
       "    }\n",
       "  </style>\n",
       "\n",
       "      <script>\n",
       "        const buttonEl =\n",
       "          document.querySelector('#df-af2d9f95-2ba0-4f38-a0ac-e933af6e2b94 button.colab-df-convert');\n",
       "        buttonEl.style.display =\n",
       "          google.colab.kernel.accessAllowed ? 'block' : 'none';\n",
       "\n",
       "        async function convertToInteractive(key) {\n",
       "          const element = document.querySelector('#df-af2d9f95-2ba0-4f38-a0ac-e933af6e2b94');\n",
       "          const dataTable =\n",
       "            await google.colab.kernel.invokeFunction('convertToInteractive',\n",
       "                                                     [key], {});\n",
       "          if (!dataTable) return;\n",
       "\n",
       "          const docLinkHtml = 'Like what you see? Visit the ' +\n",
       "            '<a target=\"_blank\" href=https://colab.research.google.com/notebooks/data_table.ipynb>data table notebook</a>'\n",
       "            + ' to learn more about interactive tables.';\n",
       "          element.innerHTML = '';\n",
       "          dataTable['output_type'] = 'display_data';\n",
       "          await google.colab.output.renderOutput(dataTable, element);\n",
       "          const docLink = document.createElement('div');\n",
       "          docLink.innerHTML = docLinkHtml;\n",
       "          element.appendChild(docLink);\n",
       "        }\n",
       "      </script>\n",
       "    </div>\n",
       "  </div>\n",
       "  "
      ],
      "text/plain": [
       "             calls      minutes     messages       mb_used     is_ultra\n",
       "count  3214.000000  3214.000000  3214.000000   3214.000000  3214.000000\n",
       "mean     63.038892   438.208787    38.281269  17207.673836     0.306472\n",
       "std      33.236368   234.569872    36.148326   7570.968246     0.461100\n",
       "min       0.000000     0.000000     0.000000      0.000000     0.000000\n",
       "25%      40.000000   274.575000     9.000000  12491.902500     0.000000\n",
       "50%      62.000000   430.600000    30.000000  16943.235000     0.000000\n",
       "75%      82.000000   571.927500    57.000000  21424.700000     1.000000\n",
       "max     244.000000  1632.060000   224.000000  49745.730000     1.000000"
      ]
     },
     "execution_count": 4,
     "metadata": {},
     "output_type": "execute_result"
    }
   ],
   "source": [
    "data.describe()"
   ]
  },
  {
   "cell_type": "code",
   "execution_count": null,
   "metadata": {
    "id": "H2ikTPwuoxOp"
   },
   "outputs": [],
   "source": [
    "data['calls'] = data['calls'].astype('int')\n",
    "data['messages'] = data['messages'].astype('int')"
   ]
  },
  {
   "cell_type": "code",
   "execution_count": null,
   "metadata": {
    "colab": {
     "base_uri": "https://localhost:8080/"
    },
    "id": "jKv7ymMGoxOp",
    "outputId": "82926dfe-ff3c-4e11-bf9f-4fda954c834a"
   },
   "outputs": [
    {
     "name": "stdout",
     "output_type": "stream",
     "text": [
      "<class 'pandas.core.frame.DataFrame'>\n",
      "RangeIndex: 3214 entries, 0 to 3213\n",
      "Data columns (total 5 columns):\n",
      " #   Column    Non-Null Count  Dtype  \n",
      "---  ------    --------------  -----  \n",
      " 0   calls     3214 non-null   int64  \n",
      " 1   minutes   3214 non-null   float64\n",
      " 2   messages  3214 non-null   int64  \n",
      " 3   mb_used   3214 non-null   float64\n",
      " 4   is_ultra  3214 non-null   int64  \n",
      "dtypes: float64(2), int64(3)\n",
      "memory usage: 125.7 KB\n"
     ]
    }
   ],
   "source": [
    "data.info()"
   ]
  },
  {
   "cell_type": "code",
   "execution_count": null,
   "metadata": {
    "colab": {
     "base_uri": "https://localhost:8080/"
    },
    "id": "b-2IVLnMIO-T",
    "outputId": "fac00def-79b4-45a0-9b4b-5c930de1135f"
   },
   "outputs": [
    {
     "name": "stdout",
     "output_type": "stream",
     "text": [
      "0.30647168637212197\n"
     ]
    }
   ],
   "source": [
    "# Checking Class Balance:\n",
    "print(data['is_ultra'].sum() / data['is_ultra'].count())"
   ]
  },
  {
   "cell_type": "code",
   "execution_count": null,
   "metadata": {
    "colab": {
     "base_uri": "https://localhost:8080/"
    },
    "id": "YmjmjtBrivfL",
    "outputId": "b43276fa-fd32-49de-9826-e3af4587e484"
   },
   "outputs": [
    {
     "name": "stdout",
     "output_type": "stream",
     "text": [
      "             calls   minutes  messages   mb_used  is_ultra\n",
      "calls     1.000000  0.982083  0.177385  0.286442  0.207122\n",
      "minutes   0.982083  1.000000  0.173110  0.280967  0.206955\n",
      "messages  0.177385  0.173110  1.000000  0.195721  0.203830\n",
      "mb_used   0.286442  0.280967  0.195721  1.000000  0.198568\n",
      "is_ultra  0.207122  0.206955  0.203830  0.198568  1.000000\n"
     ]
    }
   ],
   "source": [
    "# Suspicions of Feature Correlation:\n",
    "print(data.corr())"
   ]
  },
  {
   "cell_type": "code",
   "execution_count": null,
   "metadata": {
    "colab": {
     "base_uri": "https://localhost:8080/"
    },
    "id": "l3UL1qC3lYac",
    "outputId": "eba4403c-0f9b-4599-899c-e7ed13c15f6c"
   },
   "outputs": [
    {
     "name": "stdout",
     "output_type": "stream",
     "text": [
      "      calls  messages   mb_used  is_ultra\n",
      "0        40        83  19915.42         0\n",
      "1        85        56  22696.96         0\n",
      "2        77        86  21060.45         0\n",
      "3       106        81   8437.39         1\n",
      "4        66         1  14502.75         0\n",
      "...     ...       ...       ...       ...\n",
      "3209    122        20  35124.90         1\n",
      "3210     25         0   3275.61         0\n",
      "3211     97        70  13974.06         0\n",
      "3212     64        90  31239.78         0\n",
      "3213     80         6  29480.52         1\n",
      "\n",
      "[3214 rows x 4 columns]\n"
     ]
    }
   ],
   "source": [
    "# Removing the column to eliminate multicollinearity:\n",
    "del data['minutes']\n",
    "\n",
    "print(data)"
   ]
  },
  {
   "cell_type": "markdown",
   "metadata": {
    "id": "S5OA-ImcpCNv"
   },
   "source": [
    "**Conclusion:**\n",
    "\n",
    "There were no issues with opening the file. Data preprocessing had been completed earlier. I decided to change the data type of the `calls` and `messages` columns to `int` because these columns contain natural numbers. I noticed a class imbalance with a ratio of 3:7, which means the model will need to be checked for adequacy. There was a strong correlation between the `calls` and `minutes` features, which could lead to decreased model accuracy. To address this issue, it was decided to remove the `minutes` column."
   ]
  },
  {
   "cell_type": "markdown",
   "metadata": {
    "id": "LGsHVtbRoxOq"
   },
   "source": [
    "## Splitting the Data into Train and Test Sets"
   ]
  },
  {
   "cell_type": "markdown",
   "metadata": {
    "id": "1gTCc5JasdnW"
   },
   "source": [
    "The same seed, 404540, was used for all `random_state` values to ensure reproducibility of the results."
   ]
  },
  {
   "cell_type": "code",
   "execution_count": null,
   "metadata": {
    "colab": {
     "base_uri": "https://localhost:8080/"
    },
    "id": "B7GcBxE1oxOq",
    "outputId": "7a46dfd5-3642-40ed-e322-9740d952178d"
   },
   "outputs": [
    {
     "name": "stdout",
     "output_type": "stream",
     "text": [
      "(1928,)\n",
      "(1928, 3)\n",
      "(643,)\n",
      "(643, 3)\n",
      "(643,)\n",
      "(643, 3)\n"
     ]
    }
   ],
   "source": [
    "# Splitting the data and obtaining:\n",
    "\n",
    "target = data['is_ultra']\n",
    "features = data.drop('is_ultra', axis=1)\n",
    "features_train, features_vaild_test, target_train, target_valid_test =\\\n",
    "train_test_split(features, target, test_size = 0.4,random_state=404540,\n",
    "                 stratify=target)\n",
    "features_valid, features_test, target_valid, target_test = \\\n",
    "train_test_split(features_vaild_test, target_valid_test, test_size=0.5,\n",
    "                 random_state=404540, stratify=target_valid_test)\n",
    "\n",
    "\n",
    "# Checking the Split:\n",
    "test_shape = [target_train, features_train, target_valid, \n",
    "              features_valid, target_test, features_test]\n",
    "\n",
    "for i in test_shape:\n",
    "  print(i.shape)\n"
   ]
  },
  {
   "cell_type": "markdown",
   "metadata": {
    "id": "mlw9BE16z9AB"
   },
   "source": [
    "**Conclusion:**\n",
    "\n",
    "I split the entire dataset into three random samples in a 1:1:3 ratio - test set : validation set : training set."
   ]
  },
  {
   "cell_type": "markdown",
   "metadata": {
    "id": "zJ9BrsLkoxOr"
   },
   "source": [
    "## Model Exploration"
   ]
  },
  {
   "cell_type": "code",
   "execution_count": null,
   "metadata": {
    "id": "UCRKmnGZP1s5"
   },
   "outputs": [],
   "source": [
    "# Investigating Model Overfitting:\n",
    "acc_train = []\n",
    "acc_valid = []\n",
    "for i in range(1, 20):\n",
    "  model = DecisionTreeClassifier(random_state=404540, max_depth=i)\n",
    "  model.fit(features_train, target_train)\n",
    "  predictions_train = model.predict(features_train)\n",
    "  acc_train.append(accuracy_score(target_train, predictions_train))\n",
    "  predictions_valid = model.predict(features_valid)\n",
    "  acc_valid.append(accuracy_score(target_valid, predictions_valid))"
   ]
  },
  {
   "cell_type": "code",
   "execution_count": null,
   "metadata": {
    "colab": {
     "base_uri": "https://localhost:8080/",
     "height": 295
    },
    "id": "zihXv0vzvmlV",
    "outputId": "5995544b-51fc-493d-9e1d-31ebcfef1707"
   },
   "outputs": [
    {
     "data": {
      "image/png": "[encoded data removed]",
      "text/plain": [
       "<Figure size 432x288 with 1 Axes>"
      ]
     },
     "metadata": {
      "needs_background": "light"
     },
     "output_type": "display_data"
    }
   ],
   "source": [
    "plt.plot(range(1, 20), acc_train, color='red', label='обучающая выборка')\n",
    "plt.plot(range(1, 20), acc_valid, color='blue', label='валидационная выборка')\n",
    "plt.xlabel('Глубина обучающего дерева')\n",
    "plt.ylabel('Точность модели')\n",
    "plt.title('Выявление переобучения')\n",
    "plt.xlim(1, 20)\n",
    "plt.legend()\n",
    "plt.show()"
   ]
  },
  {
   "cell_type": "markdown",
   "metadata": {
    "id": "1K4NFVuwXkOj"
   },
   "source": [
    "We observe that as the model trains, its accuracy improves on both the training and validation sets. However, we see that at a depth of approximately 3, the accuracy on the validation set reaches its peak and then starts to decline, indicating that the model is overfitting."
   ]
  },
  {
   "cell_type": "code",
   "execution_count": null,
   "metadata": {
    "colab": {
     "base_uri": "https://localhost:8080/",
     "height": 295
    },
    "id": "fUjQetmVSaf5",
    "outputId": "3ee4db94-7e90-47c7-de6b-db84c9d63cc1"
   },
   "outputs": [
    {
     "data": {
      "image/png": "[encoded data removed]",
      "text/plain": [
       "<Figure size 432x288 with 1 Axes>"
      ]
     },
     "metadata": {
      "needs_background": "light"
     },
     "output_type": "display_data"
    }
   ],
   "source": [
    "plt.plot(range(1, 20), acc_train, color='red', label='обучающая выборка')\n",
    "plt.plot(range(1, 20), acc_valid, color='blue', label='валидационная выборка')\n",
    "plt.xlabel('Глубина обучающего дерева')\n",
    "plt.ylabel('Точность модели')\n",
    "plt.title('Выявление переобучения')\n",
    "plt.xlim(1, 10)\n",
    "plt.legend()\n",
    "plt.show()"
   ]
  },
  {
   "cell_type": "markdown",
   "metadata": {
    "id": "CD4VYoUSZPeG"
   },
   "source": [
    "Let's zoom in. Indeed, at a depth of 3, we see a decline. From the analysis, we conclude that the optimal depth is 3."
   ]
  },
  {
   "cell_type": "code",
   "execution_count": null,
   "metadata": {
    "colab": {
     "base_uri": "https://localhost:8080/"
    },
    "id": "qKAPOOBloxOt",
    "outputId": "399fda1a-3057-4978-b5a3-a196d405ca1b",
    "scrolled": true
   },
   "outputs": [
    {
     "name": "stderr",
     "output_type": "stream",
     "text": [
      "/usr/local/lib/python3.9/dist-packages/sklearn/tree/_classes.py:269: FutureWarning: `max_features='auto'` has been deprecated in 1.1 and will be removed in 1.3. To keep the past behaviour, explicitly set `max_features='sqrt'`.\n",
      "  warnings.warn(\n",
      "/usr/local/lib/python3.9/dist-packages/sklearn/tree/_classes.py:269: FutureWarning: `max_features='auto'` has been deprecated in 1.1 and will be removed in 1.3. To keep the past behaviour, explicitly set `max_features='sqrt'`.\n",
      "  warnings.warn(\n",
      "/usr/local/lib/python3.9/dist-packages/sklearn/tree/_classes.py:269: FutureWarning: `max_features='auto'` has been deprecated in 1.1 and will be removed in 1.3. To keep the past behaviour, explicitly set `max_features='sqrt'`.\n",
      "  warnings.warn(\n",
      "/usr/local/lib/python3.9/dist-packages/sklearn/tree/_classes.py:269: FutureWarning: `max_features='auto'` has been deprecated in 1.1 and will be removed in 1.3. To keep the past behaviour, explicitly set `max_features='sqrt'`.\n",
      "  warnings.warn(\n",
      "/usr/local/lib/python3.9/dist-packages/sklearn/tree/_classes.py:269: FutureWarning: `max_features='auto'` has been deprecated in 1.1 and will be removed in 1.3. To keep the past behaviour, explicitly set `max_features='sqrt'`.\n",
      "  warnings.warn(\n",
      "/usr/local/lib/python3.9/dist-packages/sklearn/tree/_classes.py:269: FutureWarning: `max_features='auto'` has been deprecated in 1.1 and will be removed in 1.3. To keep the past behaviour, explicitly set `max_features='sqrt'`.\n",
      "  warnings.warn(\n",
      "/usr/local/lib/python3.9/dist-packages/sklearn/tree/_classes.py:269: FutureWarning: `max_features='auto'` has been deprecated in 1.1 and will be removed in 1.3. To keep the past behaviour, explicitly set `max_features='sqrt'`.\n",
      "  warnings.warn(\n",
      "/usr/local/lib/python3.9/dist-packages/sklearn/tree/_classes.py:269: FutureWarning: `max_features='auto'` has been deprecated in 1.1 and will be removed in 1.3. To keep the past behaviour, explicitly set `max_features='sqrt'`.\n",
      "  warnings.warn(\n"
     ]
    }
   ],
   "source": [
    "# Investigating the Effectiveness of the Decision Tree:\n",
    "best_acc = 0\n",
    "\n",
    "for samples_split in range(2, 6):\n",
    "    for min_featur in [None, 'auto', 'sqrt', 'log2']:\n",
    "        for weight in [None, 'balanced']:\n",
    "            model = DecisionTreeClassifier(\n",
    "                random_state=404540, max_depth=3,\n",
    "                min_samples_split=samples_split, \n",
    "                max_features=min_featur, class_weight=weight)\n",
    "            model.fit(features_train, target_train)\n",
    "            prediction = model.predict(features_valid)\n",
    "            acc = accuracy_score(target_valid, prediction)\n",
    "            if acc > best_acc:\n",
    "                best_model = model\n",
    "                best_acc = acc\n",
    "                best_depth = i"
   ]
  },
  {
   "cell_type": "code",
   "execution_count": null,
   "metadata": {
    "colab": {
     "base_uri": "https://localhost:8080/"
    },
    "id": "nbH3cgCCXFjM",
    "outputId": "fa823b25-4edf-4ebc-b973-db56c8a77cc0"
   },
   "outputs": [
    {
     "name": "stdout",
     "output_type": "stream",
     "text": [
      "DecisionTreeClassifier(class_weight='balanced', max_depth=3,\n",
      "                       random_state=404540)\n",
      "0.7993779160186625\n"
     ]
    }
   ],
   "source": [
    "print(best_model)\n",
    "print(best_acc)"
   ]
  },
  {
   "cell_type": "code",
   "execution_count": null,
   "metadata": {
    "colab": {
     "base_uri": "https://localhost:8080/",
     "height": 683
    },
    "id": "ScKcERyldfS9",
    "outputId": "75d8afc5-745d-4b67-bc99-8a4b45cf513d"
   },
   "outputs": [
    {
     "data": {
      "image/png": "[encoded data removed]",
      "text/plain": [
       "<Figure size 864x864 with 1 Axes>"
      ]
     },
     "metadata": {
      "needs_background": "light"
     },
     "output_type": "display_data"
    }
   ],
   "source": [
    "# Visualizing the Best Decision Tree Model:\n",
    "fig, ax = plt.subplots(figsize=(12, 12))\n",
    "plot_tree(model, filled=True, ax=ax, max_depth=2)\n",
    "plt.show()"
   ]
  },
  {
   "cell_type": "markdown",
   "metadata": {
    "id": "b_kyO664oxOu"
   },
   "source": [
    "**Conclusion:**\n",
    "\n",
    "I used the following hyperparameters for the model:\n",
    "- `max_depth` - maximum depth of the decision tree;\n",
    "- `min_samples_split` - minimum number of samples required to split an internal node;\n",
    "- `max_features` - maximum number of features considered when looking for the best split;\n",
    "- `class_weight` - class weights.\n",
    "\n",
    "The highest model accuracy of 0.799 is achieved with `class_weight='balanced'`, `max_depth=3`, `max_features=None`, and `min_samples_split=2`.\n",
    "\n"
   ]
  },
  {
   "cell_type": "code",
   "execution_count": null,
   "metadata": {
    "id": "6BvOcUCTufj-"
   },
   "outputs": [],
   "source": [
    "# Investigating Model Overfitting:\n",
    "acc_train = []\n",
    "acc_valid = []\n",
    "for i in range(1, 20):\n",
    "  model = RandomForestClassifier(random_state=404540, max_depth=i)\n",
    "  model.fit(features_train, target_train)\n",
    "  predictions_train = model.predict(features_train)\n",
    "  acc_train.append(accuracy_score(target_train, predictions_train))\n",
    "  predictions_valid = model.predict(features_valid)\n",
    "  acc_valid.append(accuracy_score(target_valid, predictions_valid))"
   ]
  },
  {
   "cell_type": "code",
   "execution_count": null,
   "metadata": {
    "colab": {
     "base_uri": "https://localhost:8080/",
     "height": 295
    },
    "id": "V1qpuofwu4c0",
    "outputId": "29a62612-270f-4418-bf69-2c62e478cad4"
   },
   "outputs": [
    {
     "data": {
      "image/png": "[encoded data removed]",
      "text/plain": [
       "<Figure size 432x288 with 1 Axes>"
      ]
     },
     "metadata": {
      "needs_background": "light"
     },
     "output_type": "display_data"
    }
   ],
   "source": [
    "plt.plot(range(1, 20), acc_train, color='red', label='обучающая выборка')\n",
    "plt.plot(range(1, 20), acc_valid, color='blue', label='валидационная выборка')\n",
    "plt.xlabel('Глубина обучающего дерева')\n",
    "plt.ylabel('Точность модели')\n",
    "plt.title('Выявление переобучения')\n",
    "plt.xlim(1, 20)\n",
    "plt.legend()\n",
    "plt.show()"
   ]
  },
  {
   "cell_type": "markdown",
   "metadata": {
    "id": "wqDjtX0jcX_Z"
   },
   "source": [
    "The Random Forest is less prone to overfitting, as we can observe from the graph. After a depth of approximately 5, the model's accuracy on the validation set remains relatively stable."
   ]
  },
  {
   "cell_type": "code",
   "execution_count": null,
   "metadata": {
    "colab": {
     "base_uri": "https://localhost:8080/",
     "height": 295
    },
    "id": "hrZ2iNq6wPMC",
    "outputId": "e34b04b0-2aec-4d66-d9cf-19c291274082"
   },
   "outputs": [
    {
     "data": {
      "image/png": "[encoded data removed]",
      "text/plain": [
       "<Figure size 432x288 with 1 Axes>"
      ]
     },
     "metadata": {
      "needs_background": "light"
     },
     "output_type": "display_data"
    }
   ],
   "source": [
    "plt.plot(range(1, 20), acc_train, color='red', label='обучающая выборка')\n",
    "plt.plot(range(1, 20), acc_valid, color='blue', label='валидационная выборка')\n",
    "plt.xlabel('Глубина обучающего дерева')\n",
    "plt.ylabel('Точность модели')\n",
    "plt.title('Выявление переобучения')\n",
    "plt.xlim(1, 10)\n",
    "plt.legend()\n",
    "plt.show()"
   ]
  },
  {
   "cell_type": "markdown",
   "metadata": {
    "id": "jF4bsbTvd9dV"
   },
   "source": [
    "Let's zoom in."
   ]
  },
  {
   "cell_type": "code",
   "execution_count": null,
   "metadata": {
    "id": "Fq_hyZHLoxOv"
   },
   "outputs": [],
   "source": [
    "# Investigating the Effectiveness of the Random Forest:\n",
    "for j in range(2, 6):\n",
    "    for m in [None, 'auto', 'sqrt', 'log2']:\n",
    "        for r in range(10, 15):\n",
    "            model = RandomForestClassifier(random_state=404540, max_depth=9,\n",
    "                                               min_samples_split=j, max_features=m,\n",
    "                                               n_estimators=r)\n",
    "            model.fit(features_train, target_train)\n",
    "            prediction = model.predict(features_valid)\n",
    "            acc = accuracy_score(target_valid, prediction)\n",
    "            if acc > best_acc:\n",
    "                best_model = model\n",
    "                best_acc = acc\n",
    "                best_depth = i"
   ]
  },
  {
   "cell_type": "code",
   "execution_count": null,
   "metadata": {
    "colab": {
     "base_uri": "https://localhost:8080/"
    },
    "id": "Mk1or1d9XTIF",
    "outputId": "7bf8cc1a-769f-4251-89c8-75201b839eaa"
   },
   "outputs": [
    {
     "name": "stdout",
     "output_type": "stream",
     "text": [
      "RandomForestClassifier(max_depth=9, max_features='auto', min_samples_split=3,\n",
      "                       n_estimators=10, random_state=404540)\n",
      "0.8258164852255054\n"
     ]
    }
   ],
   "source": [
    "print(best_model)\n",
    "print(best_acc)"
   ]
  },
  {
   "cell_type": "markdown",
   "metadata": {
    "id": "nE5-wP7Pr8Kr"
   },
   "source": [
    "**Conclusion:**\n",
    "\n",
    "I used the following parameters for the model:\n",
    "- `max_depth` - maximum depth of the decision tree;\n",
    "- `min_samples_split` - minimum number of samples required to split an internal node;\n",
    "- `max_features` - maximum number of features considered when looking for the best split;\n",
    "- `n_estimators` - number of trees in the forest.\n",
    "\n",
    "The highest model accuracy of 0.826 is achieved with `max_depth=9`, `min_samples_split=3`, `max_features='auto'`, and `n_estimators=10`."
   ]
  },
  {
   "cell_type": "markdown",
   "metadata": {
    "id": "Uq48nxc9oxOw"
   },
   "source": [
    "## Testing the Model on the Test Set"
   ]
  },
  {
   "cell_type": "code",
   "execution_count": null,
   "metadata": {
    "colab": {
     "base_uri": "https://localhost:8080/"
    },
    "id": "CxjeVmDpoxOw",
    "outputId": "94c79eb5-1de4-4dfb-f222-5add588e6e5b"
   },
   "outputs": [
    {
     "name": "stdout",
     "output_type": "stream",
     "text": [
      "RandomForestClassifier(max_depth=9, max_features='auto', min_samples_split=3,\n",
      "                       n_estimators=10, random_state=404540)\n",
      "0.8040435458786936\n"
     ]
    }
   ],
   "source": [
    "print(best_model)\n",
    "prediction = best_model.predict(features_test)\n",
    "print(accuracy_score(target_test, prediction))"
   ]
  },
  {
   "cell_type": "markdown",
   "metadata": {
    "id": "YKG4DG4AyCpG"
   },
   "source": [
    "**Conclusion:**\n",
    "\n",
    "The most accurate model was the: `RandomForestClassifier(max_depth=9, max_features='auto', min_samples_split=3, n_estimators=10, random_state=404540)`.\n",
    "\n",
    "This result was expected. Random Forest is more accurate compared to a standard decision tree. While a decision tree builds a single tree, Random Forest builds multiple trees and aggregates their results, making the outcome more accurate and less prone to overfitting."
   ]
  },
  {
   "cell_type": "markdown",
   "metadata": {
    "id": "MAqgU9WloxOw"
   },
   "source": [
    "## Checking Model Adequacy"
   ]
  },
  {
   "cell_type": "code",
   "execution_count": null,
   "metadata": {
    "colab": {
     "base_uri": "https://localhost:8080/"
    },
    "id": "k0SD7IfYoxOx",
    "outputId": "e962c0e0-e917-415b-c0f7-c9a974d43fbe",
    "scrolled": true
   },
   "outputs": [
    {
     "name": "stdout",
     "output_type": "stream",
     "text": [
      "0.6936236391912908\n",
      "Для нашей модели\n",
      "True Possitive Rate: 0.5177664974619289\n",
      "True Negative Rate: 0.9304932735426009\n"
     ]
    }
   ],
   "source": [
    "# Creating a Baseline Model:\n",
    "dummy = DummyClassifier(strategy='most_frequent')\n",
    "dummy.fit(features_train, target_train)\n",
    "prediction_dummy = dummy.predict(features_test)\n",
    "print(accuracy_score(target_test, prediction_dummy))\n",
    "# Calculating True Positive Rate:\n",
    "tn, fp, fn, tp = confusion_matrix(target_test, prediction).ravel()\n",
    "tpr = tp / (tp+fn)\n",
    "# Считаем True Negative Rate:\n",
    "tnr = tn / (tn+fp)\n",
    "print('Для нашей модели')\n",
    "print('True Possitive Rate:', tpr)\n",
    "print('True Negative Rate:', tnr)"
   ]
  },
  {
   "cell_type": "markdown",
   "metadata": {
    "id": "K2-Uh0KOWESj"
   },
   "source": [
    "**Conclusion:**\n",
    "\n",
    "The baseline model, which predicts only the most frequent class (0), achieved an accuracy of 0.693. This is significantly lower than the accuracy of the best model, which is 0.804. Therefore, we can conclude that the model has passed the adequacy check. HOWEVER, with a True Positive Rate (TPR) of 0.517, which is relatively low, it would be advisable to implement measures for class balancing."
   ]
  }
 ],
 "metadata": {
  "ExecuteTimeLog": [
   {
    "duration": 54,
    "start_time": "2023-03-15T14:06:44.611Z"
   },
   {
    "duration": 7,
    "start_time": "2023-03-15T14:06:45.110Z"
   },
   {
    "duration": 1440,
    "start_time": "2023-03-15T14:06:47.712Z"
   },
   {
    "duration": 94,
    "start_time": "2023-03-15T14:06:50.342Z"
   },
   {
    "duration": 223,
    "start_time": "2023-03-15T14:07:08.210Z"
   },
   {
    "duration": 19,
    "start_time": "2023-03-15T14:07:10.895Z"
   },
   {
    "duration": 25,
    "start_time": "2023-03-15T14:07:13.316Z"
   },
   {
    "duration": 10,
    "start_time": "2023-03-15T14:43:06.719Z"
   },
   {
    "duration": 13,
    "start_time": "2023-03-15T14:43:11.328Z"
   },
   {
    "duration": 7,
    "start_time": "2023-03-15T14:43:54.291Z"
   },
   {
    "duration": 20,
    "start_time": "2023-03-15T14:43:56.692Z"
   },
   {
    "duration": 19,
    "start_time": "2023-03-15T14:44:22.130Z"
   },
   {
    "duration": 467,
    "start_time": "2023-03-15T14:45:12.895Z"
   },
   {
    "duration": 523,
    "start_time": "2023-03-15T14:46:55.554Z"
   },
   {
    "duration": 18,
    "start_time": "2023-03-15T14:48:54.709Z"
   },
   {
    "duration": 10,
    "start_time": "2023-03-15T14:51:00.850Z"
   },
   {
    "duration": 16,
    "start_time": "2023-03-15T14:51:14.631Z"
   },
   {
    "duration": 19,
    "start_time": "2023-03-15T14:53:17.904Z"
   },
   {
    "duration": 510,
    "start_time": "2023-03-15T14:53:20.828Z"
   },
   {
    "duration": 20,
    "start_time": "2023-03-15T14:53:52.304Z"
   },
   {
    "duration": 496,
    "start_time": "2023-03-15T14:53:53.200Z"
   },
   {
    "duration": 20,
    "start_time": "2023-03-15T14:53:56.916Z"
   },
   {
    "duration": 488,
    "start_time": "2023-03-15T14:53:57.596Z"
   },
   {
    "duration": 19,
    "start_time": "2023-03-15T14:53:59.829Z"
   },
   {
    "duration": 502,
    "start_time": "2023-03-15T14:54:01.048Z"
   },
   {
    "duration": 153,
    "start_time": "2023-03-15T15:09:01.408Z"
   },
   {
    "duration": 6,
    "start_time": "2023-03-15T15:09:08.899Z"
   },
   {
    "duration": 12,
    "start_time": "2023-03-15T15:09:20.602Z"
   },
   {
    "duration": 253,
    "start_time": "2023-03-15T15:09:26.804Z"
   },
   {
    "duration": 269,
    "start_time": "2023-03-15T15:10:38.607Z"
   },
   {
    "duration": 263,
    "start_time": "2023-03-15T15:11:01.734Z"
   },
   {
    "duration": 250,
    "start_time": "2023-03-15T15:11:23.584Z"
   },
   {
    "duration": 54,
    "start_time": "2023-03-15T15:21:05.946Z"
   },
   {
    "duration": 579,
    "start_time": "2023-03-15T15:21:18.674Z"
   },
   {
    "duration": 619,
    "start_time": "2023-03-15T15:41:05.362Z"
   },
   {
    "duration": 9,
    "start_time": "2023-03-15T15:41:27.788Z"
   },
   {
    "duration": 60,
    "start_time": "2023-03-15T15:41:51.220Z"
   },
   {
    "duration": 6,
    "start_time": "2023-03-15T15:41:58.248Z"
   },
   {
    "duration": 153,
    "start_time": "2023-03-15T15:42:25.207Z"
   },
   {
    "duration": 153,
    "start_time": "2023-03-15T15:42:42.106Z"
   },
   {
    "duration": 135,
    "start_time": "2023-03-15T15:42:57.856Z"
   },
   {
    "duration": 163,
    "start_time": "2023-03-15T15:44:55.368Z"
   },
   {
    "duration": 135,
    "start_time": "2023-03-15T15:46:22.890Z"
   },
   {
    "duration": 57,
    "start_time": "2023-03-15T15:46:24.420Z"
   },
   {
    "duration": 153,
    "start_time": "2023-03-15T15:46:37.160Z"
   },
   {
    "duration": 138,
    "start_time": "2023-03-15T15:46:49.289Z"
   },
   {
    "duration": 10,
    "start_time": "2023-03-15T15:47:11.649Z"
   },
   {
    "duration": 16,
    "start_time": "2023-03-15T15:50:58.340Z"
   },
   {
    "duration": 15,
    "start_time": "2023-03-15T15:51:10.190Z"
   },
   {
    "duration": 307,
    "start_time": "2023-03-15T15:51:38.740Z"
   },
   {
    "duration": 336,
    "start_time": "2023-03-15T15:53:03.811Z"
   },
   {
    "duration": 58,
    "start_time": "2023-03-16T16:26:05.716Z"
   },
   {
    "duration": 0,
    "start_time": "2023-03-16T16:26:05.776Z"
   },
   {
    "duration": 1158,
    "start_time": "2023-03-16T16:26:15.450Z"
   },
   {
    "duration": 165,
    "start_time": "2023-03-16T16:26:16.871Z"
   },
   {
    "duration": 13,
    "start_time": "2023-03-16T16:26:19.448Z"
   },
   {
    "duration": 24,
    "start_time": "2023-03-16T16:26:22.042Z"
   },
   {
    "duration": 6,
    "start_time": "2023-03-16T16:26:22.810Z"
   },
   {
    "duration": 12,
    "start_time": "2023-03-16T16:26:23.340Z"
   },
   {
    "duration": 7,
    "start_time": "2023-03-16T16:26:26.134Z"
   },
   {
    "duration": 64,
    "start_time": "2023-03-16T16:26:27.560Z"
   },
   {
    "duration": 148,
    "start_time": "2023-03-16T16:26:34.211Z"
   },
   {
    "duration": 1757,
    "start_time": "2023-03-16T16:26:45.308Z"
   },
   {
    "duration": 1568,
    "start_time": "2023-03-16T16:27:01.710Z"
   },
   {
    "duration": 1602,
    "start_time": "2023-03-16T16:27:41.054Z"
   },
   {
    "duration": 1820,
    "start_time": "2023-03-16T16:28:36.941Z"
   },
   {
    "duration": 33,
    "start_time": "2023-03-16T16:29:08.142Z"
   },
   {
    "duration": 8,
    "start_time": "2023-03-16T16:29:22.509Z"
   },
   {
    "duration": 1132,
    "start_time": "2023-03-16T16:30:00.884Z"
   },
   {
    "duration": 76,
    "start_time": "2023-03-16T16:30:20.873Z"
   },
   {
    "duration": 1019,
    "start_time": "2023-03-16T16:30:36.164Z"
   },
   {
    "duration": 928,
    "start_time": "2023-03-16T16:31:02.759Z"
   },
   {
    "duration": 9,
    "start_time": "2023-03-16T16:34:21.890Z"
   },
   {
    "duration": 10,
    "start_time": "2023-03-16T16:42:49.606Z"
   },
   {
    "duration": 190,
    "start_time": "2023-03-16T16:42:53.128Z"
   },
   {
    "duration": 11,
    "start_time": "2023-03-16T16:43:11.442Z"
   },
   {
    "duration": 11,
    "start_time": "2023-03-16T16:43:18.241Z"
   },
   {
    "duration": 6,
    "start_time": "2023-03-16T16:43:34.883Z"
   },
   {
    "duration": 1799,
    "start_time": "2023-03-16T16:45:33.537Z"
   },
   {
    "duration": 1996,
    "start_time": "2023-03-16T16:45:59.860Z"
   },
   {
    "duration": 2075,
    "start_time": "2023-03-16T16:46:45.292Z"
   },
   {
    "duration": 10,
    "start_time": "2023-03-16T16:47:02.198Z"
   },
   {
    "duration": 8,
    "start_time": "2023-03-16T16:47:04.913Z"
   },
   {
    "duration": 34918,
    "start_time": "2023-03-16T16:50:18.029Z"
   },
   {
    "duration": 368365,
    "start_time": "2023-03-16T16:51:23.887Z"
   },
   {
    "duration": 11,
    "start_time": "2023-03-16T16:59:13.924Z"
   },
   {
    "duration": 9,
    "start_time": "2023-03-16T16:59:20.266Z"
   },
   {
    "duration": 1950,
    "start_time": "2023-03-16T17:00:43.901Z"
   },
   {
    "duration": 1860,
    "start_time": "2023-03-16T17:00:52.779Z"
   },
   {
    "duration": 2017,
    "start_time": "2023-03-16T17:01:05.616Z"
   },
   {
    "duration": 5,
    "start_time": "2023-03-16T17:01:13.374Z"
   },
   {
    "duration": 74890,
    "start_time": "2023-03-16T17:01:29.115Z"
   },
   {
    "duration": 9327,
    "start_time": "2023-03-16T17:03:16.392Z"
   },
   {
    "duration": 73920,
    "start_time": "2023-03-16T17:03:26.891Z"
   },
   {
    "duration": 432,
    "start_time": "2023-03-16T17:11:33.925Z"
   },
   {
    "duration": 11,
    "start_time": "2023-03-16T17:11:50.727Z"
   },
   {
    "duration": 31093,
    "start_time": "2023-03-16T17:12:31.784Z"
   },
   {
    "duration": 31664,
    "start_time": "2023-03-16T17:13:32.021Z"
   },
   {
    "duration": 1934,
    "start_time": "2023-03-16T17:14:17.729Z"
   },
   {
    "duration": 32040,
    "start_time": "2023-03-16T17:14:19.664Z"
   },
   {
    "duration": 1189,
    "start_time": "2023-03-16T17:16:32.552Z"
   },
   {
    "duration": 46,
    "start_time": "2023-03-16T17:16:33.743Z"
   },
   {
    "duration": 12,
    "start_time": "2023-03-16T17:16:34.131Z"
   },
   {
    "duration": 25,
    "start_time": "2023-03-16T17:16:35.220Z"
   },
   {
    "duration": 5,
    "start_time": "2023-03-16T17:16:37.684Z"
   },
   {
    "duration": 11,
    "start_time": "2023-03-16T17:16:38.619Z"
   },
   {
    "duration": 9,
    "start_time": "2023-03-16T17:16:41.974Z"
   },
   {
    "duration": 111,
    "start_time": "2023-03-16T17:16:44.608Z"
   },
   {
    "duration": 2005,
    "start_time": "2023-03-16T17:17:21.370Z"
   },
   {
    "duration": 31271,
    "start_time": "2023-03-16T17:17:34.347Z"
   },
   {
    "duration": 11,
    "start_time": "2023-03-16T17:18:30.665Z"
   },
   {
    "duration": 9,
    "start_time": "2023-03-16T17:24:33.863Z"
   },
   {
    "duration": 1160,
    "start_time": "2023-03-16T17:24:46.033Z"
   },
   {
    "duration": 48,
    "start_time": "2023-03-16T17:24:48.506Z"
   },
   {
    "duration": 11,
    "start_time": "2023-03-16T17:24:50.642Z"
   },
   {
    "duration": 23,
    "start_time": "2023-03-16T17:24:51.469Z"
   },
   {
    "duration": 5,
    "start_time": "2023-03-16T17:24:53.227Z"
   },
   {
    "duration": 10,
    "start_time": "2023-03-16T17:24:53.855Z"
   },
   {
    "duration": 11,
    "start_time": "2023-03-16T17:24:58.681Z"
   },
   {
    "duration": 1734,
    "start_time": "2023-03-16T17:25:01.074Z"
   },
   {
    "duration": 28646,
    "start_time": "2023-03-16T17:25:02.810Z"
   },
   {
    "duration": 8,
    "start_time": "2023-03-16T17:25:31.458Z"
   },
   {
    "duration": 2564,
    "start_time": "2023-03-17T10:47:40.445Z"
   },
   {
    "duration": 188,
    "start_time": "2023-03-17T10:47:43.011Z"
   },
   {
    "duration": 18,
    "start_time": "2023-03-17T10:47:43.202Z"
   },
   {
    "duration": 76,
    "start_time": "2023-03-17T10:47:43.223Z"
   },
   {
    "duration": 20,
    "start_time": "2023-03-17T10:47:43.304Z"
   },
   {
    "duration": 26,
    "start_time": "2023-03-17T10:47:43.326Z"
   },
   {
    "duration": 40,
    "start_time": "2023-03-17T10:47:43.355Z"
   },
   {
    "duration": 2158,
    "start_time": "2023-03-17T10:47:43.401Z"
   },
   {
    "duration": 34785,
    "start_time": "2023-03-17T10:47:45.562Z"
   },
   {
    "duration": 11,
    "start_time": "2023-03-17T10:48:20.349Z"
   }
  ],
  "colab": {
   "provenance": []
  },
  "kernelspec": {
   "display_name": "Python 3 (ipykernel)",
   "language": "python",
   "name": "python3"
  },
  "language_info": {
   "codemirror_mode": {
    "name": "ipython",
    "version": 3
   },
   "file_extension": ".py",
   "mimetype": "text/x-python",
   "name": "python",
   "nbconvert_exporter": "python",
   "pygments_lexer": "ipython3",
   "version": "3.9.5"
  },
  "toc": {
   "base_numbering": 1,
   "nav_menu": {},
   "number_sections": true,
   "sideBar": true,
   "skip_h1_title": true,
   "title_cell": "Table of Contents",
   "title_sidebar": "Contents",
   "toc_cell": false,
   "toc_position": {},
   "toc_section_display": true,
   "toc_window_display": false
  }
 },
 "nbformat": 4,
 "nbformat_minor": 1
}
