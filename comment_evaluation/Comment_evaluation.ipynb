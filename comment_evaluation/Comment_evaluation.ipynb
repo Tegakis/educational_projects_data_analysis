{
 "cells": [
  {
   "cell_type": "markdown",
   "id": "8d67ce0e",
   "metadata": {},
   "source": [
    "# Project for \"Wikishop\""
   ]
  },
  {
   "cell_type": "markdown",
   "id": "666a7d2e",
   "metadata": {},
   "source": [
    "Wikishop online store launches a new service. Now users can edit and supplement product descriptions like in wiki communities. That is, customers offer their edits and comment on the changes of others. The store needs a tool that will search for toxic comments and send them for moderation. \n",
    "Train the model to categorize comments into positive and negative. You have a dataset with markup on the toxicity of edits.\n",
    "Goal: Build a model with a quality metric *F1* value of at least 0.75. "
   ]
  },
  {
   "cell_type": "markdown",
   "id": "2b671037",
   "metadata": {},
   "source": [
    "## Preparation"
   ]
  },
  {
   "cell_type": "code",
   "execution_count": 1,
   "id": "ee77ad28",
   "metadata": {},
   "outputs": [],
   "source": [
    "pip install catboost"
   ]
  },
  {
   "cell_type": "code",
   "execution_count": 2,
   "id": "999db72b",
   "metadata": {
    "scrolled": true
   },
   "outputs": [],
   "source": [
    "import pandas as pd\n",
    "import matplotlib.pyplot as plt\n",
    "import re\n",
    "import nltk\n",
    "from nltk.stem import WordNetLemmatizer\n",
    "from nltk.corpus import stopwords as nltk_stopwords\n",
    "from nltk.corpus import wordnet\n",
    "from sklearn.feature_extraction.text import TfidfVectorizer\n",
    "from sklearn.model_selection import train_test_split, GridSearchCV\n",
    "from sklearn.linear_model import LogisticRegression\n",
    "from sklearn.ensemble import RandomForestClassifier\n",
    "from sklearn.metrics import f1_score\n",
    "import catboost as cb"
   ]
  },
  {
   "cell_type": "code",
   "execution_count": 3,
   "id": "c172c458",
   "metadata": {},
   "outputs": [],
   "source": [
    "data = pd.read_csv('your_path')[['text', 'toxic']]"
   ]
  },
  {
   "cell_type": "code",
   "execution_count": 4,
   "id": "41803e83",
   "metadata": {},
   "outputs": [
    {
     "data": {
      "text/html": [
       "<div>\n",
       "<style scoped>\n",
       "    .dataframe tbody tr th:only-of-type {\n",
       "        vertical-align: middle;\n",
       "    }\n",
       "\n",
       "    .dataframe tbody tr th {\n",
       "        vertical-align: top;\n",
       "    }\n",
       "\n",
       "    .dataframe thead th {\n",
       "        text-align: right;\n",
       "    }\n",
       "</style>\n",
       "<table border=\"1\" class=\"dataframe\">\n",
       "  <thead>\n",
       "    <tr style=\"text-align: right;\">\n",
       "      <th></th>\n",
       "      <th>text</th>\n",
       "      <th>toxic</th>\n",
       "    </tr>\n",
       "  </thead>\n",
       "  <tbody>\n",
       "    <tr>\n",
       "      <th>0</th>\n",
       "      <td>Explanation\\nWhy the edits made under my usern...</td>\n",
       "      <td>0</td>\n",
       "    </tr>\n",
       "    <tr>\n",
       "      <th>1</th>\n",
       "      <td>D'aww! He matches this background colour I'm s...</td>\n",
       "      <td>0</td>\n",
       "    </tr>\n",
       "    <tr>\n",
       "      <th>2</th>\n",
       "      <td>Hey man, I'm really not trying to edit war. It...</td>\n",
       "      <td>0</td>\n",
       "    </tr>\n",
       "    <tr>\n",
       "      <th>3</th>\n",
       "      <td>\"\\nMore\\nI can't make any real suggestions on ...</td>\n",
       "      <td>0</td>\n",
       "    </tr>\n",
       "    <tr>\n",
       "      <th>4</th>\n",
       "      <td>You, sir, are my hero. Any chance you remember...</td>\n",
       "      <td>0</td>\n",
       "    </tr>\n",
       "  </tbody>\n",
       "</table>\n",
       "</div>"
      ],
      "text/plain": [
       "                                                text  toxic\n",
       "0  Explanation\\nWhy the edits made under my usern...      0\n",
       "1  D'aww! He matches this background colour I'm s...      0\n",
       "2  Hey man, I'm really not trying to edit war. It...      0\n",
       "3  \"\\nMore\\nI can't make any real suggestions on ...      0\n",
       "4  You, sir, are my hero. Any chance you remember...      0"
      ]
     },
     "execution_count": 4,
     "metadata": {},
     "output_type": "execute_result"
    }
   ],
   "source": [
    "data.head(5)"
   ]
  },
  {
   "cell_type": "code",
   "execution_count": 5,
   "id": "f28262cb",
   "metadata": {},
   "outputs": [
    {
     "data": {
      "image/png": "[encoded data removed]",
      "text/plain": [
       "<Figure size 640x480 with 1 Axes>"
      ]
     },
     "metadata": {},
     "output_type": "display_data"
    }
   ],
   "source": [
    "# Let's check the balance of the classes\n",
    "classes = ['Токчичный', 'Обычный']\n",
    "counts = [data[data['toxic'] == 1]['text'].count(), data[data['toxic'] != 1]['text'].count()]\n",
    "plt.bar(classes, counts)\n",
    "plt.xlabel('Классы')\n",
    "plt.ylabel('Количество данных')\n",
    "plt.title('Баланс классов')\n",
    "plt.show()"
   ]
  },
  {
   "cell_type": "markdown",
   "id": "5c9e60b7",
   "metadata": {},
   "source": [
    "**CONCLUSION**\n",
    "\n",
    "The data has been opened, brought to the required form.\n",
    "\n",
    "When checking the class balance, a significant class imbalance was found! Several approaches can be used to solve this problem:\n",
    "\n",
    "1. Using methods to increase or decrease the sample. One way is to increase the sample by duplicating data from the missing class or to decrease the sample by removing members of the predominant class.\n",
    "\n",
    "2. Changing the weights of the classes using the hyperparameters of the model. This approach allows the model to account for class imbalance in the calculation of the loss function and make the class weights more balanced.\n",
    "\n",
    "In this case, the first approach is not optimal, because removing representatives of the predominant class may result in the loss of a large amount of data, and duplicating the missing class may result in overfitting the model. Therefore, we will use the second approach - balancing of class weights using hyperparameters of the model."
   ]
  },
  {
   "cell_type": "markdown",
   "id": "4a19aa87",
   "metadata": {},
   "source": [
    "## Training"
   ]
  },
  {
   "cell_type": "code",
   "execution_count": 7,
   "id": "7147c5aa",
   "metadata": {},
   "outputs": [],
   "source": [
    "def get_wordnet_pos(pos):\n",
    "    if pos.startswith('J'):\n",
    "        return wordnet.ADJ\n",
    "    elif pos.startswith('V'):\n",
    "        return wordnet.VERB\n",
    "    elif pos.startswith('N'):\n",
    "        return wordnet.NOUN\n",
    "    elif pos.startswith('R'):\n",
    "        return wordnet.ADV\n",
    "    else:\n",
    "        return None\n",
    "\n",
    "def clear_lemmatize(text):\n",
    "    words = nltk.word_tokenize(text)\n",
    "    tagged_words = nltk.pos_tag(words)\n",
    "    \n",
    "    lemm = WordNetLemmatizer()\n",
    "    lemmatized_words = []\n",
    "    \n",
    "    for word, pos in tagged_words:\n",
    "        pos_tag = get_wordnet_pos(pos)\n",
    "        if pos_tag is not None:\n",
    "            lemmatized_word = lemm.lemmatize(word, pos=pos_tag)\n",
    "        else:\n",
    "            lemmatized_word = lemm.lemmatize(word)\n",
    "        lemmatized_words.append(lemmatized_word)\n",
    "    \n",
    "    return ' '.join(lemmatized_words)"
   ]
  },
  {
   "cell_type": "code",
   "execution_count": 8,
   "id": "89a6493c",
   "metadata": {},
   "outputs": [
    {
     "name": "stderr",
     "output_type": "stream",
     "text": [
      "[nltk_data] Downloading package wordnet to\n",
      "[nltk_data]     C:\\Users\\Олег\\AppData\\Roaming\\nltk_data...\n",
      "[nltk_data]   Package wordnet is already up-to-date!\n",
      "[nltk_data] Downloading package omw-1.4 to\n",
      "[nltk_data]     C:\\Users\\Олег\\AppData\\Roaming\\nltk_data...\n",
      "[nltk_data]   Package omw-1.4 is already up-to-date!\n",
      "[nltk_data] Downloading package punkt to\n",
      "[nltk_data]     C:\\Users\\Олег\\AppData\\Roaming\\nltk_data...\n",
      "[nltk_data]   Package punkt is already up-to-date!\n",
      "[nltk_data] Downloading package averaged_perceptron_tagger to\n",
      "[nltk_data]     C:\\Users\\Олег\\AppData\\Roaming\\nltk_data...\n",
      "[nltk_data]   Package averaged_perceptron_tagger is already up-to-\n",
      "[nltk_data]       date!\n"
     ]
    }
   ],
   "source": [
    "nltk.download('wordnet')\n",
    "nltk.download('omw-1.4')\n",
    "nltk.download('punkt')\n",
    "nltk.download('averaged_perceptron_tagger')\n",
    "data['lemm'] = data['text'].apply(clear_lemmatize)"
   ]
  },
  {
   "cell_type": "code",
   "execution_count": 9,
   "id": "58d1e64d",
   "metadata": {},
   "outputs": [
    {
     "data": {
      "text/html": [
       "<div>\n",
       "<style scoped>\n",
       "    .dataframe tbody tr th:only-of-type {\n",
       "        vertical-align: middle;\n",
       "    }\n",
       "\n",
       "    .dataframe tbody tr th {\n",
       "        vertical-align: top;\n",
       "    }\n",
       "\n",
       "    .dataframe thead th {\n",
       "        text-align: right;\n",
       "    }\n",
       "</style>\n",
       "<table border=\"1\" class=\"dataframe\">\n",
       "  <thead>\n",
       "    <tr style=\"text-align: right;\">\n",
       "      <th></th>\n",
       "      <th>text</th>\n",
       "      <th>toxic</th>\n",
       "      <th>lemm</th>\n",
       "    </tr>\n",
       "  </thead>\n",
       "  <tbody>\n",
       "    <tr>\n",
       "      <th>0</th>\n",
       "      <td>Explanation\\nWhy the edits made under my usern...</td>\n",
       "      <td>0</td>\n",
       "      <td>Explanation Why the edits make under my userna...</td>\n",
       "    </tr>\n",
       "    <tr>\n",
       "      <th>1</th>\n",
       "      <td>D'aww! He matches this background colour I'm s...</td>\n",
       "      <td>0</td>\n",
       "      <td>D'aww ! He match this background colour I 'm s...</td>\n",
       "    </tr>\n",
       "    <tr>\n",
       "      <th>2</th>\n",
       "      <td>Hey man, I'm really not trying to edit war. It...</td>\n",
       "      <td>0</td>\n",
       "      <td>Hey man , I 'm really not try to edit war . It...</td>\n",
       "    </tr>\n",
       "    <tr>\n",
       "      <th>3</th>\n",
       "      <td>\"\\nMore\\nI can't make any real suggestions on ...</td>\n",
       "      <td>0</td>\n",
       "      <td>`` More I ca n't make any real suggestion on i...</td>\n",
       "    </tr>\n",
       "    <tr>\n",
       "      <th>4</th>\n",
       "      <td>You, sir, are my hero. Any chance you remember...</td>\n",
       "      <td>0</td>\n",
       "      <td>You , sir , be my hero . Any chance you rememb...</td>\n",
       "    </tr>\n",
       "  </tbody>\n",
       "</table>\n",
       "</div>"
      ],
      "text/plain": [
       "                                                text  toxic  \\\n",
       "0  Explanation\\nWhy the edits made under my usern...      0   \n",
       "1  D'aww! He matches this background colour I'm s...      0   \n",
       "2  Hey man, I'm really not trying to edit war. It...      0   \n",
       "3  \"\\nMore\\nI can't make any real suggestions on ...      0   \n",
       "4  You, sir, are my hero. Any chance you remember...      0   \n",
       "\n",
       "                                                lemm  \n",
       "0  Explanation Why the edits make under my userna...  \n",
       "1  D'aww ! He match this background colour I 'm s...  \n",
       "2  Hey man , I 'm really not try to edit war . It...  \n",
       "3  `` More I ca n't make any real suggestion on i...  \n",
       "4  You , sir , be my hero . Any chance you rememb...  "
      ]
     },
     "execution_count": 9,
     "metadata": {},
     "output_type": "execute_result"
    }
   ],
   "source": [
    "data.head(5)"
   ]
  },
  {
   "cell_type": "code",
   "execution_count": 10,
   "id": "bef83798",
   "metadata": {},
   "outputs": [],
   "source": [
    "# Let's create the features\n",
    "features = data['lemm']\n",
    "target = data['toxic']"
   ]
  },
  {
   "cell_type": "code",
   "execution_count": 11,
   "id": "1f4cb5df",
   "metadata": {},
   "outputs": [],
   "source": [
    "features_train, features_test, target_train, target_test =\\\n",
    "train_test_split(features, target, test_size=0.25, random_state=404540)"
   ]
  },
  {
   "cell_type": "code",
   "execution_count": null,
   "id": "8096abf7",
   "metadata": {},
   "outputs": [],
   "source": [
    "nltk.download('stopwords')\n",
    "stop_words = set(nltk_stopwords.words('english'))\n",
    "tf_idf = TfidfVectorizer(stop_words=list(stop_words))\n",
    "\n",
    "\n",
    "features_train = tf_idf.fit_transform(features_train)\n",
    "features_test = tf_idf.transform(features_test)"
   ]
  },
  {
   "cell_type": "code",
   "execution_count": 13,
   "id": "174bda78",
   "metadata": {
    "scrolled": true
   },
   "outputs": [
    {
     "name": "stdout",
     "output_type": "stream",
     "text": [
      "Признаки: (119469, 152172) (39823, 152172)\n",
      "Таргет: (119469,) (39823,)\n"
     ]
    }
   ],
   "source": [
    "print('Признаки:', features_train.shape, features_test.shape)\n",
    "print('Таргет:', target_train.shape, target_test.shape)"
   ]
  },
  {
   "cell_type": "markdown",
   "id": "ff635501",
   "metadata": {},
   "source": [
    "I committed the cells to restart the notebook faster."
   ]
  },
  {
   "cell_type": "code",
   "execution_count": 14,
   "id": "a542fecd",
   "metadata": {},
   "outputs": [],
   "source": [
    "# Логистическая регрессия\n",
    "#model = LogisticRegression(fit_intercept=True, class_weight='balanced', solver='liblinear', random_state=404540)\n",
    "#hyper = {'C': range(5, 15, 1)}\n",
    "\n",
    "#grid_search = GridSearchCV(model, hyper, scoring='f1', cv=3)\n",
    "\n",
    "#grid_search.fit(features_train, target_train)\n",
    "\n",
    "#print('Best params:', grid_search.best_params_)\n",
    "#print('Best_score:', grid_search.best_score_)\n",
    "\n",
    "#output:\n",
    "#Best params: {'C': 7}\n",
    "#Best_score: 0.7678416400349272"
   ]
  },
  {
   "cell_type": "markdown",
   "id": "f13c8b60",
   "metadata": {},
   "source": [
    "The model showed good results and achieved the required metric indicator."
   ]
  },
  {
   "cell_type": "code",
   "execution_count": 15,
   "id": "d59c2fac",
   "metadata": {},
   "outputs": [],
   "source": [
    "# Случайный лес:\n",
    "#model = RandomForestClassifier(class_weight='balanced', n_jobs=-1 )\n",
    "\n",
    "#hyper = {'n_estimators': range(10, 100, 10),\n",
    "#         'max_depth': range(1, 11, 1)}\n",
    "\n",
    "#grid_search = GridSearchCV(model, hyper, scoring='f1', cv=3)\n",
    "\n",
    "#grid_search.fit(features_train, target_train)\n",
    "\n",
    "#print('Best params:', grid_search.best_params_)\n",
    "#print('Best_score:', grid_search.best_score_)\n",
    "\n",
    "#output:\n",
    "#Best params: {'max_depth': 9, 'n_estimators': 60}\n",
    "#Best_score: 0.3656327001369751и"
   ]
  },
  {
   "cell_type": "markdown",
   "id": "dc000629",
   "metadata": {},
   "source": [
    "We are rejecting the model. The requirements have not been met."
   ]
  },
  {
   "cell_type": "code",
   "execution_count": 16,
   "id": "ca0564e3",
   "metadata": {
    "scrolled": true
   },
   "outputs": [],
   "source": [
    "#zeroes = data['toxic'].value_counts()[0]\n",
    "#ones = data['toxic'].value_counts()[1]\n",
    "\n",
    "#model = cb.CatBoostClassifier(class_weights=[1, zeroes/ones], iterations=30)\n",
    "#hyper = {'depth': [4, 8],\n",
    "#        'learning_rate': [0.01, 0.1, 0.5]}\n",
    "\n",
    "#grid_search = GridSearchCV(model, hyper, scoring='f1', cv=3)\n",
    "#grid_search.fit(features_train, target_train, verbose=10)\n",
    "\n",
    "#print('Best params:', grid_search.best_params_)\n",
    "#print('Best_score:', grid_search.best_score_)\n",
    "\n",
    "#output:\n",
    "#Best params: {'depth': 8, 'learning_rate': 0.5}\n",
    "#Best_score: 0.6984151872649251"
   ]
  },
  {
   "cell_type": "markdown",
   "id": "e0239607",
   "metadata": {},
   "source": [
    "We are rejecting the model. The requirements have not been met."
   ]
  },
  {
   "cell_type": "markdown",
   "id": "5706a33b",
   "metadata": {},
   "source": [
    "**Conclusion**\n",
    "\n",
    "Feature vectorization was performed using TfidfVectorizer to generate features. The dataset was split into training and test sets.\n",
    "\n",
    "We tested three models with class balancing and selected the best hyperparameters. The models included Logistic Regression, Random Forest, and CatBoost. The best metric performance was achieved with Logistic Regression, and we will test it on the test set."
   ]
  },
  {
   "cell_type": "markdown",
   "id": "54fefbac",
   "metadata": {},
   "source": [
    "## Conclusion"
   ]
  },
  {
   "cell_type": "code",
   "execution_count": 17,
   "id": "b4b41919",
   "metadata": {},
   "outputs": [
    {
     "name": "stdout",
     "output_type": "stream",
     "text": [
      "F1_score: 0.7533456391324411\n"
     ]
    }
   ],
   "source": [
    "model = LogisticRegression(fit_intercept=True, class_weight='balanced', solver='liblinear', random_state=404540, C=7)\n",
    "model.fit(features_train, target_train)\n",
    "pred = model.predict(features_test)\n",
    "print('F1_score:',\n",
    "       f1_score(target_test, pred))"
   ]
  },
  {
   "cell_type": "markdown",
   "id": "6b93c898",
   "metadata": {},
   "source": [
    "\n",
    "Success! The task can be considered solved. The final model is: LogisticRegression(fit_intercept=True, class_weight='balanced', solver='liblinear', random_state=404540, C=7)"
   ]
  },
  {
   "cell_type": "markdown",
   "id": "d17d779e",
   "metadata": {},
   "source": [
    "**Final Conclusion:**\n",
    "\n",
    "During the analysis, a significant class imbalance was discovered, which could negatively impact the performance of machine learning models. To address this issue, two approaches were proposed: oversampling or undersampling, and adjusting class weights.\n",
    "\n",
    "Since removing instances of the majority class could lead to data loss, and duplicating instances of the minority class could cause model overfitting, the decision was made to use the second approach – balancing class weights using model hyperparameters.\n",
    "\n",
    "To achieve this, feature vectorization was performed using TfidfVectorizer, and the dataset was split into training and test sets. Three models were then tested: Logistic Regression, Random Forest, and CatBoost. The best hyperparameters were selected for each model.\n",
    "\n",
    "Ultimately, the best metric performance was achieved with Logistic Regression: `LogisticRegression(fit_intercept=True, class_weight='balanced', solver='liblinear', random_state=404540, C=7)`. The final metric (f1_score) achieved was 0.753."
   ]
  }
 ],
 "metadata": {
  "kernelspec": {
   "display_name": "Python 3 (ipykernel)",
   "language": "python",
   "name": "python3"
  },
  "language_info": {
   "codemirror_mode": {
    "name": "ipython",
    "version": 3
   },
   "file_extension": ".py",
   "mimetype": "text/x-python",
   "name": "python",
   "nbconvert_exporter": "python",
   "pygments_lexer": "ipython3",
   "version": "3.9.5"
  },
  "toc": {
   "base_numbering": 1,
   "nav_menu": {},
   "number_sections": true,
   "sideBar": true,
   "skip_h1_title": true,
   "title_cell": "Table of Contents",
   "title_sidebar": "Contents",
   "toc_cell": false,
   "toc_position": {},
   "toc_section_display": true,
   "toc_window_display": false
  }
 },
 "nbformat": 4,
 "nbformat_minor": 5
}
